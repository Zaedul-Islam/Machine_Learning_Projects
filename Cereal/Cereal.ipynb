{
  "nbformat": 4,
  "nbformat_minor": 0,
  "metadata": {
    "colab": {
      "name": "Cereal.ipynb",
      "provenance": [],
      "mount_file_id": "185qhjA_Cwgwj0nGQwWjUhu6ufK5-pbB_",
      "authorship_tag": "ABX9TyMFOxfiyDHv7Ojsp4eCwXJK",
      "include_colab_link": true
    },
    "kernelspec": {
      "name": "python3",
      "display_name": "Python 3"
    }
  },
  "cells": [
    {
      "cell_type": "markdown",
      "metadata": {
        "id": "view-in-github",
        "colab_type": "text"
      },
      "source": [
        "<a href=\"https://colab.research.google.com/github/Zaedul-Islam/Machine_Learning_Projects/blob/master/Cereal/Cereal.ipynb\" target=\"_parent\"><img src=\"https://colab.research.google.com/assets/colab-badge.svg\" alt=\"Open In Colab\"/></a>"
      ]
    },
    {
      "cell_type": "markdown",
      "metadata": {
        "id": "FXnkce7J6Ibs",
        "colab_type": "text"
      },
      "source": [
        "# **Hierarchical Clustering on Cereal Data**"
      ]
    },
    {
      "cell_type": "markdown",
      "metadata": {
        "id": "O5UWZWmoCeYT",
        "colab_type": "text"
      },
      "source": [
        "## **Importing the libraries**"
      ]
    },
    {
      "cell_type": "code",
      "metadata": {
        "id": "zA2l2y12CghS",
        "colab_type": "code",
        "colab": {}
      },
      "source": [
        "import numpy as np\n",
        "import matplotlib.pyplot as plt\n",
        "import pandas as pd"
      ],
      "execution_count": 0,
      "outputs": []
    },
    {
      "cell_type": "markdown",
      "metadata": {
        "id": "BY17SBSpCr92",
        "colab_type": "text"
      },
      "source": [
        "## **Reading 'cereal' dataset**"
      ]
    },
    {
      "cell_type": "code",
      "metadata": {
        "id": "49ppMxPswHAT",
        "colab_type": "code",
        "colab": {
          "base_uri": "https://localhost:8080/",
          "height": 204
        },
        "outputId": "9abe1ec6-01b6-4846-c5eb-39589f6b4a41"
      },
      "source": [
        "filepath = '/content/drive/My Drive/Colab Notebooks/Cereal/Dataset/cereal-updated.csv'\n",
        "dataset = pd.read_csv(filepath)\n",
        "\n",
        "dataset.head()"
      ],
      "execution_count": 2,
      "outputs": [
        {
          "output_type": "execute_result",
          "data": {
            "text/html": [
              "<div>\n",
              "<style scoped>\n",
              "    .dataframe tbody tr th:only-of-type {\n",
              "        vertical-align: middle;\n",
              "    }\n",
              "\n",
              "    .dataframe tbody tr th {\n",
              "        vertical-align: top;\n",
              "    }\n",
              "\n",
              "    .dataframe thead th {\n",
              "        text-align: right;\n",
              "    }\n",
              "</style>\n",
              "<table border=\"1\" class=\"dataframe\">\n",
              "  <thead>\n",
              "    <tr style=\"text-align: right;\">\n",
              "      <th></th>\n",
              "      <th>Cereals</th>\n",
              "      <th>calories</th>\n",
              "      <th>protein</th>\n",
              "      <th>fat</th>\n",
              "      <th>sodium</th>\n",
              "      <th>fiber</th>\n",
              "      <th>carbo</th>\n",
              "      <th>sugars</th>\n",
              "      <th>potass</th>\n",
              "      <th>vitamins</th>\n",
              "      <th>shelf</th>\n",
              "      <th>rating</th>\n",
              "    </tr>\n",
              "  </thead>\n",
              "  <tbody>\n",
              "    <tr>\n",
              "      <th>0</th>\n",
              "      <td>100%_Bran</td>\n",
              "      <td>70</td>\n",
              "      <td>4</td>\n",
              "      <td>1</td>\n",
              "      <td>130</td>\n",
              "      <td>10.0</td>\n",
              "      <td>5.0</td>\n",
              "      <td>6</td>\n",
              "      <td>280.0</td>\n",
              "      <td>25</td>\n",
              "      <td>3</td>\n",
              "      <td>68.402973</td>\n",
              "    </tr>\n",
              "    <tr>\n",
              "      <th>1</th>\n",
              "      <td>100%_Natural_Bran</td>\n",
              "      <td>120</td>\n",
              "      <td>3</td>\n",
              "      <td>5</td>\n",
              "      <td>15</td>\n",
              "      <td>2.0</td>\n",
              "      <td>8.0</td>\n",
              "      <td>8</td>\n",
              "      <td>135.0</td>\n",
              "      <td>0</td>\n",
              "      <td>3</td>\n",
              "      <td>33.983679</td>\n",
              "    </tr>\n",
              "    <tr>\n",
              "      <th>2</th>\n",
              "      <td>All-Bran</td>\n",
              "      <td>70</td>\n",
              "      <td>4</td>\n",
              "      <td>1</td>\n",
              "      <td>260</td>\n",
              "      <td>9.0</td>\n",
              "      <td>7.0</td>\n",
              "      <td>5</td>\n",
              "      <td>320.0</td>\n",
              "      <td>25</td>\n",
              "      <td>3</td>\n",
              "      <td>59.425505</td>\n",
              "    </tr>\n",
              "    <tr>\n",
              "      <th>3</th>\n",
              "      <td>All-Bran_with_Extra_Fiber</td>\n",
              "      <td>50</td>\n",
              "      <td>4</td>\n",
              "      <td>0</td>\n",
              "      <td>140</td>\n",
              "      <td>14.0</td>\n",
              "      <td>8.0</td>\n",
              "      <td>0</td>\n",
              "      <td>330.0</td>\n",
              "      <td>25</td>\n",
              "      <td>3</td>\n",
              "      <td>93.704912</td>\n",
              "    </tr>\n",
              "    <tr>\n",
              "      <th>4</th>\n",
              "      <td>Almond_Delight</td>\n",
              "      <td>110</td>\n",
              "      <td>2</td>\n",
              "      <td>2</td>\n",
              "      <td>200</td>\n",
              "      <td>1.0</td>\n",
              "      <td>14.0</td>\n",
              "      <td>8</td>\n",
              "      <td>NaN</td>\n",
              "      <td>25</td>\n",
              "      <td>3</td>\n",
              "      <td>34.384843</td>\n",
              "    </tr>\n",
              "  </tbody>\n",
              "</table>\n",
              "</div>"
            ],
            "text/plain": [
              "                     Cereals  calories  protein  ...  vitamins  shelf     rating\n",
              "0                  100%_Bran        70        4  ...        25      3  68.402973\n",
              "1          100%_Natural_Bran       120        3  ...         0      3  33.983679\n",
              "2                   All-Bran        70        4  ...        25      3  59.425505\n",
              "3  All-Bran_with_Extra_Fiber        50        4  ...        25      3  93.704912\n",
              "4             Almond_Delight       110        2  ...        25      3  34.384843\n",
              "\n",
              "[5 rows x 12 columns]"
            ]
          },
          "metadata": {
            "tags": []
          },
          "execution_count": 2
        }
      ]
    },
    {
      "cell_type": "code",
      "metadata": {
        "id": "VMEbjOi9yN5R",
        "colab_type": "code",
        "colab": {
          "base_uri": "https://localhost:8080/",
          "height": 340
        },
        "outputId": "ab8c0478-2b72-499c-f027-fd8dfe428310"
      },
      "source": [
        "dataset.info()"
      ],
      "execution_count": 3,
      "outputs": [
        {
          "output_type": "stream",
          "text": [
            "<class 'pandas.core.frame.DataFrame'>\n",
            "RangeIndex: 77 entries, 0 to 76\n",
            "Data columns (total 12 columns):\n",
            " #   Column    Non-Null Count  Dtype  \n",
            "---  ------    --------------  -----  \n",
            " 0   Cereals   77 non-null     object \n",
            " 1   calories  77 non-null     int64  \n",
            " 2   protein   77 non-null     int64  \n",
            " 3   fat       77 non-null     int64  \n",
            " 4   sodium    77 non-null     int64  \n",
            " 5   fiber     77 non-null     float64\n",
            " 6   carbo     77 non-null     float64\n",
            " 7   sugars    77 non-null     int64  \n",
            " 8   potass    75 non-null     float64\n",
            " 9   vitamins  77 non-null     int64  \n",
            " 10  shelf     77 non-null     int64  \n",
            " 11  rating    77 non-null     float64\n",
            "dtypes: float64(4), int64(7), object(1)\n",
            "memory usage: 7.3+ KB\n"
          ],
          "name": "stdout"
        }
      ]
    },
    {
      "cell_type": "markdown",
      "metadata": {
        "id": "4LQq7JJnyXEq",
        "colab_type": "text"
      },
      "source": [
        "**Findings:**\n",
        "1.  The *cereal* dataset contains 12 columns and 77 rows, but no missing values.\n"
      ]
    },
    {
      "cell_type": "code",
      "metadata": {
        "id": "hVGAQMwC2EeI",
        "colab_type": "code",
        "colab": {}
      },
      "source": [
        "X = dataset.iloc[:, [1, 11]].values"
      ],
      "execution_count": 0,
      "outputs": []
    }
  ]
}