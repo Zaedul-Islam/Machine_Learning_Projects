{
  "nbformat": 4,
  "nbformat_minor": 0,
  "metadata": {
    "colab": {
      "name": "Cereal.ipynb",
      "provenance": [],
      "collapsed_sections": [],
      "mount_file_id": "185qhjA_Cwgwj0nGQwWjUhu6ufK5-pbB_",
      "authorship_tag": "ABX9TyNfs8z44X/+IoaL5CUQah5v",
      "include_colab_link": true
    },
    "kernelspec": {
      "name": "python3",
      "display_name": "Python 3"
    }
  },
  "cells": [
    {
      "cell_type": "markdown",
      "metadata": {
        "id": "view-in-github",
        "colab_type": "text"
      },
      "source": [
        "<a href=\"https://colab.research.google.com/github/Zaedul-Islam/Machine_Learning_Projects/blob/master/Cereal/Cereal.ipynb\" target=\"_parent\"><img src=\"https://colab.research.google.com/assets/colab-badge.svg\" alt=\"Open In Colab\"/></a>"
      ]
    },
    {
      "cell_type": "markdown",
      "metadata": {
        "id": "FXnkce7J6Ibs",
        "colab_type": "text"
      },
      "source": [
        "# **Hierarchical Clustering on Cereal Data**"
      ]
    },
    {
      "cell_type": "markdown",
      "metadata": {
        "id": "O5UWZWmoCeYT",
        "colab_type": "text"
      },
      "source": [
        "## **Importing the libraries**"
      ]
    },
    {
      "cell_type": "code",
      "metadata": {
        "id": "zA2l2y12CghS",
        "colab_type": "code",
        "colab": {}
      },
      "source": [
        "import numpy as np\n",
        "import matplotlib.pyplot as plt\n",
        "import pandas as pd\n",
        "# Seaborn is a python library for visualizing data. It is built on top of matplotlib and closely integrated with pandas data structure\n",
        "import seaborn as sb \n",
        "\n",
        "# Some setting for this notebook to actually show the graphs inline\n",
        "%matplotlib inline\n",
        "np.set_printoptions(precision=5, suppress=True)  # suppress scientific float notation"
      ],
      "execution_count": 0,
      "outputs": []
    },
    {
      "cell_type": "markdown",
      "metadata": {
        "id": "BY17SBSpCr92",
        "colab_type": "text"
      },
      "source": [
        "## **Reading 'cereal' dataset**"
      ]
    },
    {
      "cell_type": "code",
      "metadata": {
        "id": "49ppMxPswHAT",
        "colab_type": "code",
        "colab": {
          "base_uri": "https://localhost:8080/",
          "height": 204
        },
        "outputId": "6eec3fe2-771f-4fe0-8ae2-010af2e2061e"
      },
      "source": [
        "filepath = '/content/drive/My Drive/Colab Notebooks/Cereal/Dataset/cereal-updated.csv'\n",
        "dataset = pd.read_csv(filepath)\n",
        "\n",
        "dataset.head()"
      ],
      "execution_count": 26,
      "outputs": [
        {
          "output_type": "execute_result",
          "data": {
            "text/html": [
              "<div>\n",
              "<style scoped>\n",
              "    .dataframe tbody tr th:only-of-type {\n",
              "        vertical-align: middle;\n",
              "    }\n",
              "\n",
              "    .dataframe tbody tr th {\n",
              "        vertical-align: top;\n",
              "    }\n",
              "\n",
              "    .dataframe thead th {\n",
              "        text-align: right;\n",
              "    }\n",
              "</style>\n",
              "<table border=\"1\" class=\"dataframe\">\n",
              "  <thead>\n",
              "    <tr style=\"text-align: right;\">\n",
              "      <th></th>\n",
              "      <th>Cereals</th>\n",
              "      <th>calories</th>\n",
              "      <th>protein</th>\n",
              "      <th>fat</th>\n",
              "      <th>sodium</th>\n",
              "      <th>fiber</th>\n",
              "      <th>carbo</th>\n",
              "      <th>sugars</th>\n",
              "      <th>potass</th>\n",
              "      <th>vitamins</th>\n",
              "      <th>shelf</th>\n",
              "      <th>rating</th>\n",
              "    </tr>\n",
              "  </thead>\n",
              "  <tbody>\n",
              "    <tr>\n",
              "      <th>0</th>\n",
              "      <td>100%_Bran</td>\n",
              "      <td>70</td>\n",
              "      <td>4</td>\n",
              "      <td>1</td>\n",
              "      <td>130</td>\n",
              "      <td>10.0</td>\n",
              "      <td>5.0</td>\n",
              "      <td>6</td>\n",
              "      <td>280.0</td>\n",
              "      <td>25</td>\n",
              "      <td>3</td>\n",
              "      <td>68.402973</td>\n",
              "    </tr>\n",
              "    <tr>\n",
              "      <th>1</th>\n",
              "      <td>100%_Natural_Bran</td>\n",
              "      <td>120</td>\n",
              "      <td>3</td>\n",
              "      <td>5</td>\n",
              "      <td>15</td>\n",
              "      <td>2.0</td>\n",
              "      <td>8.0</td>\n",
              "      <td>8</td>\n",
              "      <td>135.0</td>\n",
              "      <td>0</td>\n",
              "      <td>3</td>\n",
              "      <td>33.983679</td>\n",
              "    </tr>\n",
              "    <tr>\n",
              "      <th>2</th>\n",
              "      <td>All-Bran</td>\n",
              "      <td>70</td>\n",
              "      <td>4</td>\n",
              "      <td>1</td>\n",
              "      <td>260</td>\n",
              "      <td>9.0</td>\n",
              "      <td>7.0</td>\n",
              "      <td>5</td>\n",
              "      <td>320.0</td>\n",
              "      <td>25</td>\n",
              "      <td>3</td>\n",
              "      <td>59.425505</td>\n",
              "    </tr>\n",
              "    <tr>\n",
              "      <th>3</th>\n",
              "      <td>All-Bran_with_Extra_Fiber</td>\n",
              "      <td>50</td>\n",
              "      <td>4</td>\n",
              "      <td>0</td>\n",
              "      <td>140</td>\n",
              "      <td>14.0</td>\n",
              "      <td>8.0</td>\n",
              "      <td>0</td>\n",
              "      <td>330.0</td>\n",
              "      <td>25</td>\n",
              "      <td>3</td>\n",
              "      <td>93.704912</td>\n",
              "    </tr>\n",
              "    <tr>\n",
              "      <th>4</th>\n",
              "      <td>Almond_Delight</td>\n",
              "      <td>110</td>\n",
              "      <td>2</td>\n",
              "      <td>2</td>\n",
              "      <td>200</td>\n",
              "      <td>1.0</td>\n",
              "      <td>14.0</td>\n",
              "      <td>8</td>\n",
              "      <td>NaN</td>\n",
              "      <td>25</td>\n",
              "      <td>3</td>\n",
              "      <td>34.384843</td>\n",
              "    </tr>\n",
              "  </tbody>\n",
              "</table>\n",
              "</div>"
            ],
            "text/plain": [
              "                     Cereals  calories  protein  ...  vitamins  shelf     rating\n",
              "0                  100%_Bran        70        4  ...        25      3  68.402973\n",
              "1          100%_Natural_Bran       120        3  ...         0      3  33.983679\n",
              "2                   All-Bran        70        4  ...        25      3  59.425505\n",
              "3  All-Bran_with_Extra_Fiber        50        4  ...        25      3  93.704912\n",
              "4             Almond_Delight       110        2  ...        25      3  34.384843\n",
              "\n",
              "[5 rows x 12 columns]"
            ]
          },
          "metadata": {
            "tags": []
          },
          "execution_count": 26
        }
      ]
    },
    {
      "cell_type": "code",
      "metadata": {
        "id": "VMEbjOi9yN5R",
        "colab_type": "code",
        "colab": {
          "base_uri": "https://localhost:8080/",
          "height": 340
        },
        "outputId": "fedec082-f155-477e-eb7d-f616c674ead7"
      },
      "source": [
        "dataset.info()"
      ],
      "execution_count": 27,
      "outputs": [
        {
          "output_type": "stream",
          "text": [
            "<class 'pandas.core.frame.DataFrame'>\n",
            "RangeIndex: 77 entries, 0 to 76\n",
            "Data columns (total 12 columns):\n",
            " #   Column    Non-Null Count  Dtype  \n",
            "---  ------    --------------  -----  \n",
            " 0   Cereals   77 non-null     object \n",
            " 1   calories  77 non-null     int64  \n",
            " 2   protein   77 non-null     int64  \n",
            " 3   fat       77 non-null     int64  \n",
            " 4   sodium    77 non-null     int64  \n",
            " 5   fiber     77 non-null     float64\n",
            " 6   carbo     77 non-null     float64\n",
            " 7   sugars    77 non-null     int64  \n",
            " 8   potass    75 non-null     float64\n",
            " 9   vitamins  77 non-null     int64  \n",
            " 10  shelf     77 non-null     int64  \n",
            " 11  rating    77 non-null     float64\n",
            "dtypes: float64(4), int64(7), object(1)\n",
            "memory usage: 7.3+ KB\n"
          ],
          "name": "stdout"
        }
      ]
    },
    {
      "cell_type": "markdown",
      "metadata": {
        "id": "4LQq7JJnyXEq",
        "colab_type": "text"
      },
      "source": [
        "**Findings:**\n",
        "1.  The *cereal* dataset contains 12 columns and 77 rows, but no missing values.\n"
      ]
    },
    {
      "cell_type": "markdown",
      "metadata": {
        "id": "M30BmBMnomYx",
        "colab_type": "text"
      },
      "source": [
        "## **Questions & Answers**"
      ]
    },
    {
      "cell_type": "markdown",
      "metadata": {
        "id": "YvsrnsbZo0jh",
        "colab_type": "text"
      },
      "source": [
        "### 1. Is a strong correlation between dietary fiber and potassium?"
      ]
    },
    {
      "cell_type": "markdown",
      "metadata": {
        "id": "n-bm7HzH0UOQ",
        "colab_type": "text"
      },
      "source": [
        "1. Plotting *fiber* in x-axis and *potass* in y-axis of a Scatter Diagram"
      ]
    },
    {
      "cell_type": "code",
      "metadata": {
        "id": "ztBQbVWYolyW",
        "colab_type": "code",
        "colab": {
          "base_uri": "https://localhost:8080/",
          "height": 525
        },
        "outputId": "67eeabf4-2965-4d1e-8622-14ec9cb23b84"
      },
      "source": [
        "dataset.plot(x = 'fiber', y = 'potass', kind = 'scatter', figsize = (20, 8), title = 'Dietary fiber vs Potassium', fontsize = 12, c = 'DarkBlue',  s = 60)\n",
        "\n",
        "plt.xlabel('Dietary fiber', fontsize = 14)\n",
        "plt.ylabel('Potassium', fontsize = 14)\n",
        "plt.rcParams['axes.titlesize'] = 20\n",
        "\n",
        "# To show the Scatter Diagram\n",
        "plt.show()"
      ],
      "execution_count": 28,
      "outputs": [
        {
          "output_type": "display_data",
          "data": {
            "image/png": "[encoded data removed]",
            "text/plain": [
              "<Figure size 1440x576 with 1 Axes>"
            ]
          },
          "metadata": {
            "tags": [],
            "needs_background": "light"
          }
        }
      ]
    },
    {
      "cell_type": "markdown",
      "metadata": {
        "id": "7q-dTGbbFeIL",
        "colab_type": "text"
      },
      "source": [
        "**Findings:**\n",
        "1. Yes, there is a strong correlation between dietary fiber and potassium. Examining the plot area in the graph, the points produce a lower-left-to-upper-right pattern (see below), which shows a positive correlation between dietary fiber and potassium to be specific. This pattern means that when the score of one observation is high, we expect the score of the other observation to be high as well, and vice versa. The below Scatter plot shows the correlation,"
      ]
    },
    {
      "cell_type": "markdown",
      "metadata": {
        "id": "WrA0igssCmlz",
        "colab_type": "text"
      },
      "source": [
        "> `DataFrame.corr(self, method='pearson', min_periods=1) → 'DataFrame'` |\n",
        "> Compute pairwise correlation of columns, excluding NA/null values.\n",
        "\n",
        "A co-efficient close to 1 means that there’s a very strong positive correlation between the two variables.\n",
        "\n",
        "**Method of correlation:**\n",
        "* **pearson**: standard correlation coefficient\n",
        "* **kendall**: Kendall Tau correlation coefficient\n",
        "* **spearman**: Spearman rank correlation"
      ]
    },
    {
      "cell_type": "code",
      "metadata": {
        "id": "TF9DFfvP_TYL",
        "colab_type": "code",
        "colab": {
          "base_uri": "https://localhost:8080/",
          "height": 68
        },
        "outputId": "9a2b1c92-d172-473d-add0-d7173c027704"
      },
      "source": [
        "# method='pearson'\n",
        "pearsonCorrelation = dataset['fiber'].corr(dataset['potass'], method='pearson')\n",
        "print(\"pearson: \", pearsonCorrelation)\n",
        "\n",
        "# method='kendall'\n",
        "kendallCorrelation = dataset['fiber'].corr(dataset['potass'], method='kendall')\n",
        "print(\"kendall: \", kendallCorrelation)\n",
        "\n",
        "# method='spearman'\n",
        "spearmanCorrelation = dataset['fiber'].corr(dataset['potass'], method='spearman')\n",
        "print(\"spearman: \", spearmanCorrelation)"
      ],
      "execution_count": 29,
      "outputs": [
        {
          "output_type": "stream",
          "text": [
            "pearson:  0.9115276937579344\n",
            "kendall:  0.7199265239456974\n",
            "spearman:  0.8651753038218196\n"
          ],
          "name": "stdout"
        }
      ]
    },
    {
      "cell_type": "markdown",
      "metadata": {
        "id": "3Q_fc7OPFUn7",
        "colab_type": "text"
      },
      "source": [
        "**Findings:**\n",
        "1. Using all 3 methods to find correlation bewteen *fiber* and *potass*, it's clearly evident that there’s a very strong positive correlation between them."
      ]
    },
    {
      "cell_type": "markdown",
      "metadata": {
        "id": "YTK6cxBiKf32",
        "colab_type": "text"
      },
      "source": [
        "### 3. See other correlation between the data given in the files."
      ]
    },
    {
      "cell_type": "code",
      "metadata": {
        "id": "1q9H5MgPKiOW",
        "colab_type": "code",
        "colab": {
          "base_uri": "https://localhost:8080/",
          "height": 390
        },
        "outputId": "97d327eb-1161-46b4-b56b-5df1214ea245"
      },
      "source": [
        "# Calculating the Pearson Corellation\n",
        "pearsonCorrelation = dataset.corr(method = 'pearson')\n",
        "\n",
        "pearsonCorrelation"
      ],
      "execution_count": 34,
      "outputs": [
        {
          "output_type": "execute_result",
          "data": {
            "text/html": [
              "<div>\n",
              "<style scoped>\n",
              "    .dataframe tbody tr th:only-of-type {\n",
              "        vertical-align: middle;\n",
              "    }\n",
              "\n",
              "    .dataframe tbody tr th {\n",
              "        vertical-align: top;\n",
              "    }\n",
              "\n",
              "    .dataframe thead th {\n",
              "        text-align: right;\n",
              "    }\n",
              "</style>\n",
              "<table border=\"1\" class=\"dataframe\">\n",
              "  <thead>\n",
              "    <tr style=\"text-align: right;\">\n",
              "      <th></th>\n",
              "      <th>calories</th>\n",
              "      <th>protein</th>\n",
              "      <th>fat</th>\n",
              "      <th>sodium</th>\n",
              "      <th>fiber</th>\n",
              "      <th>carbo</th>\n",
              "      <th>sugars</th>\n",
              "      <th>potass</th>\n",
              "      <th>vitamins</th>\n",
              "      <th>shelf</th>\n",
              "      <th>rating</th>\n",
              "    </tr>\n",
              "  </thead>\n",
              "  <tbody>\n",
              "    <tr>\n",
              "      <th>calories</th>\n",
              "      <td>1.000000</td>\n",
              "      <td>0.019066</td>\n",
              "      <td>0.498610</td>\n",
              "      <td>0.300649</td>\n",
              "      <td>-0.293413</td>\n",
              "      <td>0.250681</td>\n",
              "      <td>0.562340</td>\n",
              "      <td>-0.072063</td>\n",
              "      <td>0.265356</td>\n",
              "      <td>0.097234</td>\n",
              "      <td>-0.689376</td>\n",
              "    </tr>\n",
              "    <tr>\n",
              "      <th>protein</th>\n",
              "      <td>0.019066</td>\n",
              "      <td>1.000000</td>\n",
              "      <td>0.208431</td>\n",
              "      <td>-0.054674</td>\n",
              "      <td>0.500330</td>\n",
              "      <td>-0.130864</td>\n",
              "      <td>-0.329142</td>\n",
              "      <td>0.563706</td>\n",
              "      <td>0.007335</td>\n",
              "      <td>0.133865</td>\n",
              "      <td>0.470618</td>\n",
              "    </tr>\n",
              "    <tr>\n",
              "      <th>fat</th>\n",
              "      <td>0.498610</td>\n",
              "      <td>0.208431</td>\n",
              "      <td>1.000000</td>\n",
              "      <td>-0.005407</td>\n",
              "      <td>0.016719</td>\n",
              "      <td>-0.318043</td>\n",
              "      <td>0.270819</td>\n",
              "      <td>0.200445</td>\n",
              "      <td>-0.031156</td>\n",
              "      <td>0.263691</td>\n",
              "      <td>-0.409284</td>\n",
              "    </tr>\n",
              "    <tr>\n",
              "      <th>sodium</th>\n",
              "      <td>0.300649</td>\n",
              "      <td>-0.054674</td>\n",
              "      <td>-0.005407</td>\n",
              "      <td>1.000000</td>\n",
              "      <td>-0.070675</td>\n",
              "      <td>0.355983</td>\n",
              "      <td>0.101451</td>\n",
              "      <td>-0.042632</td>\n",
              "      <td>0.361477</td>\n",
              "      <td>-0.069719</td>\n",
              "      <td>-0.401295</td>\n",
              "    </tr>\n",
              "    <tr>\n",
              "      <th>fiber</th>\n",
              "      <td>-0.293413</td>\n",
              "      <td>0.500330</td>\n",
              "      <td>0.016719</td>\n",
              "      <td>-0.070675</td>\n",
              "      <td>1.000000</td>\n",
              "      <td>-0.356083</td>\n",
              "      <td>-0.141205</td>\n",
              "      <td>0.911528</td>\n",
              "      <td>-0.032243</td>\n",
              "      <td>0.297539</td>\n",
              "      <td>0.584160</td>\n",
              "    </tr>\n",
              "    <tr>\n",
              "      <th>carbo</th>\n",
              "      <td>0.250681</td>\n",
              "      <td>-0.130864</td>\n",
              "      <td>-0.318043</td>\n",
              "      <td>0.355983</td>\n",
              "      <td>-0.356083</td>\n",
              "      <td>1.000000</td>\n",
              "      <td>-0.331665</td>\n",
              "      <td>-0.338301</td>\n",
              "      <td>0.258148</td>\n",
              "      <td>-0.101790</td>\n",
              "      <td>0.052055</td>\n",
              "    </tr>\n",
              "    <tr>\n",
              "      <th>sugars</th>\n",
              "      <td>0.562340</td>\n",
              "      <td>-0.329142</td>\n",
              "      <td>0.270819</td>\n",
              "      <td>0.101451</td>\n",
              "      <td>-0.141205</td>\n",
              "      <td>-0.331665</td>\n",
              "      <td>1.000000</td>\n",
              "      <td>-0.002600</td>\n",
              "      <td>0.125137</td>\n",
              "      <td>0.100438</td>\n",
              "      <td>-0.759675</td>\n",
              "    </tr>\n",
              "    <tr>\n",
              "      <th>potass</th>\n",
              "      <td>-0.072063</td>\n",
              "      <td>0.563706</td>\n",
              "      <td>0.200445</td>\n",
              "      <td>-0.042632</td>\n",
              "      <td>0.911528</td>\n",
              "      <td>-0.338301</td>\n",
              "      <td>-0.002600</td>\n",
              "      <td>1.000000</td>\n",
              "      <td>-0.005427</td>\n",
              "      <td>0.385784</td>\n",
              "      <td>0.416009</td>\n",
              "    </tr>\n",
              "    <tr>\n",
              "      <th>vitamins</th>\n",
              "      <td>0.265356</td>\n",
              "      <td>0.007335</td>\n",
              "      <td>-0.031156</td>\n",
              "      <td>0.361477</td>\n",
              "      <td>-0.032243</td>\n",
              "      <td>0.258148</td>\n",
              "      <td>0.125137</td>\n",
              "      <td>-0.005427</td>\n",
              "      <td>1.000000</td>\n",
              "      <td>0.299262</td>\n",
              "      <td>-0.240544</td>\n",
              "    </tr>\n",
              "    <tr>\n",
              "      <th>shelf</th>\n",
              "      <td>0.097234</td>\n",
              "      <td>0.133865</td>\n",
              "      <td>0.263691</td>\n",
              "      <td>-0.069719</td>\n",
              "      <td>0.297539</td>\n",
              "      <td>-0.101790</td>\n",
              "      <td>0.100438</td>\n",
              "      <td>0.385784</td>\n",
              "      <td>0.299262</td>\n",
              "      <td>1.000000</td>\n",
              "      <td>0.025159</td>\n",
              "    </tr>\n",
              "    <tr>\n",
              "      <th>rating</th>\n",
              "      <td>-0.689376</td>\n",
              "      <td>0.470618</td>\n",
              "      <td>-0.409284</td>\n",
              "      <td>-0.401295</td>\n",
              "      <td>0.584160</td>\n",
              "      <td>0.052055</td>\n",
              "      <td>-0.759675</td>\n",
              "      <td>0.416009</td>\n",
              "      <td>-0.240544</td>\n",
              "      <td>0.025159</td>\n",
              "      <td>1.000000</td>\n",
              "    </tr>\n",
              "  </tbody>\n",
              "</table>\n",
              "</div>"
            ],
            "text/plain": [
              "          calories   protein       fat  ...  vitamins     shelf    rating\n",
              "calories  1.000000  0.019066  0.498610  ...  0.265356  0.097234 -0.689376\n",
              "protein   0.019066  1.000000  0.208431  ...  0.007335  0.133865  0.470618\n",
              "fat       0.498610  0.208431  1.000000  ... -0.031156  0.263691 -0.409284\n",
              "sodium    0.300649 -0.054674 -0.005407  ...  0.361477 -0.069719 -0.401295\n",
              "fiber    -0.293413  0.500330  0.016719  ... -0.032243  0.297539  0.584160\n",
              "carbo     0.250681 -0.130864 -0.318043  ...  0.258148 -0.101790  0.052055\n",
              "sugars    0.562340 -0.329142  0.270819  ...  0.125137  0.100438 -0.759675\n",
              "potass   -0.072063  0.563706  0.200445  ... -0.005427  0.385784  0.416009\n",
              "vitamins  0.265356  0.007335 -0.031156  ...  1.000000  0.299262 -0.240544\n",
              "shelf     0.097234  0.133865  0.263691  ...  0.299262  1.000000  0.025159\n",
              "rating   -0.689376  0.470618 -0.409284  ... -0.240544  0.025159  1.000000\n",
              "\n",
              "[11 rows x 11 columns]"
            ]
          },
          "metadata": {
            "tags": []
          },
          "execution_count": 34
        }
      ]
    },
    {
      "cell_type": "code",
      "metadata": {
        "id": "jiuxKousMGSL",
        "colab_type": "code",
        "colab": {
          "base_uri": "https://localhost:8080/",
          "height": 504
        },
        "outputId": "31c21ba4-9e2d-4063-946d-1c0266854632"
      },
      "source": [
        "plt.figure(figsize = (20, 8))\n",
        "\n",
        "sb.heatmap(pearsonCorrelation, \n",
        "            xticklabels=pearsonCorrelation.columns,\n",
        "            yticklabels=pearsonCorrelation.columns,\n",
        "            cmap='RdBu_r',\n",
        "            annot=True,\n",
        "            linewidth=0.8)"
      ],
      "execution_count": 46,
      "outputs": [
        {
          "output_type": "execute_result",
          "data": {
            "text/plain": [
              "<matplotlib.axes._subplots.AxesSubplot at 0x7fd2c19690f0>"
            ]
          },
          "metadata": {
            "tags": []
          },
          "execution_count": 46
        },
        {
          "output_type": "display_data",
          "data": {
            "image/png": "[encoded data removed]",
            "text/plain": [
              "<Figure size 1440x576 with 2 Axes>"
            ]
          },
          "metadata": {
            "tags": [],
            "needs_background": "light"
          }
        }
      ]
    },
    {
      "cell_type": "markdown",
      "metadata": {
        "id": "RmFoYMm1McJV",
        "colab_type": "text"
      },
      "source": [
        "**Results and Interpretation:**\n",
        "\n",
        "A co-efficient close to 1 means that there’s a very strong positive correlation between the two variables. In our case, the maroon shows very strong correlations. The diagonal line is the correlation of the variables to themselves — so they’ll obviously be 1."
      ]
    }
  ]
}