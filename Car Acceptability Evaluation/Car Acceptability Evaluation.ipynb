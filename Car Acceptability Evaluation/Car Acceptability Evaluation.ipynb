{
  "nbformat": 4,
  "nbformat_minor": 0,
  "metadata": {
    "colab": {
      "name": "Car Acceptability Evaluation.ipynb",
      "provenance": [],
      "collapsed_sections": [],
      "mount_file_id": "1ffpIpr0DZKG86VKQxpSZK7a4X_elxGDW",
      "authorship_tag": "ABX9TyNB7BBPWKiXU5csCDF08Nls",
      "include_colab_link": true
    },
    "kernelspec": {
      "name": "python3",
      "display_name": "Python 3"
    }
  },
  "cells": [
    {
      "cell_type": "markdown",
      "metadata": {
        "id": "view-in-github",
        "colab_type": "text"
      },
      "source": [
        "<a href=\"https://colab.research.google.com/github/Zaedul-Islam/Machine_Learning_Projects/blob/master/Car%20Acceptability%20Evaluation/Car%20Acceptability%20Evaluation.ipynb\" target=\"_parent\"><img src=\"https://colab.research.google.com/assets/colab-badge.svg\" alt=\"Open In Colab\"/></a>"
      ]
    },
    {
      "cell_type": "markdown",
      "metadata": {
        "id": "BN-769vhhMf3",
        "colab_type": "text"
      },
      "source": [
        "# **Car Acceptability Evaluation**"
      ]
    },
    {
      "cell_type": "markdown",
      "metadata": {
        "id": "qqLf3S-eiNYa",
        "colab_type": "text"
      },
      "source": [
        "## **Importing the libraries**"
      ]
    },
    {
      "cell_type": "code",
      "metadata": {
        "id": "76ctdU8wg0p-",
        "colab_type": "code",
        "colab": {}
      },
      "source": [
        "import numpy as np\n",
        "import matplotlib.pyplot as plt\n",
        "import pandas as pd\n",
        "\n",
        "# Seaborn is a python library for visualizing data. It is built on top of matplotlib and closely integrated with pandas data structure\n",
        "import seaborn as sns\n",
        "\n",
        "from sklearn.preprocessing import LabelEncoder, OneHotEncoder\n",
        "\n",
        "# Some setting for this notebook to actually show the graphs inline\n",
        "%matplotlib inline\n",
        "np.set_printoptions(precision=5, suppress=True)  # Suppress scientific float notation"
      ],
      "execution_count": 0,
      "outputs": []
    },
    {
      "cell_type": "markdown",
      "metadata": {
        "id": "I0sYfZuMj77Z",
        "colab_type": "text"
      },
      "source": [
        "## **Reading 'cereal' dataset**"
      ]
    },
    {
      "cell_type": "code",
      "metadata": {
        "id": "OgubRyMBkpZZ",
        "colab_type": "code",
        "colab": {}
      },
      "source": [
        "filepath = '/content/drive/My Drive/Colab Notebooks/Machine Learning Projects/Car Acceptability Evaluation/Dataset/car.csv'\n",
        "dataset = pd.read_csv(filepath)"
      ],
      "execution_count": 0,
      "outputs": []
    },
    {
      "cell_type": "markdown",
      "metadata": {
        "id": "WCqyO4ACnwUK",
        "colab_type": "text"
      },
      "source": [
        "## **Exploratory Data Analysis**"
      ]
    },
    {
      "cell_type": "code",
      "metadata": {
        "id": "u4nJPk7Nnxm6",
        "colab_type": "code",
        "colab": {
          "base_uri": "https://localhost:8080/",
          "height": 204
        },
        "outputId": "cfc05226-4eb2-497e-f3bf-93d8b480e7d4"
      },
      "source": [
        "dataset.head(5)"
      ],
      "execution_count": 4,
      "outputs": [
        {
          "output_type": "execute_result",
          "data": {
            "text/html": [
              "<div>\n",
              "<style scoped>\n",
              "    .dataframe tbody tr th:only-of-type {\n",
              "        vertical-align: middle;\n",
              "    }\n",
              "\n",
              "    .dataframe tbody tr th {\n",
              "        vertical-align: top;\n",
              "    }\n",
              "\n",
              "    .dataframe thead th {\n",
              "        text-align: right;\n",
              "    }\n",
              "</style>\n",
              "<table border=\"1\" class=\"dataframe\">\n",
              "  <thead>\n",
              "    <tr style=\"text-align: right;\">\n",
              "      <th></th>\n",
              "      <th>buying</th>\n",
              "      <th>maint</th>\n",
              "      <th>doors</th>\n",
              "      <th>persons</th>\n",
              "      <th>lug_boot</th>\n",
              "      <th>safety</th>\n",
              "      <th>class</th>\n",
              "    </tr>\n",
              "  </thead>\n",
              "  <tbody>\n",
              "    <tr>\n",
              "      <th>0</th>\n",
              "      <td>vhigh</td>\n",
              "      <td>vhigh</td>\n",
              "      <td>2</td>\n",
              "      <td>2</td>\n",
              "      <td>small</td>\n",
              "      <td>low</td>\n",
              "      <td>unacc</td>\n",
              "    </tr>\n",
              "    <tr>\n",
              "      <th>1</th>\n",
              "      <td>vhigh</td>\n",
              "      <td>vhigh</td>\n",
              "      <td>2</td>\n",
              "      <td>2</td>\n",
              "      <td>small</td>\n",
              "      <td>med</td>\n",
              "      <td>unacc</td>\n",
              "    </tr>\n",
              "    <tr>\n",
              "      <th>2</th>\n",
              "      <td>vhigh</td>\n",
              "      <td>vhigh</td>\n",
              "      <td>2</td>\n",
              "      <td>2</td>\n",
              "      <td>small</td>\n",
              "      <td>high</td>\n",
              "      <td>unacc</td>\n",
              "    </tr>\n",
              "    <tr>\n",
              "      <th>3</th>\n",
              "      <td>vhigh</td>\n",
              "      <td>vhigh</td>\n",
              "      <td>2</td>\n",
              "      <td>2</td>\n",
              "      <td>med</td>\n",
              "      <td>low</td>\n",
              "      <td>unacc</td>\n",
              "    </tr>\n",
              "    <tr>\n",
              "      <th>4</th>\n",
              "      <td>vhigh</td>\n",
              "      <td>vhigh</td>\n",
              "      <td>2</td>\n",
              "      <td>2</td>\n",
              "      <td>med</td>\n",
              "      <td>med</td>\n",
              "      <td>unacc</td>\n",
              "    </tr>\n",
              "  </tbody>\n",
              "</table>\n",
              "</div>"
            ],
            "text/plain": [
              "  buying  maint doors persons lug_boot safety  class\n",
              "0  vhigh  vhigh     2       2    small    low  unacc\n",
              "1  vhigh  vhigh     2       2    small    med  unacc\n",
              "2  vhigh  vhigh     2       2    small   high  unacc\n",
              "3  vhigh  vhigh     2       2      med    low  unacc\n",
              "4  vhigh  vhigh     2       2      med    med  unacc"
            ]
          },
          "metadata": {
            "tags": []
          },
          "execution_count": 4
        }
      ]
    },
    {
      "cell_type": "code",
      "metadata": {
        "id": "n_LQLVwMlt3o",
        "colab_type": "code",
        "colab": {
          "base_uri": "https://localhost:8080/",
          "height": 255
        },
        "outputId": "bc8416a8-c9a8-4b82-875e-aced595e9310"
      },
      "source": [
        "dataset.info()"
      ],
      "execution_count": 5,
      "outputs": [
        {
          "output_type": "stream",
          "text": [
            "<class 'pandas.core.frame.DataFrame'>\n",
            "RangeIndex: 1728 entries, 0 to 1727\n",
            "Data columns (total 7 columns):\n",
            " #   Column    Non-Null Count  Dtype \n",
            "---  ------    --------------  ----- \n",
            " 0   buying    1728 non-null   object\n",
            " 1   maint     1728 non-null   object\n",
            " 2   doors     1728 non-null   object\n",
            " 3   persons   1728 non-null   object\n",
            " 4   lug_boot  1728 non-null   object\n",
            " 5   safety    1728 non-null   object\n",
            " 6   class     1728 non-null   object\n",
            "dtypes: object(7)\n",
            "memory usage: 94.6+ KB\n"
          ],
          "name": "stdout"
        }
      ]
    },
    {
      "cell_type": "markdown",
      "metadata": {
        "id": "CymuYREglytj",
        "colab_type": "text"
      },
      "source": [
        "**Findings**:\n",
        "1. No missing values in the dataset and all columns are ***Categorical***."
      ]
    },
    {
      "cell_type": "code",
      "metadata": {
        "id": "_7UsI5xCm3SZ",
        "colab_type": "code",
        "colab": {
          "base_uri": "https://localhost:8080/",
          "height": 136
        },
        "outputId": "649fc30c-95c8-48e7-a69c-d7d49a730513"
      },
      "source": [
        "# Check for unique values and their count in each column\n",
        "for column in dataset.columns:\n",
        "    print(dataset[column].unique(), '\\t', dataset[column].nunique())"
      ],
      "execution_count": 6,
      "outputs": [
        {
          "output_type": "stream",
          "text": [
            "['vhigh' 'high' 'med' 'low'] \t 4\n",
            "['vhigh' 'high' 'med' 'low'] \t 4\n",
            "['2' '3' '4' '5more'] \t 4\n",
            "['2' '4' 'more'] \t 3\n",
            "['small' 'med' 'big'] \t 3\n",
            "['low' 'med' 'high'] \t 3\n",
            "['unacc' 'acc' 'vgood' 'good'] \t 4\n"
          ],
          "name": "stdout"
        }
      ]
    },
    {
      "cell_type": "code",
      "metadata": {
        "id": "xFK2VDMwoKNN",
        "colab_type": "code",
        "colab": {
          "base_uri": "https://localhost:8080/",
          "height": 680
        },
        "outputId": "e61eb6d0-bf5a-4f8f-d6a8-28417dc43a30"
      },
      "source": [
        "# Check how these unique attributes are distributed among the corresponding columns\n",
        "for column in dataset.columns:\n",
        "    print(dataset[column].value_counts())\n",
        "    print()"
      ],
      "execution_count": 7,
      "outputs": [
        {
          "output_type": "stream",
          "text": [
            "low      432\n",
            "vhigh    432\n",
            "med      432\n",
            "high     432\n",
            "Name: buying, dtype: int64\n",
            "\n",
            "low      432\n",
            "vhigh    432\n",
            "med      432\n",
            "high     432\n",
            "Name: maint, dtype: int64\n",
            "\n",
            "4        432\n",
            "3        432\n",
            "2        432\n",
            "5more    432\n",
            "Name: doors, dtype: int64\n",
            "\n",
            "4       576\n",
            "more    576\n",
            "2       576\n",
            "Name: persons, dtype: int64\n",
            "\n",
            "big      576\n",
            "small    576\n",
            "med      576\n",
            "Name: lug_boot, dtype: int64\n",
            "\n",
            "low     576\n",
            "med     576\n",
            "high    576\n",
            "Name: safety, dtype: int64\n",
            "\n",
            "unacc    1210\n",
            "acc       384\n",
            "good       69\n",
            "vgood      65\n",
            "Name: class, dtype: int64\n",
            "\n"
          ],
          "name": "stdout"
        }
      ]
    },
    {
      "cell_type": "code",
      "metadata": {
        "id": "QytsfCtGpVm6",
        "colab_type": "code",
        "colab": {
          "base_uri": "https://localhost:8080/",
          "height": 296
        },
        "outputId": "c59570da-ee61-438a-b55b-0f1664c4ccfc"
      },
      "source": [
        "sns.countplot(dataset['class'])"
      ],
      "execution_count": 8,
      "outputs": [
        {
          "output_type": "execute_result",
          "data": {
            "text/plain": [
              "<matplotlib.axes._subplots.AxesSubplot at 0x7f36817ae438>"
            ]
          },
          "metadata": {
            "tags": []
          },
          "execution_count": 8
        },
        {
          "output_type": "display_data",
          "data": {
            "image/png": "[encoded data removed]",
            "text/plain": [
              "<Figure size 432x288 with 1 Axes>"
            ]
          },
          "metadata": {
            "tags": [],
            "needs_background": "light"
          }
        }
      ]
    },
    {
      "cell_type": "markdown",
      "metadata": {
        "id": "sleuVACqo9Jh",
        "colab_type": "text"
      },
      "source": [
        "**Findings**:\n",
        "1. It can be seen that all the columns except 'class' are distributed equally among the dataset. This result 'class' is unbalanced with larger values of 'unacc' value. Therefore, this machine learning problem falls into the unbalanced multiclass classification."
      ]
    },
    {
      "cell_type": "code",
      "metadata": {
        "id": "MxF5G4i45aVc",
        "colab_type": "code",
        "colab": {
          "base_uri": "https://localhost:8080/",
          "height": 1000
        },
        "outputId": "2760e39c-9f51-4806-f9c4-e9d137765bee"
      },
      "source": [
        "# Check how the target variable ('class') is distributed among each of the independent variables in the dataset\n",
        "for column in dataset.columns[:-1]:\n",
        "    plt.figure(figsize = (14, 7))\n",
        "    plt.title('Feature: \"%s\"' %column)\n",
        "    sns.countplot(dataset[column], hue = dataset['class'])"
      ],
      "execution_count": 11,
      "outputs": [
        {
          "output_type": "display_data",
          "data": {
            "image/png": "[encoded data removed]",
            "text/plain": [
              "<Figure size 1008x504 with 1 Axes>"
            ]
          },
          "metadata": {
            "tags": [],
            "needs_background": "light"
          }
        },
        {
          "output_type": "display_data",
          "data": {
            "image/png": "[encoded data removed]",
            "text/plain": [
              "<Figure size 1008x504 with 1 Axes>"
            ]
          },
          "metadata": {
            "tags": [],
            "needs_background": "light"
          }
        },
        {
          "output_type": "display_data",
          "data": {
            "image/png": "[encoded data removed]",
            "text/plain": [
              "<Figure size 1008x504 with 1 Axes>"
            ]
          },
          "metadata": {
            "tags": [],
            "needs_background": "light"
          }
        },
        {
          "output_type": "display_data",
          "data": {
            "image/png": "[encoded data removed]",
            "text/plain": [
              "<Figure size 1008x504 with 1 Axes>"
            ]
          },
          "metadata": {
            "tags": [],
            "needs_background": "light"
          }
        },
        {
          "output_type": "display_data",
          "data": {
            "image/png": "[encoded data removed]",
            "text/plain": [
              "<Figure size 1008x504 with 1 Axes>"
            ]
          },
          "metadata": {
            "tags": [],
            "needs_background": "light"
          }
        },
        {
          "output_type": "display_data",
          "data": {
            "image/png": "[encoded data removed]",
            "text/plain": [
              "<Figure size 1008x504 with 1 Axes>"
            ]
          },
          "metadata": {
            "tags": [],
            "needs_background": "light"
          }
        }
      ]
    },
    {
      "cell_type": "markdown",
      "metadata": {
        "id": "1tgj-nml7wKJ",
        "colab_type": "text"
      },
      "source": [
        "### **Encoding categorical data**"
      ]
    },
    {
      "cell_type": "code",
      "metadata": {
        "id": "ndUyWnAI786K",
        "colab_type": "code",
        "colab": {}
      },
      "source": [
        "labelEncoder = LabelEncoder()"
      ],
      "execution_count": 0,
      "outputs": []
    },
    {
      "cell_type": "code",
      "metadata": {
        "id": "nmxK5JOG8JN3",
        "colab_type": "code",
        "colab": {}
      },
      "source": [
        "for column in dataset.columns:\n",
        "    dataset[column] = labelEncoder.fit_transform(dataset[column])"
      ],
      "execution_count": 0,
      "outputs": []
    },
    {
      "cell_type": "code",
      "metadata": {
        "id": "T1p6bIix8Xe8",
        "colab_type": "code",
        "colab": {
          "base_uri": "https://localhost:8080/",
          "height": 204
        },
        "outputId": "18472e98-00be-41b5-d662-0fb3967a9cd4"
      },
      "source": [
        "dataset.head(5)"
      ],
      "execution_count": 18,
      "outputs": [
        {
          "output_type": "execute_result",
          "data": {
            "text/html": [
              "<div>\n",
              "<style scoped>\n",
              "    .dataframe tbody tr th:only-of-type {\n",
              "        vertical-align: middle;\n",
              "    }\n",
              "\n",
              "    .dataframe tbody tr th {\n",
              "        vertical-align: top;\n",
              "    }\n",
              "\n",
              "    .dataframe thead th {\n",
              "        text-align: right;\n",
              "    }\n",
              "</style>\n",
              "<table border=\"1\" class=\"dataframe\">\n",
              "  <thead>\n",
              "    <tr style=\"text-align: right;\">\n",
              "      <th></th>\n",
              "      <th>buying</th>\n",
              "      <th>maint</th>\n",
              "      <th>doors</th>\n",
              "      <th>persons</th>\n",
              "      <th>lug_boot</th>\n",
              "      <th>safety</th>\n",
              "      <th>class</th>\n",
              "    </tr>\n",
              "  </thead>\n",
              "  <tbody>\n",
              "    <tr>\n",
              "      <th>0</th>\n",
              "      <td>3</td>\n",
              "      <td>3</td>\n",
              "      <td>0</td>\n",
              "      <td>0</td>\n",
              "      <td>2</td>\n",
              "      <td>1</td>\n",
              "      <td>2</td>\n",
              "    </tr>\n",
              "    <tr>\n",
              "      <th>1</th>\n",
              "      <td>3</td>\n",
              "      <td>3</td>\n",
              "      <td>0</td>\n",
              "      <td>0</td>\n",
              "      <td>2</td>\n",
              "      <td>2</td>\n",
              "      <td>2</td>\n",
              "    </tr>\n",
              "    <tr>\n",
              "      <th>2</th>\n",
              "      <td>3</td>\n",
              "      <td>3</td>\n",
              "      <td>0</td>\n",
              "      <td>0</td>\n",
              "      <td>2</td>\n",
              "      <td>0</td>\n",
              "      <td>2</td>\n",
              "    </tr>\n",
              "    <tr>\n",
              "      <th>3</th>\n",
              "      <td>3</td>\n",
              "      <td>3</td>\n",
              "      <td>0</td>\n",
              "      <td>0</td>\n",
              "      <td>1</td>\n",
              "      <td>1</td>\n",
              "      <td>2</td>\n",
              "    </tr>\n",
              "    <tr>\n",
              "      <th>4</th>\n",
              "      <td>3</td>\n",
              "      <td>3</td>\n",
              "      <td>0</td>\n",
              "      <td>0</td>\n",
              "      <td>1</td>\n",
              "      <td>2</td>\n",
              "      <td>2</td>\n",
              "    </tr>\n",
              "  </tbody>\n",
              "</table>\n",
              "</div>"
            ],
            "text/plain": [
              "   buying  maint  doors  persons  lug_boot  safety  class\n",
              "0       3      3      0        0         2       1      2\n",
              "1       3      3      0        0         2       2      2\n",
              "2       3      3      0        0         2       0      2\n",
              "3       3      3      0        0         1       1      2\n",
              "4       3      3      0        0         1       2      2"
            ]
          },
          "metadata": {
            "tags": []
          },
          "execution_count": 18
        }
      ]
    },
    {
      "cell_type": "markdown",
      "metadata": {
        "id": "R2DjPQOY9_S2",
        "colab_type": "text"
      },
      "source": [
        "### **Finding Correlation**"
      ]
    },
    {
      "cell_type": "code",
      "metadata": {
        "id": "u-q_wnpf86wn",
        "colab_type": "code",
        "colab": {
          "base_uri": "https://localhost:8080/",
          "height": 450
        },
        "outputId": "33b929f1-d555-4ad0-cbaa-13f1aaeceb26"
      },
      "source": [
        "plt.figure(figsize = (14, 7))\n",
        "\n",
        "# Calculate 'pearson' correlation which show correlation coeffitient of each variable with respect to othe variables\n",
        "pearsonCorrelation = dataset.corr(method = 'pearson')\n",
        "\n",
        "# Represent 'pearson' correlations in a heatmap\n",
        "sns.heatmap(pearsonCorrelation, \n",
        "            xticklabels=pearsonCorrelation.columns,\n",
        "            yticklabels=pearsonCorrelation.columns,\n",
        "            cmap='RdBu_r',\n",
        "            annot=True,\n",
        "            linewidth=0.6)"
      ],
      "execution_count": 21,
      "outputs": [
        {
          "output_type": "execute_result",
          "data": {
            "text/plain": [
              "<matplotlib.axes._subplots.AxesSubplot at 0x7f367f598128>"
            ]
          },
          "metadata": {
            "tags": []
          },
          "execution_count": 21
        },
        {
          "output_type": "display_data",
          "data": {
            "image/png": "[encoded data removed]",
            "text/plain": [
              "<Figure size 1008x504 with 2 Axes>"
            ]
          },
          "metadata": {
            "tags": [],
            "needs_background": "light"
          }
        }
      ]
    },
    {
      "cell_type": "markdown",
      "metadata": {
        "id": "9qOk5-6w9z-w",
        "colab_type": "text"
      },
      "source": [
        "**Results and Interpretation**:\n",
        "\n",
        "A co-efficient close to 1 means that there’s a very strong positive correlation between the two variables. In our case, the maroon shows very strong correlations. The diagonal line is the correlation of the variables to themselves — so they’ll obviously be 1."
      ]
    },
    {
      "cell_type": "markdown",
      "metadata": {
        "id": "d6MdnW1v98a8",
        "colab_type": "text"
      },
      "source": [
        "**Findings**:\n",
        "1. There are certainly weak correlation between the independent variables and the target variable 'class'. Thus, it's very unlikely to get any insights if these independent attributes are plotted against the dependent attribute 'class'."
      ]
    }
  ]
}