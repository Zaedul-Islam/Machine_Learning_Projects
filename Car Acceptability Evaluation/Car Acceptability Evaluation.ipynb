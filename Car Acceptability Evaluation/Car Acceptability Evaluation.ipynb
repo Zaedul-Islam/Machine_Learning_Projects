{
  "nbformat": 4,
  "nbformat_minor": 0,
  "metadata": {
    "colab": {
      "name": "Car Acceptability Evaluation.ipynb",
      "provenance": [],
      "collapsed_sections": [],
      "mount_file_id": "1ffpIpr0DZKG86VKQxpSZK7a4X_elxGDW",
      "authorship_tag": "ABX9TyPZ2zEN07BBBkOH2KXLR7eL",
      "include_colab_link": true
    },
    "kernelspec": {
      "name": "python3",
      "display_name": "Python 3"
    }
  },
  "cells": [
    {
      "cell_type": "markdown",
      "metadata": {
        "id": "view-in-github",
        "colab_type": "text"
      },
      "source": [
        "<a href=\"https://colab.research.google.com/github/Zaedul-Islam/Machine_Learning_Projects/blob/master/Car%20Acceptability%20Evaluation/Car%20Acceptability%20Evaluation.ipynb\" target=\"_parent\"><img src=\"https://colab.research.google.com/assets/colab-badge.svg\" alt=\"Open In Colab\"/></a>"
      ]
    },
    {
      "cell_type": "markdown",
      "metadata": {
        "id": "BN-769vhhMf3",
        "colab_type": "text"
      },
      "source": [
        "# **Car Acceptability Evaluation**"
      ]
    },
    {
      "cell_type": "markdown",
      "metadata": {
        "id": "qqLf3S-eiNYa",
        "colab_type": "text"
      },
      "source": [
        "## **Importing the libraries**"
      ]
    },
    {
      "cell_type": "code",
      "metadata": {
        "id": "76ctdU8wg0p-",
        "colab_type": "code",
        "colab": {}
      },
      "source": [
        "import numpy as np\n",
        "import matplotlib.pyplot as plt\n",
        "import pandas as pd\n",
        "\n",
        "# Seaborn is a python library for visualizing data. It is built on top of matplotlib and closely integrated with pandas data structure\n",
        "import seaborn as sns\n",
        "\n",
        "from sklearn.preprocessing import LabelEncoder, OneHotEncoder\n",
        "\n",
        "from sklearn.model_selection import train_test_split\n",
        "\n",
        "from sklearn.neighbors import KNeighborsClassifier\n",
        "\n",
        "# Compute classification accuracy for the provided model\n",
        "from sklearn import metrics\n",
        "\n",
        "# Some setting for this notebook to actually show the graphs inline\n",
        "%matplotlib inline\n",
        "np.set_printoptions(precision=5, suppress=True)  # Suppress scientific float notation"
      ],
      "execution_count": 0,
      "outputs": []
    },
    {
      "cell_type": "markdown",
      "metadata": {
        "id": "I0sYfZuMj77Z",
        "colab_type": "text"
      },
      "source": [
        "## **Reading 'cereal' dataset**"
      ]
    },
    {
      "cell_type": "code",
      "metadata": {
        "id": "OgubRyMBkpZZ",
        "colab_type": "code",
        "colab": {}
      },
      "source": [
        "filepath = '/content/drive/My Drive/Colab Notebooks/Machine Learning Projects/Car Acceptability Evaluation/Dataset/car.csv'\n",
        "dataset = pd.read_csv(filepath)"
      ],
      "execution_count": 0,
      "outputs": []
    },
    {
      "cell_type": "markdown",
      "metadata": {
        "id": "WCqyO4ACnwUK",
        "colab_type": "text"
      },
      "source": [
        "## **Exploratory Data Analysis**"
      ]
    },
    {
      "cell_type": "code",
      "metadata": {
        "id": "u4nJPk7Nnxm6",
        "colab_type": "code",
        "colab": {
          "base_uri": "https://localhost:8080/",
          "height": 204
        },
        "outputId": "7fe110c6-5388-43cd-f4bb-87adc3f94083"
      },
      "source": [
        "dataset.head(5)"
      ],
      "execution_count": 50,
      "outputs": [
        {
          "output_type": "execute_result",
          "data": {
            "text/html": [
              "<div>\n",
              "<style scoped>\n",
              "    .dataframe tbody tr th:only-of-type {\n",
              "        vertical-align: middle;\n",
              "    }\n",
              "\n",
              "    .dataframe tbody tr th {\n",
              "        vertical-align: top;\n",
              "    }\n",
              "\n",
              "    .dataframe thead th {\n",
              "        text-align: right;\n",
              "    }\n",
              "</style>\n",
              "<table border=\"1\" class=\"dataframe\">\n",
              "  <thead>\n",
              "    <tr style=\"text-align: right;\">\n",
              "      <th></th>\n",
              "      <th>buying</th>\n",
              "      <th>maint</th>\n",
              "      <th>doors</th>\n",
              "      <th>persons</th>\n",
              "      <th>lug_boot</th>\n",
              "      <th>safety</th>\n",
              "      <th>class</th>\n",
              "    </tr>\n",
              "  </thead>\n",
              "  <tbody>\n",
              "    <tr>\n",
              "      <th>0</th>\n",
              "      <td>vhigh</td>\n",
              "      <td>vhigh</td>\n",
              "      <td>2</td>\n",
              "      <td>2</td>\n",
              "      <td>small</td>\n",
              "      <td>low</td>\n",
              "      <td>unacc</td>\n",
              "    </tr>\n",
              "    <tr>\n",
              "      <th>1</th>\n",
              "      <td>vhigh</td>\n",
              "      <td>vhigh</td>\n",
              "      <td>2</td>\n",
              "      <td>2</td>\n",
              "      <td>small</td>\n",
              "      <td>med</td>\n",
              "      <td>unacc</td>\n",
              "    </tr>\n",
              "    <tr>\n",
              "      <th>2</th>\n",
              "      <td>vhigh</td>\n",
              "      <td>vhigh</td>\n",
              "      <td>2</td>\n",
              "      <td>2</td>\n",
              "      <td>small</td>\n",
              "      <td>high</td>\n",
              "      <td>unacc</td>\n",
              "    </tr>\n",
              "    <tr>\n",
              "      <th>3</th>\n",
              "      <td>vhigh</td>\n",
              "      <td>vhigh</td>\n",
              "      <td>2</td>\n",
              "      <td>2</td>\n",
              "      <td>med</td>\n",
              "      <td>low</td>\n",
              "      <td>unacc</td>\n",
              "    </tr>\n",
              "    <tr>\n",
              "      <th>4</th>\n",
              "      <td>vhigh</td>\n",
              "      <td>vhigh</td>\n",
              "      <td>2</td>\n",
              "      <td>2</td>\n",
              "      <td>med</td>\n",
              "      <td>med</td>\n",
              "      <td>unacc</td>\n",
              "    </tr>\n",
              "  </tbody>\n",
              "</table>\n",
              "</div>"
            ],
            "text/plain": [
              "  buying  maint doors persons lug_boot safety  class\n",
              "0  vhigh  vhigh     2       2    small    low  unacc\n",
              "1  vhigh  vhigh     2       2    small    med  unacc\n",
              "2  vhigh  vhigh     2       2    small   high  unacc\n",
              "3  vhigh  vhigh     2       2      med    low  unacc\n",
              "4  vhigh  vhigh     2       2      med    med  unacc"
            ]
          },
          "metadata": {
            "tags": []
          },
          "execution_count": 50
        }
      ]
    },
    {
      "cell_type": "code",
      "metadata": {
        "id": "n_LQLVwMlt3o",
        "colab_type": "code",
        "colab": {
          "base_uri": "https://localhost:8080/",
          "height": 255
        },
        "outputId": "d3ff3ccd-9a2f-4947-f54a-fa13a5a0b6e3"
      },
      "source": [
        "dataset.info()"
      ],
      "execution_count": 51,
      "outputs": [
        {
          "output_type": "stream",
          "text": [
            "<class 'pandas.core.frame.DataFrame'>\n",
            "RangeIndex: 1728 entries, 0 to 1727\n",
            "Data columns (total 7 columns):\n",
            " #   Column    Non-Null Count  Dtype \n",
            "---  ------    --------------  ----- \n",
            " 0   buying    1728 non-null   object\n",
            " 1   maint     1728 non-null   object\n",
            " 2   doors     1728 non-null   object\n",
            " 3   persons   1728 non-null   object\n",
            " 4   lug_boot  1728 non-null   object\n",
            " 5   safety    1728 non-null   object\n",
            " 6   class     1728 non-null   object\n",
            "dtypes: object(7)\n",
            "memory usage: 94.6+ KB\n"
          ],
          "name": "stdout"
        }
      ]
    },
    {
      "cell_type": "markdown",
      "metadata": {
        "id": "CymuYREglytj",
        "colab_type": "text"
      },
      "source": [
        "**Findings**:\n",
        "1. No missing values in the dataset and all columns are ***Categorical***."
      ]
    },
    {
      "cell_type": "code",
      "metadata": {
        "id": "_7UsI5xCm3SZ",
        "colab_type": "code",
        "colab": {
          "base_uri": "https://localhost:8080/",
          "height": 136
        },
        "outputId": "ff9affce-f6d3-4a1c-8e3e-fb354ebbbe5c"
      },
      "source": [
        "# Check for unique values and their count in each column\n",
        "for column in dataset.columns:\n",
        "    print(dataset[column].unique(), '\\t', dataset[column].nunique())"
      ],
      "execution_count": 52,
      "outputs": [
        {
          "output_type": "stream",
          "text": [
            "['vhigh' 'high' 'med' 'low'] \t 4\n",
            "['vhigh' 'high' 'med' 'low'] \t 4\n",
            "['2' '3' '4' '5more'] \t 4\n",
            "['2' '4' 'more'] \t 3\n",
            "['small' 'med' 'big'] \t 3\n",
            "['low' 'med' 'high'] \t 3\n",
            "['unacc' 'acc' 'vgood' 'good'] \t 4\n"
          ],
          "name": "stdout"
        }
      ]
    },
    {
      "cell_type": "code",
      "metadata": {
        "id": "xFK2VDMwoKNN",
        "colab_type": "code",
        "colab": {
          "base_uri": "https://localhost:8080/",
          "height": 680
        },
        "outputId": "c4178ef3-a85e-48ca-d572-d6fb29b65f95"
      },
      "source": [
        "# Check how these unique attributes are distributed among the corresponding columns\n",
        "for column in dataset.columns:\n",
        "    print(dataset[column].value_counts())\n",
        "    print()"
      ],
      "execution_count": 53,
      "outputs": [
        {
          "output_type": "stream",
          "text": [
            "low      432\n",
            "vhigh    432\n",
            "med      432\n",
            "high     432\n",
            "Name: buying, dtype: int64\n",
            "\n",
            "low      432\n",
            "vhigh    432\n",
            "med      432\n",
            "high     432\n",
            "Name: maint, dtype: int64\n",
            "\n",
            "4        432\n",
            "3        432\n",
            "2        432\n",
            "5more    432\n",
            "Name: doors, dtype: int64\n",
            "\n",
            "4       576\n",
            "more    576\n",
            "2       576\n",
            "Name: persons, dtype: int64\n",
            "\n",
            "big      576\n",
            "small    576\n",
            "med      576\n",
            "Name: lug_boot, dtype: int64\n",
            "\n",
            "low     576\n",
            "med     576\n",
            "high    576\n",
            "Name: safety, dtype: int64\n",
            "\n",
            "unacc    1210\n",
            "acc       384\n",
            "good       69\n",
            "vgood      65\n",
            "Name: class, dtype: int64\n",
            "\n"
          ],
          "name": "stdout"
        }
      ]
    },
    {
      "cell_type": "code",
      "metadata": {
        "id": "QytsfCtGpVm6",
        "colab_type": "code",
        "colab": {
          "base_uri": "https://localhost:8080/",
          "height": 296
        },
        "outputId": "7eb422ba-37d4-4bc4-d6a7-95bb566d562f"
      },
      "source": [
        "sns.countplot(dataset['class'])"
      ],
      "execution_count": 54,
      "outputs": [
        {
          "output_type": "execute_result",
          "data": {
            "text/plain": [
              "<matplotlib.axes._subplots.AxesSubplot at 0x7f3679d32a58>"
            ]
          },
          "metadata": {
            "tags": []
          },
          "execution_count": 54
        },
        {
          "output_type": "display_data",
          "data": {
            "image/png": "[encoded data removed]",
            "text/plain": [
              "<Figure size 432x288 with 1 Axes>"
            ]
          },
          "metadata": {
            "tags": [],
            "needs_background": "light"
          }
        }
      ]
    },
    {
      "cell_type": "markdown",
      "metadata": {
        "id": "sleuVACqo9Jh",
        "colab_type": "text"
      },
      "source": [
        "**Findings**:\n",
        "1. It can be seen that all the columns except 'class' are distributed equally among the dataset. This result 'class' is unbalanced with larger values of 'unacc' value. Therefore, this machine learning problem falls into the unbalanced multiclass classification."
      ]
    },
    {
      "cell_type": "code",
      "metadata": {
        "id": "MxF5G4i45aVc",
        "colab_type": "code",
        "colab": {
          "base_uri": "https://localhost:8080/",
          "height": 1000
        },
        "outputId": "a5b26277-a066-49a4-91a3-164efbc0b074"
      },
      "source": [
        "# Check how the target variable ('class') is distributed among each of the independent variables in the dataset\n",
        "for column in dataset.columns[:-1]:\n",
        "    plt.figure(figsize = (14, 7))\n",
        "    plt.title('Feature: \"%s\"' %column)\n",
        "    sns.countplot(dataset[column], hue = dataset['class'])"
      ],
      "execution_count": 55,
      "outputs": [
        {
          "output_type": "display_data",
          "data": {
            "image/png": "[encoded data removed]",
            "text/plain": [
              "<Figure size 1008x504 with 1 Axes>"
            ]
          },
          "metadata": {
            "tags": [],
            "needs_background": "light"
          }
        },
        {
          "output_type": "display_data",
          "data": {
            "image/png": "[encoded data removed]",
            "text/plain": [
              "<Figure size 1008x504 with 1 Axes>"
            ]
          },
          "metadata": {
            "tags": [],
            "needs_background": "light"
          }
        },
        {
          "output_type": "display_data",
          "data": {
            "image/png": "[encoded data removed]",
            "text/plain": [
              "<Figure size 1008x504 with 1 Axes>"
            ]
          },
          "metadata": {
            "tags": [],
            "needs_background": "light"
          }
        },
        {
          "output_type": "display_data",
          "data": {
            "image/png": "[encoded data removed]",
            "text/plain": [
              "<Figure size 1008x504 with 1 Axes>"
            ]
          },
          "metadata": {
            "tags": [],
            "needs_background": "light"
          }
        },
        {
          "output_type": "display_data",
          "data": {
            "image/png": "[encoded data removed]",
            "text/plain": [
              "<Figure size 1008x504 with 1 Axes>"
            ]
          },
          "metadata": {
            "tags": [],
            "needs_background": "light"
          }
        },
        {
          "output_type": "display_data",
          "data": {
            "image/png": "[encoded data removed]",
            "text/plain": [
              "<Figure size 1008x504 with 1 Axes>"
            ]
          },
          "metadata": {
            "tags": [],
            "needs_background": "light"
          }
        }
      ]
    },
    {
      "cell_type": "markdown",
      "metadata": {
        "id": "1tgj-nml7wKJ",
        "colab_type": "text"
      },
      "source": [
        "### **Encoding categorical data**"
      ]
    },
    {
      "cell_type": "code",
      "metadata": {
        "id": "ndUyWnAI786K",
        "colab_type": "code",
        "colab": {}
      },
      "source": [
        "labelEncoder = LabelEncoder()"
      ],
      "execution_count": 0,
      "outputs": []
    },
    {
      "cell_type": "code",
      "metadata": {
        "id": "nmxK5JOG8JN3",
        "colab_type": "code",
        "colab": {}
      },
      "source": [
        "for column in dataset.columns:\n",
        "    dataset[column] = labelEncoder.fit_transform(dataset[column])"
      ],
      "execution_count": 0,
      "outputs": []
    },
    {
      "cell_type": "code",
      "metadata": {
        "id": "T1p6bIix8Xe8",
        "colab_type": "code",
        "colab": {
          "base_uri": "https://localhost:8080/",
          "height": 204
        },
        "outputId": "8454a8fd-a7a4-4c23-bce7-d306975b4315"
      },
      "source": [
        "dataset.head(5)"
      ],
      "execution_count": 58,
      "outputs": [
        {
          "output_type": "execute_result",
          "data": {
            "text/html": [
              "<div>\n",
              "<style scoped>\n",
              "    .dataframe tbody tr th:only-of-type {\n",
              "        vertical-align: middle;\n",
              "    }\n",
              "\n",
              "    .dataframe tbody tr th {\n",
              "        vertical-align: top;\n",
              "    }\n",
              "\n",
              "    .dataframe thead th {\n",
              "        text-align: right;\n",
              "    }\n",
              "</style>\n",
              "<table border=\"1\" class=\"dataframe\">\n",
              "  <thead>\n",
              "    <tr style=\"text-align: right;\">\n",
              "      <th></th>\n",
              "      <th>buying</th>\n",
              "      <th>maint</th>\n",
              "      <th>doors</th>\n",
              "      <th>persons</th>\n",
              "      <th>lug_boot</th>\n",
              "      <th>safety</th>\n",
              "      <th>class</th>\n",
              "    </tr>\n",
              "  </thead>\n",
              "  <tbody>\n",
              "    <tr>\n",
              "      <th>0</th>\n",
              "      <td>3</td>\n",
              "      <td>3</td>\n",
              "      <td>0</td>\n",
              "      <td>0</td>\n",
              "      <td>2</td>\n",
              "      <td>1</td>\n",
              "      <td>2</td>\n",
              "    </tr>\n",
              "    <tr>\n",
              "      <th>1</th>\n",
              "      <td>3</td>\n",
              "      <td>3</td>\n",
              "      <td>0</td>\n",
              "      <td>0</td>\n",
              "      <td>2</td>\n",
              "      <td>2</td>\n",
              "      <td>2</td>\n",
              "    </tr>\n",
              "    <tr>\n",
              "      <th>2</th>\n",
              "      <td>3</td>\n",
              "      <td>3</td>\n",
              "      <td>0</td>\n",
              "      <td>0</td>\n",
              "      <td>2</td>\n",
              "      <td>0</td>\n",
              "      <td>2</td>\n",
              "    </tr>\n",
              "    <tr>\n",
              "      <th>3</th>\n",
              "      <td>3</td>\n",
              "      <td>3</td>\n",
              "      <td>0</td>\n",
              "      <td>0</td>\n",
              "      <td>1</td>\n",
              "      <td>1</td>\n",
              "      <td>2</td>\n",
              "    </tr>\n",
              "    <tr>\n",
              "      <th>4</th>\n",
              "      <td>3</td>\n",
              "      <td>3</td>\n",
              "      <td>0</td>\n",
              "      <td>0</td>\n",
              "      <td>1</td>\n",
              "      <td>2</td>\n",
              "      <td>2</td>\n",
              "    </tr>\n",
              "  </tbody>\n",
              "</table>\n",
              "</div>"
            ],
            "text/plain": [
              "   buying  maint  doors  persons  lug_boot  safety  class\n",
              "0       3      3      0        0         2       1      2\n",
              "1       3      3      0        0         2       2      2\n",
              "2       3      3      0        0         2       0      2\n",
              "3       3      3      0        0         1       1      2\n",
              "4       3      3      0        0         1       2      2"
            ]
          },
          "metadata": {
            "tags": []
          },
          "execution_count": 58
        }
      ]
    },
    {
      "cell_type": "markdown",
      "metadata": {
        "id": "R2DjPQOY9_S2",
        "colab_type": "text"
      },
      "source": [
        "### **Finding Correlation**"
      ]
    },
    {
      "cell_type": "code",
      "metadata": {
        "id": "u-q_wnpf86wn",
        "colab_type": "code",
        "colab": {
          "base_uri": "https://localhost:8080/",
          "height": 450
        },
        "outputId": "dab6895f-847a-4343-80fc-849ab1244476"
      },
      "source": [
        "plt.figure(figsize = (14, 7))\n",
        "\n",
        "# Calculate 'pearson' correlation which show correlation coeffitient of each variable with respect to othe variables\n",
        "pearsonCorrelation = dataset.corr(method = 'pearson')\n",
        "\n",
        "# Represent 'pearson' correlations in a heatmap\n",
        "sns.heatmap(pearsonCorrelation, \n",
        "            xticklabels=pearsonCorrelation.columns,\n",
        "            yticklabels=pearsonCorrelation.columns,\n",
        "            cmap='RdBu_r',\n",
        "            annot=True,\n",
        "            linewidth=0.6)"
      ],
      "execution_count": 59,
      "outputs": [
        {
          "output_type": "execute_result",
          "data": {
            "text/plain": [
              "<matplotlib.axes._subplots.AxesSubplot at 0x7f3679ac9748>"
            ]
          },
          "metadata": {
            "tags": []
          },
          "execution_count": 59
        },
        {
          "output_type": "display_data",
          "data": {
            "image/png": "[encoded data removed]",
            "text/plain": [
              "<Figure size 1008x504 with 2 Axes>"
            ]
          },
          "metadata": {
            "tags": [],
            "needs_background": "light"
          }
        }
      ]
    },
    {
      "cell_type": "markdown",
      "metadata": {
        "id": "9qOk5-6w9z-w",
        "colab_type": "text"
      },
      "source": [
        "**Results and Interpretation**:\n",
        "\n",
        "A co-efficient close to 1 means that there’s a very strong positive correlation between the two variables. In our case, the maroon shows very strong correlations. The diagonal line is the correlation of the variables to themselves — so they’ll obviously be 1."
      ]
    },
    {
      "cell_type": "markdown",
      "metadata": {
        "id": "d6MdnW1v98a8",
        "colab_type": "text"
      },
      "source": [
        "**Findings**:\n",
        "1. There are certainly weak correlation between the independent variables and the target variable 'class'. Thus, it's very unlikely to get any insights if these independent attributes are plotted against the dependent attribute 'class'."
      ]
    },
    {
      "cell_type": "markdown",
      "metadata": {
        "id": "sxOEecJoDmZW",
        "colab_type": "text"
      },
      "source": [
        "## **Model Selection**"
      ]
    },
    {
      "cell_type": "markdown",
      "metadata": {
        "id": "33l2TgzSGBGj",
        "colab_type": "text"
      },
      "source": [
        "### **Data Preprocessing for Model Selection**"
      ]
    },
    {
      "cell_type": "code",
      "metadata": {
        "id": "m-62bBYeBWuK",
        "colab_type": "code",
        "colab": {}
      },
      "source": [
        "# Creating a matrix of independent variables\n",
        "X = dataset.iloc[:, :-1].values\n",
        "\n",
        "# Creating dependent variable vector\n",
        "y = dataset.iloc[:, 6].values"
      ],
      "execution_count": 0,
      "outputs": []
    },
    {
      "cell_type": "markdown",
      "metadata": {
        "id": "_fD7-mZ1C15E",
        "colab_type": "text"
      },
      "source": [
        "### **Split dataset into Train and Test datasets**"
      ]
    },
    {
      "cell_type": "code",
      "metadata": {
        "id": "aOMoAMGmCWzn",
        "colab_type": "code",
        "colab": {}
      },
      "source": [
        "X_train, X_test, y_train, y_test = train_test_split(X, y, test_size = 0.3, random_state = 0)"
      ],
      "execution_count": 0,
      "outputs": []
    },
    {
      "cell_type": "markdown",
      "metadata": {
        "id": "3bAQQ-KkDp49",
        "colab_type": "text"
      },
      "source": [
        "### **1. KNN Classifier**"
      ]
    },
    {
      "cell_type": "markdown",
      "metadata": {
        "id": "bwRCKKrkpkgk",
        "colab_type": "text"
      },
      "source": [
        "**K = 1**"
      ]
    },
    {
      "cell_type": "code",
      "metadata": {
        "id": "OXNYtrGRpl91",
        "colab_type": "code",
        "colab": {
          "base_uri": "https://localhost:8080/",
          "height": 34
        },
        "outputId": "cc304853-e3cf-4ccc-df28-77ff523e9093"
      },
      "source": [
        "# n_jobs = -1, (-1 means using all processors)\n",
        "knnClassifier = KNeighborsClassifier(n_neighbors = 1,  n_jobs = -1)\n",
        "\n",
        "knnClassifier.fit(X_train, y_train)\n",
        "y_prediction = knnClassifier.predict(X_test)\n",
        "\n",
        "# Compare actual target values (y_test) with predicted predicted values (y_prediction)\n",
        "print('Accuracy Score: ', metrics.accuracy_score(y_test, y_prediction))"
      ],
      "execution_count": 89,
      "outputs": [
        {
          "output_type": "stream",
          "text": [
            "Accuracy Score:  0.8073217726396917\n"
          ],
          "name": "stdout"
        }
      ]
    },
    {
      "cell_type": "markdown",
      "metadata": {
        "id": "fGpXn6atlfQ2",
        "colab_type": "text"
      },
      "source": [
        "**K = 5**"
      ]
    },
    {
      "cell_type": "code",
      "metadata": {
        "id": "uD6R-ZrIEEA8",
        "colab_type": "code",
        "colab": {
          "base_uri": "https://localhost:8080/",
          "height": 34
        },
        "outputId": "03682724-6a25-4dba-f095-c8fb5c592f62"
      },
      "source": [
        "# n_jobs = -1, (-1 means using all processors)\n",
        "knnClassifier = KNeighborsClassifier(n_neighbors = 5,  n_jobs = -1)\n",
        "\n",
        "knnClassifier.fit(X_train, y_train)\n",
        "y_prediction = knnClassifier.predict(X_test)\n",
        "\n",
        "# Compare actual target values (y_test) with predicted predicted values (y_prediction)\n",
        "print('Accuracy Score: ', metrics.accuracy_score(y_test, y_prediction))"
      ],
      "execution_count": 90,
      "outputs": [
        {
          "output_type": "stream",
          "text": [
            "Accuracy Score:  0.9075144508670521\n"
          ],
          "name": "stdout"
        }
      ]
    },
    {
      "cell_type": "markdown",
      "metadata": {
        "id": "cDR2cmOTqIiP",
        "colab_type": "text"
      },
      "source": [
        "**Try to locate an even better value for K?**"
      ]
    },
    {
      "cell_type": "code",
      "metadata": {
        "id": "f0-i7hmEqNnG",
        "colab_type": "code",
        "colab": {}
      },
      "source": [
        "# Try K = 1 through K = 25 and record testing accuracy\n",
        "kRange = range(1, 25)\n",
        "knnAccuracyScores = []\n",
        "\n",
        "for K in kRange:\n",
        "    knnClassifier = KNeighborsClassifier(n_neighbors = K,  n_jobs = -1)\n",
        "    knnClassifier.fit(X_train, y_train)\n",
        "    y_prediction = knnClassifier.predict(X_test)\n",
        "    knnAccuracyScores.append(metrics.accuracy_score(y_test, y_prediction))"
      ],
      "execution_count": 0,
      "outputs": []
    },
    {
      "cell_type": "code",
      "metadata": {
        "id": "h3hy1hp3q13J",
        "colab_type": "code",
        "colab": {
          "base_uri": "https://localhost:8080/",
          "height": 475
        },
        "outputId": "cf8d5914-5b3e-4179-bb53-349494a45f2b"
      },
      "source": [
        "# Plot the relationship between K and testing accuracy\n",
        "plt.figure(figsize = (14, 7))\n",
        "plt.plot(kRange, knnAccuracyScores)\n",
        "plt.title('Value of K for KNN vs Testing Accuracy')\n",
        "plt.xlabel('Value of K for KNN')\n",
        "plt.ylabel('Testing Accuracy')"
      ],
      "execution_count": 92,
      "outputs": [
        {
          "output_type": "execute_result",
          "data": {
            "text/plain": [
              "Text(0, 0.5, 'Testing Accuracy')"
            ]
          },
          "metadata": {
            "tags": []
          },
          "execution_count": 92
        },
        {
          "output_type": "display_data",
          "data": {
            "image/png": "[encoded data removed]",
            "text/plain": [
              "<Figure size 1008x504 with 1 Axes>"
            ]
          },
          "metadata": {
            "tags": [],
            "needs_background": "light"
          }
        }
      ]
    },
    {
      "cell_type": "markdown",
      "metadata": {
        "id": "awyfRmaYtarm",
        "colab_type": "text"
      },
      "source": [
        "**Findings**:\n",
        "1. From the graph above, for ***n_neighbors = 6***, the highest accuracy can be achieved."
      ]
    },
    {
      "cell_type": "markdown",
      "metadata": {
        "id": "aY4BT8l9tOYs",
        "colab_type": "text"
      },
      "source": [
        "**K = 7**"
      ]
    },
    {
      "cell_type": "code",
      "metadata": {
        "id": "dyf4oPtItO1F",
        "colab_type": "code",
        "colab": {
          "base_uri": "https://localhost:8080/",
          "height": 34
        },
        "outputId": "bd60faff-f801-4d8b-bfbe-1e6336341790"
      },
      "source": [
        "# n_jobs = -1, (-1 means using all processors)\n",
        "knnClassifier = KNeighborsClassifier(n_neighbors = 6,  n_jobs = -1)\n",
        "\n",
        "knnClassifier.fit(X_train, y_train)\n",
        "y_prediction = knnClassifier.predict(X_test)\n",
        "\n",
        "# Compare actual target values (y_test) with predicted predicted values (y_prediction)\n",
        "print('Accuracy Score: ', metrics.accuracy_score(y_test, y_prediction))"
      ],
      "execution_count": 94,
      "outputs": [
        {
          "output_type": "stream",
          "text": [
            "Accuracy Score:  0.9190751445086706\n"
          ],
          "name": "stdout"
        }
      ]
    }
  ]
}