{
  "nbformat": 4,
  "nbformat_minor": 0,
  "metadata": {
    "colab": {
      "name": "Car Acceptability Evaluation.ipynb",
      "provenance": [],
      "collapsed_sections": [],
      "mount_file_id": "1ffpIpr0DZKG86VKQxpSZK7a4X_elxGDW",
      "authorship_tag": "ABX9TyNGCWnJH5/+rOgBI/MV46wt",
      "include_colab_link": true
    },
    "kernelspec": {
      "name": "python3",
      "display_name": "Python 3"
    }
  },
  "cells": [
    {
      "cell_type": "markdown",
      "metadata": {
        "id": "view-in-github",
        "colab_type": "text"
      },
      "source": [
        "<a href=\"https://colab.research.google.com/github/Zaedul-Islam/Machine_Learning_Projects/blob/master/Car%20Acceptability%20Evaluation/Car%20Acceptability%20Evaluation.ipynb\" target=\"_parent\"><img src=\"https://colab.research.google.com/assets/colab-badge.svg\" alt=\"Open In Colab\"/></a>"
      ]
    },
    {
      "cell_type": "markdown",
      "metadata": {
        "id": "BN-769vhhMf3",
        "colab_type": "text"
      },
      "source": [
        "# **Car Acceptability Evaluation**"
      ]
    },
    {
      "cell_type": "markdown",
      "metadata": {
        "id": "qqLf3S-eiNYa",
        "colab_type": "text"
      },
      "source": [
        "## **Importing the libraries**"
      ]
    },
    {
      "cell_type": "code",
      "metadata": {
        "id": "76ctdU8wg0p-",
        "colab_type": "code",
        "outputId": "f8402c7c-fc97-4468-cd2d-b249fc51fae9",
        "colab": {
          "base_uri": "https://localhost:8080/",
          "height": 51
        }
      },
      "source": [
        "import numpy as np\n",
        "import matplotlib.pyplot as plt\n",
        "import pandas as pd\n",
        "\n",
        "# Seaborn is a python library for visualizing data. It is built on top of matplotlib and closely integrated with pandas data structure\n",
        "import seaborn as sns\n",
        "\n",
        "from sklearn.preprocessing import LabelEncoder, OneHotEncoder\n",
        "\n",
        "from sklearn.model_selection import train_test_split\n",
        "\n",
        "from sklearn.neighbors import KNeighborsClassifier\n",
        "from sklearn.linear_model import LogisticRegression\n",
        "from sklearn.tree import DecisionTreeClassifier\n",
        "from sklearn.ensemble import RandomForestClassifier\n",
        "\n",
        "# Compute classification accuracy for the provided model\n",
        "from sklearn import metrics\n",
        "\n",
        "# Some setting for this notebook to actually show the graphs inline\n",
        "%matplotlib inline\n",
        "np.set_printoptions(precision=5, suppress=True)  # Suppress scientific float notation"
      ],
      "execution_count": 0,
      "outputs": [
        {
          "output_type": "stream",
          "text": [
            "/usr/local/lib/python3.6/dist-packages/statsmodels/tools/_testing.py:19: FutureWarning: pandas.util.testing is deprecated. Use the functions in the public API at pandas.testing instead.\n",
            "  import pandas.util.testing as tm\n"
          ],
          "name": "stderr"
        }
      ]
    },
    {
      "cell_type": "markdown",
      "metadata": {
        "id": "I0sYfZuMj77Z",
        "colab_type": "text"
      },
      "source": [
        "## **Reading 'cereal' dataset**"
      ]
    },
    {
      "cell_type": "code",
      "metadata": {
        "id": "OgubRyMBkpZZ",
        "colab_type": "code",
        "colab": {}
      },
      "source": [
        "filepath = '/content/drive/My Drive/Colab Notebooks/Machine Learning Projects/Car Acceptability Evaluation/Dataset/car.csv'\n",
        "dataset = pd.read_csv(filepath)"
      ],
      "execution_count": 0,
      "outputs": []
    },
    {
      "cell_type": "markdown",
      "metadata": {
        "id": "WCqyO4ACnwUK",
        "colab_type": "text"
      },
      "source": [
        "## **Exploratory Data Analysis**"
      ]
    },
    {
      "cell_type": "code",
      "metadata": {
        "id": "u4nJPk7Nnxm6",
        "colab_type": "code",
        "outputId": "fd99d594-338a-4d81-86f3-ae0928c06de8",
        "colab": {
          "base_uri": "https://localhost:8080/",
          "height": 204
        }
      },
      "source": [
        "dataset.head(5)"
      ],
      "execution_count": 0,
      "outputs": [
        {
          "output_type": "execute_result",
          "data": {
            "text/html": [
              "<div>\n",
              "<style scoped>\n",
              "    .dataframe tbody tr th:only-of-type {\n",
              "        vertical-align: middle;\n",
              "    }\n",
              "\n",
              "    .dataframe tbody tr th {\n",
              "        vertical-align: top;\n",
              "    }\n",
              "\n",
              "    .dataframe thead th {\n",
              "        text-align: right;\n",
              "    }\n",
              "</style>\n",
              "<table border=\"1\" class=\"dataframe\">\n",
              "  <thead>\n",
              "    <tr style=\"text-align: right;\">\n",
              "      <th></th>\n",
              "      <th>buying</th>\n",
              "      <th>maint</th>\n",
              "      <th>doors</th>\n",
              "      <th>persons</th>\n",
              "      <th>lug_boot</th>\n",
              "      <th>safety</th>\n",
              "      <th>class</th>\n",
              "    </tr>\n",
              "  </thead>\n",
              "  <tbody>\n",
              "    <tr>\n",
              "      <th>0</th>\n",
              "      <td>vhigh</td>\n",
              "      <td>vhigh</td>\n",
              "      <td>2</td>\n",
              "      <td>2</td>\n",
              "      <td>small</td>\n",
              "      <td>low</td>\n",
              "      <td>unacc</td>\n",
              "    </tr>\n",
              "    <tr>\n",
              "      <th>1</th>\n",
              "      <td>vhigh</td>\n",
              "      <td>vhigh</td>\n",
              "      <td>2</td>\n",
              "      <td>2</td>\n",
              "      <td>small</td>\n",
              "      <td>med</td>\n",
              "      <td>unacc</td>\n",
              "    </tr>\n",
              "    <tr>\n",
              "      <th>2</th>\n",
              "      <td>vhigh</td>\n",
              "      <td>vhigh</td>\n",
              "      <td>2</td>\n",
              "      <td>2</td>\n",
              "      <td>small</td>\n",
              "      <td>high</td>\n",
              "      <td>unacc</td>\n",
              "    </tr>\n",
              "    <tr>\n",
              "      <th>3</th>\n",
              "      <td>vhigh</td>\n",
              "      <td>vhigh</td>\n",
              "      <td>2</td>\n",
              "      <td>2</td>\n",
              "      <td>med</td>\n",
              "      <td>low</td>\n",
              "      <td>unacc</td>\n",
              "    </tr>\n",
              "    <tr>\n",
              "      <th>4</th>\n",
              "      <td>vhigh</td>\n",
              "      <td>vhigh</td>\n",
              "      <td>2</td>\n",
              "      <td>2</td>\n",
              "      <td>med</td>\n",
              "      <td>med</td>\n",
              "      <td>unacc</td>\n",
              "    </tr>\n",
              "  </tbody>\n",
              "</table>\n",
              "</div>"
            ],
            "text/plain": [
              "  buying  maint doors persons lug_boot safety  class\n",
              "0  vhigh  vhigh     2       2    small    low  unacc\n",
              "1  vhigh  vhigh     2       2    small    med  unacc\n",
              "2  vhigh  vhigh     2       2    small   high  unacc\n",
              "3  vhigh  vhigh     2       2      med    low  unacc\n",
              "4  vhigh  vhigh     2       2      med    med  unacc"
            ]
          },
          "metadata": {
            "tags": []
          },
          "execution_count": 3
        }
      ]
    },
    {
      "cell_type": "code",
      "metadata": {
        "id": "n_LQLVwMlt3o",
        "colab_type": "code",
        "outputId": "1067ee02-b907-42e4-ee44-e8d6eba316d4",
        "colab": {
          "base_uri": "https://localhost:8080/",
          "height": 255
        }
      },
      "source": [
        "dataset.info()"
      ],
      "execution_count": 0,
      "outputs": [
        {
          "output_type": "stream",
          "text": [
            "<class 'pandas.core.frame.DataFrame'>\n",
            "RangeIndex: 1728 entries, 0 to 1727\n",
            "Data columns (total 7 columns):\n",
            " #   Column    Non-Null Count  Dtype \n",
            "---  ------    --------------  ----- \n",
            " 0   buying    1728 non-null   object\n",
            " 1   maint     1728 non-null   object\n",
            " 2   doors     1728 non-null   object\n",
            " 3   persons   1728 non-null   object\n",
            " 4   lug_boot  1728 non-null   object\n",
            " 5   safety    1728 non-null   object\n",
            " 6   class     1728 non-null   object\n",
            "dtypes: object(7)\n",
            "memory usage: 94.6+ KB\n"
          ],
          "name": "stdout"
        }
      ]
    },
    {
      "cell_type": "markdown",
      "metadata": {
        "id": "CymuYREglytj",
        "colab_type": "text"
      },
      "source": [
        "**Findings**:\n",
        "1. No missing values in the dataset and all columns are ***Categorical***."
      ]
    },
    {
      "cell_type": "code",
      "metadata": {
        "id": "_7UsI5xCm3SZ",
        "colab_type": "code",
        "outputId": "415b854b-86ec-4333-f99b-46315bdc0608",
        "colab": {
          "base_uri": "https://localhost:8080/",
          "height": 136
        }
      },
      "source": [
        "# Check for unique values and their count in each column\n",
        "for column in dataset.columns:\n",
        "    print(dataset[column].unique(), '\\t', dataset[column].nunique())"
      ],
      "execution_count": 0,
      "outputs": [
        {
          "output_type": "stream",
          "text": [
            "['vhigh' 'high' 'med' 'low'] \t 4\n",
            "['vhigh' 'high' 'med' 'low'] \t 4\n",
            "['2' '3' '4' '5more'] \t 4\n",
            "['2' '4' 'more'] \t 3\n",
            "['small' 'med' 'big'] \t 3\n",
            "['low' 'med' 'high'] \t 3\n",
            "['unacc' 'acc' 'vgood' 'good'] \t 4\n"
          ],
          "name": "stdout"
        }
      ]
    },
    {
      "cell_type": "code",
      "metadata": {
        "id": "xFK2VDMwoKNN",
        "colab_type": "code",
        "outputId": "95238689-5f8f-441d-ead0-48e02b009d92",
        "colab": {
          "base_uri": "https://localhost:8080/",
          "height": 680
        }
      },
      "source": [
        "# Check how these unique attributes are distributed among the corresponding columns\n",
        "for column in dataset.columns:\n",
        "    print(dataset[column].value_counts())\n",
        "    print()"
      ],
      "execution_count": 0,
      "outputs": [
        {
          "output_type": "stream",
          "text": [
            "high     432\n",
            "med      432\n",
            "vhigh    432\n",
            "low      432\n",
            "Name: buying, dtype: int64\n",
            "\n",
            "high     432\n",
            "med      432\n",
            "vhigh    432\n",
            "low      432\n",
            "Name: maint, dtype: int64\n",
            "\n",
            "5more    432\n",
            "2        432\n",
            "4        432\n",
            "3        432\n",
            "Name: doors, dtype: int64\n",
            "\n",
            "2       576\n",
            "more    576\n",
            "4       576\n",
            "Name: persons, dtype: int64\n",
            "\n",
            "med      576\n",
            "small    576\n",
            "big      576\n",
            "Name: lug_boot, dtype: int64\n",
            "\n",
            "high    576\n",
            "med     576\n",
            "low     576\n",
            "Name: safety, dtype: int64\n",
            "\n",
            "unacc    1210\n",
            "acc       384\n",
            "good       69\n",
            "vgood      65\n",
            "Name: class, dtype: int64\n",
            "\n"
          ],
          "name": "stdout"
        }
      ]
    },
    {
      "cell_type": "code",
      "metadata": {
        "id": "QytsfCtGpVm6",
        "colab_type": "code",
        "outputId": "f9f6b130-d98d-44f2-81bf-fe47ba299364",
        "colab": {
          "base_uri": "https://localhost:8080/",
          "height": 296
        }
      },
      "source": [
        "sns.countplot(dataset['class'])"
      ],
      "execution_count": 0,
      "outputs": [
        {
          "output_type": "execute_result",
          "data": {
            "text/plain": [
              "<matplotlib.axes._subplots.AxesSubplot at 0x7f09d2347828>"
            ]
          },
          "metadata": {
            "tags": []
          },
          "execution_count": 7
        },
        {
          "output_type": "display_data",
          "data": {
            "image/png": "[encoded data removed]",
            "text/plain": [
              "<Figure size 432x288 with 1 Axes>"
            ]
          },
          "metadata": {
            "tags": [],
            "needs_background": "light"
          }
        }
      ]
    },
    {
      "cell_type": "markdown",
      "metadata": {
        "id": "sleuVACqo9Jh",
        "colab_type": "text"
      },
      "source": [
        "**Findings**:\n",
        "1. It can be seen that all the columns except 'class' are distributed equally among the dataset. This result 'class' is unbalanced with larger values of 'unacc' value. Therefore, this machine learning problem falls into the unbalanced multiclass classification."
      ]
    },
    {
      "cell_type": "code",
      "metadata": {
        "id": "MxF5G4i45aVc",
        "colab_type": "code",
        "outputId": "56f7ab3a-009a-4a4e-edc0-80806daa8258",
        "colab": {
          "base_uri": "https://localhost:8080/",
          "height": 1000
        }
      },
      "source": [
        "# Check how the target variable ('class') is distributed among each of the independent variables in the dataset\n",
        "for column in dataset.columns[:-1]:\n",
        "    plt.figure(figsize = (14, 7))\n",
        "    plt.title('Feature: \"%s\"' %column)\n",
        "    sns.countplot(dataset[column], hue = dataset['class'])"
      ],
      "execution_count": 0,
      "outputs": [
        {
          "output_type": "display_data",
          "data": {
            "image/png": "[encoded data removed]",
            "text/plain": [
              "<Figure size 1008x504 with 1 Axes>"
            ]
          },
          "metadata": {
            "tags": [],
            "needs_background": "light"
          }
        },
        {
          "output_type": "display_data",
          "data": {
            "image/png": "[encoded data removed]",
            "text/plain": [
              "<Figure size 1008x504 with 1 Axes>"
            ]
          },
          "metadata": {
            "tags": [],
            "needs_background": "light"
          }
        },
        {
          "output_type": "display_data",
          "data": {
            "image/png": "[encoded data removed]",
            "text/plain": [
              "<Figure size 1008x504 with 1 Axes>"
            ]
          },
          "metadata": {
            "tags": [],
            "needs_background": "light"
          }
        },
        {
          "output_type": "display_data",
          "data": {
            "image/png": "[encoded data removed]",
            "text/plain": [
              "<Figure size 1008x504 with 1 Axes>"
            ]
          },
          "metadata": {
            "tags": [],
            "needs_background": "light"
          }
        },
        {
          "output_type": "display_data",
          "data": {
            "image/png": "[encoded data removed]",
            "text/plain": [
              "<Figure size 1008x504 with 1 Axes>"
            ]
          },
          "metadata": {
            "tags": [],
            "needs_background": "light"
          }
        },
        {
          "output_type": "display_data",
          "data": {
            "image/png": "[encoded data removed]",
            "text/plain": [
              "<Figure size 1008x504 with 1 Axes>"
            ]
          },
          "metadata": {
            "tags": [],
            "needs_background": "light"
          }
        }
      ]
    },
    {
      "cell_type": "markdown",
      "metadata": {
        "id": "i-2gPQitaq3P",
        "colab_type": "text"
      },
      "source": [
        "**Findings**:\n",
        "1. ***safety*** and ***persons*** attributes are two key considerations in renouncing a car as ***unacc***.\n",
        "2.  ***persons*** (Number of doors) vaiable has the least significant impact when determining the class value of a car instance"
      ]
    },
    {
      "cell_type": "markdown",
      "metadata": {
        "id": "1tgj-nml7wKJ",
        "colab_type": "text"
      },
      "source": [
        "### **Encoding categorical data**"
      ]
    },
    {
      "cell_type": "code",
      "metadata": {
        "id": "ndUyWnAI786K",
        "colab_type": "code",
        "colab": {}
      },
      "source": [
        "labelEncoder = LabelEncoder()"
      ],
      "execution_count": 0,
      "outputs": []
    },
    {
      "cell_type": "code",
      "metadata": {
        "id": "nmxK5JOG8JN3",
        "colab_type": "code",
        "colab": {}
      },
      "source": [
        "for column in dataset.columns:\n",
        "    dataset[column] = labelEncoder.fit_transform(dataset[column])"
      ],
      "execution_count": 0,
      "outputs": []
    },
    {
      "cell_type": "code",
      "metadata": {
        "id": "T1p6bIix8Xe8",
        "colab_type": "code",
        "outputId": "fa545ba3-5826-4399-ac47-57f79f0150c0",
        "colab": {
          "base_uri": "https://localhost:8080/",
          "height": 204
        }
      },
      "source": [
        "dataset.head(5)"
      ],
      "execution_count": 0,
      "outputs": [
        {
          "output_type": "execute_result",
          "data": {
            "text/html": [
              "<div>\n",
              "<style scoped>\n",
              "    .dataframe tbody tr th:only-of-type {\n",
              "        vertical-align: middle;\n",
              "    }\n",
              "\n",
              "    .dataframe tbody tr th {\n",
              "        vertical-align: top;\n",
              "    }\n",
              "\n",
              "    .dataframe thead th {\n",
              "        text-align: right;\n",
              "    }\n",
              "</style>\n",
              "<table border=\"1\" class=\"dataframe\">\n",
              "  <thead>\n",
              "    <tr style=\"text-align: right;\">\n",
              "      <th></th>\n",
              "      <th>buying</th>\n",
              "      <th>maint</th>\n",
              "      <th>doors</th>\n",
              "      <th>persons</th>\n",
              "      <th>lug_boot</th>\n",
              "      <th>safety</th>\n",
              "      <th>class</th>\n",
              "    </tr>\n",
              "  </thead>\n",
              "  <tbody>\n",
              "    <tr>\n",
              "      <th>0</th>\n",
              "      <td>3</td>\n",
              "      <td>3</td>\n",
              "      <td>0</td>\n",
              "      <td>0</td>\n",
              "      <td>2</td>\n",
              "      <td>1</td>\n",
              "      <td>2</td>\n",
              "    </tr>\n",
              "    <tr>\n",
              "      <th>1</th>\n",
              "      <td>3</td>\n",
              "      <td>3</td>\n",
              "      <td>0</td>\n",
              "      <td>0</td>\n",
              "      <td>2</td>\n",
              "      <td>2</td>\n",
              "      <td>2</td>\n",
              "    </tr>\n",
              "    <tr>\n",
              "      <th>2</th>\n",
              "      <td>3</td>\n",
              "      <td>3</td>\n",
              "      <td>0</td>\n",
              "      <td>0</td>\n",
              "      <td>2</td>\n",
              "      <td>0</td>\n",
              "      <td>2</td>\n",
              "    </tr>\n",
              "    <tr>\n",
              "      <th>3</th>\n",
              "      <td>3</td>\n",
              "      <td>3</td>\n",
              "      <td>0</td>\n",
              "      <td>0</td>\n",
              "      <td>1</td>\n",
              "      <td>1</td>\n",
              "      <td>2</td>\n",
              "    </tr>\n",
              "    <tr>\n",
              "      <th>4</th>\n",
              "      <td>3</td>\n",
              "      <td>3</td>\n",
              "      <td>0</td>\n",
              "      <td>0</td>\n",
              "      <td>1</td>\n",
              "      <td>2</td>\n",
              "      <td>2</td>\n",
              "    </tr>\n",
              "  </tbody>\n",
              "</table>\n",
              "</div>"
            ],
            "text/plain": [
              "   buying  maint  doors  persons  lug_boot  safety  class\n",
              "0       3      3      0        0         2       1      2\n",
              "1       3      3      0        0         2       2      2\n",
              "2       3      3      0        0         2       0      2\n",
              "3       3      3      0        0         1       1      2\n",
              "4       3      3      0        0         1       2      2"
            ]
          },
          "metadata": {
            "tags": []
          },
          "execution_count": 11
        }
      ]
    },
    {
      "cell_type": "markdown",
      "metadata": {
        "id": "R2DjPQOY9_S2",
        "colab_type": "text"
      },
      "source": [
        "### **Finding Correlation**"
      ]
    },
    {
      "cell_type": "code",
      "metadata": {
        "id": "u-q_wnpf86wn",
        "colab_type": "code",
        "outputId": "87391a19-9188-4720-85a0-17e241a6024d",
        "colab": {
          "base_uri": "https://localhost:8080/",
          "height": 450
        }
      },
      "source": [
        "plt.figure(figsize = (14, 7))\n",
        "\n",
        "# Calculate 'pearson' correlation which show correlation coeffitient of each variable with respect to othe variables\n",
        "pearsonCorrelation = dataset.corr(method = 'pearson')\n",
        "\n",
        "# Represent 'pearson' correlations in a heatmap\n",
        "sns.heatmap(pearsonCorrelation, \n",
        "            xticklabels=pearsonCorrelation.columns,\n",
        "            yticklabels=pearsonCorrelation.columns,\n",
        "            cmap='RdBu_r',\n",
        "            annot=True,\n",
        "            linewidth=0.6)"
      ],
      "execution_count": 0,
      "outputs": [
        {
          "output_type": "execute_result",
          "data": {
            "text/plain": [
              "<matplotlib.axes._subplots.AxesSubplot at 0x7f09d22beef0>"
            ]
          },
          "metadata": {
            "tags": []
          },
          "execution_count": 12
        },
        {
          "output_type": "display_data",
          "data": {
            "image/png": "[encoded data removed]",
            "text/plain": [
              "<Figure size 1008x504 with 2 Axes>"
            ]
          },
          "metadata": {
            "tags": [],
            "needs_background": "light"
          }
        }
      ]
    },
    {
      "cell_type": "markdown",
      "metadata": {
        "id": "9qOk5-6w9z-w",
        "colab_type": "text"
      },
      "source": [
        "**Results and Interpretation**:\n",
        "\n",
        "A co-efficient close to 1 means that there’s a very strong positive correlation between the two variables. In our case, the maroon shows very strong correlations. The diagonal line is the correlation of the variables to themselves — so they’ll obviously be 1."
      ]
    },
    {
      "cell_type": "markdown",
      "metadata": {
        "id": "d6MdnW1v98a8",
        "colab_type": "text"
      },
      "source": [
        "**Findings**:\n",
        "1. There are certainly weak correlation between the independent variables and the target variable 'class'. Thus, it's very unlikely to get any insights if these independent attributes are plotted against the dependent attribute 'class'."
      ]
    },
    {
      "cell_type": "markdown",
      "metadata": {
        "id": "sxOEecJoDmZW",
        "colab_type": "text"
      },
      "source": [
        "## **Model Selection**"
      ]
    },
    {
      "cell_type": "markdown",
      "metadata": {
        "id": "33l2TgzSGBGj",
        "colab_type": "text"
      },
      "source": [
        "### **Data Preprocessing for Model Selection**"
      ]
    },
    {
      "cell_type": "code",
      "metadata": {
        "id": "m-62bBYeBWuK",
        "colab_type": "code",
        "colab": {}
      },
      "source": [
        "# Creating a matrix of independent variables\n",
        "X = dataset.iloc[:, :-1].values\n",
        "\n",
        "# Creating dependent variable vector\n",
        "y = dataset.iloc[:, 6].values"
      ],
      "execution_count": 0,
      "outputs": []
    },
    {
      "cell_type": "markdown",
      "metadata": {
        "id": "_fD7-mZ1C15E",
        "colab_type": "text"
      },
      "source": [
        "### **Split dataset into Train and Test datasets**"
      ]
    },
    {
      "cell_type": "code",
      "metadata": {
        "id": "aOMoAMGmCWzn",
        "colab_type": "code",
        "colab": {}
      },
      "source": [
        "X_train, X_test, y_train, y_test = train_test_split(X, y, test_size = 0.4, random_state = 0)"
      ],
      "execution_count": 0,
      "outputs": []
    },
    {
      "cell_type": "markdown",
      "metadata": {
        "id": "3bAQQ-KkDp49",
        "colab_type": "text"
      },
      "source": [
        "### **1. KNN Classifier**"
      ]
    },
    {
      "cell_type": "markdown",
      "metadata": {
        "id": "bwRCKKrkpkgk",
        "colab_type": "text"
      },
      "source": [
        "**K = 1**"
      ]
    },
    {
      "cell_type": "code",
      "metadata": {
        "id": "OXNYtrGRpl91",
        "colab_type": "code",
        "outputId": "12d9d5c0-9568-4167-a02a-eb374e2cb1ab",
        "colab": {
          "base_uri": "https://localhost:8080/",
          "height": 34
        }
      },
      "source": [
        "# n_jobs = -1, (-1 means using all processors)\n",
        "knnClassifier = KNeighborsClassifier(n_neighbors = 1,  n_jobs = -1)\n",
        "\n",
        "knnClassifier.fit(X_train, y_train)\n",
        "y_prediction = knnClassifier.predict(X_test)\n",
        "\n",
        "# Compare actual target values (y_test) with predicted predicted values (y_prediction)\n",
        "print('Accuracy Score: ', metrics.accuracy_score(y_test, y_prediction))"
      ],
      "execution_count": 0,
      "outputs": [
        {
          "output_type": "stream",
          "text": [
            "Accuracy Score:  0.8092485549132948\n"
          ],
          "name": "stdout"
        }
      ]
    },
    {
      "cell_type": "markdown",
      "metadata": {
        "id": "fGpXn6atlfQ2",
        "colab_type": "text"
      },
      "source": [
        "**K = 5**"
      ]
    },
    {
      "cell_type": "code",
      "metadata": {
        "id": "uD6R-ZrIEEA8",
        "colab_type": "code",
        "outputId": "f100463b-c733-4b42-d169-08a370897c61",
        "colab": {
          "base_uri": "https://localhost:8080/",
          "height": 34
        }
      },
      "source": [
        "# n_jobs = -1, (-1 means using all processors)\n",
        "knnClassifier = KNeighborsClassifier(n_neighbors = 5,  n_jobs = -1)\n",
        "\n",
        "knnClassifier.fit(X_train, y_train)\n",
        "y_prediction = knnClassifier.predict(X_test)\n",
        "\n",
        "# Compare actual target values (y_test) with predicted predicted values (y_prediction)\n",
        "print('Accuracy Score: ', metrics.accuracy_score(y_test, y_prediction))"
      ],
      "execution_count": 0,
      "outputs": [
        {
          "output_type": "stream",
          "text": [
            "Accuracy Score:  0.8959537572254336\n"
          ],
          "name": "stdout"
        }
      ]
    },
    {
      "cell_type": "markdown",
      "metadata": {
        "id": "cDR2cmOTqIiP",
        "colab_type": "text"
      },
      "source": [
        "**Try to locate an even better value for K?**"
      ]
    },
    {
      "cell_type": "code",
      "metadata": {
        "id": "f0-i7hmEqNnG",
        "colab_type": "code",
        "colab": {}
      },
      "source": [
        "# Try K = 1 through K = 25 and record testing accuracy\n",
        "kRange = range(1, 25)\n",
        "knnAccuracyScores = []\n",
        "\n",
        "for K in kRange:\n",
        "    knnClassifier = KNeighborsClassifier(n_neighbors = K,  n_jobs = -1)\n",
        "    knnClassifier.fit(X_train, y_train)\n",
        "    y_prediction = knnClassifier.predict(X_test)\n",
        "    knnAccuracyScores.append(metrics.accuracy_score(y_test, y_prediction))"
      ],
      "execution_count": 0,
      "outputs": []
    },
    {
      "cell_type": "code",
      "metadata": {
        "id": "h3hy1hp3q13J",
        "colab_type": "code",
        "outputId": "d77d5341-8a37-4596-ac40-c21f7b11e16c",
        "colab": {
          "base_uri": "https://localhost:8080/",
          "height": 475
        }
      },
      "source": [
        "# Plot the relationship between K and testing accuracy\n",
        "plt.figure(figsize = (14, 7))\n",
        "plt.plot(kRange, knnAccuracyScores)\n",
        "plt.title('Value of K for KNN vs Testing Accuracy')\n",
        "plt.xlabel('Value of K for KNN')\n",
        "plt.ylabel('Testing Accuracy')"
      ],
      "execution_count": 0,
      "outputs": [
        {
          "output_type": "execute_result",
          "data": {
            "text/plain": [
              "Text(0, 0.5, 'Testing Accuracy')"
            ]
          },
          "metadata": {
            "tags": []
          },
          "execution_count": 18
        },
        {
          "output_type": "display_data",
          "data": {
            "image/png": "[encoded data removed]",
            "text/plain": [
              "<Figure size 1008x504 with 1 Axes>"
            ]
          },
          "metadata": {
            "tags": [],
            "needs_background": "light"
          }
        }
      ]
    },
    {
      "cell_type": "markdown",
      "metadata": {
        "id": "awyfRmaYtarm",
        "colab_type": "text"
      },
      "source": [
        "**Findings**:\n",
        "1. From the graph above, for ***n_neighbors = 6***, the highest accuracy can be achieved."
      ]
    },
    {
      "cell_type": "markdown",
      "metadata": {
        "id": "aY4BT8l9tOYs",
        "colab_type": "text"
      },
      "source": [
        "**K = 6**"
      ]
    },
    {
      "cell_type": "code",
      "metadata": {
        "id": "dyf4oPtItO1F",
        "colab_type": "code",
        "outputId": "a757001d-bce9-4c1f-d4ae-6b41cbac8b1a",
        "colab": {
          "base_uri": "https://localhost:8080/",
          "height": 34
        }
      },
      "source": [
        "# n_jobs = -1, (-1 means using all processors)\n",
        "knnClassifier = KNeighborsClassifier(n_neighbors = 6,  n_jobs = -1)\n",
        "\n",
        "knnClassifier.fit(X_train, y_train)\n",
        "y_prediction = knnClassifier.predict(X_test)\n",
        "\n",
        "# Compare actual target values (y_test) with predicted predicted values (y_prediction)\n",
        "print('Accuracy Score: ', metrics.accuracy_score(y_test, y_prediction))"
      ],
      "execution_count": 0,
      "outputs": [
        {
          "output_type": "stream",
          "text": [
            "Accuracy Score:  0.9002890173410405\n"
          ],
          "name": "stdout"
        }
      ]
    },
    {
      "cell_type": "markdown",
      "metadata": {
        "id": "g3k3El7jvMvP",
        "colab_type": "text"
      },
      "source": [
        "**Findings**:\n",
        "1. Using ***KNN*** (where ***K = 6***), we've got ***90%*** accuracy."
      ]
    },
    {
      "cell_type": "markdown",
      "metadata": {
        "id": "7DOTkkz6vFjh",
        "colab_type": "text"
      },
      "source": [
        "### **2. Logistic Regression**"
      ]
    },
    {
      "cell_type": "code",
      "metadata": {
        "id": "cAdjdDS6bgu1",
        "colab_type": "code",
        "colab": {}
      },
      "source": [
        "logisticRegressionClassifier = LogisticRegression(solver = 'newton-cg', multi_class = 'multinomial')"
      ],
      "execution_count": 0,
      "outputs": []
    },
    {
      "cell_type": "code",
      "metadata": {
        "id": "lbHGgp7ayYep",
        "colab_type": "code",
        "outputId": "4edb8450-e2ba-44ec-afbb-226111c40f10",
        "colab": {
          "base_uri": "https://localhost:8080/",
          "height": 34
        }
      },
      "source": [
        "logisticRegressionClassifier.fit(X_train, y_train)\n",
        "\n",
        "# Make predictions on the testing set\n",
        "y_prediction = logisticRegressionClassifier.predict(X_test)\n",
        "\n",
        "# Compare actual target values (y_test) with predicted predicted values (y_prediction)\n",
        "print('Accuracy Score: ', metrics.accuracy_score(y_test, y_prediction))"
      ],
      "execution_count": 0,
      "outputs": [
        {
          "output_type": "stream",
          "text": [
            "Accuracy Score:  0.6820809248554913\n"
          ],
          "name": "stdout"
        }
      ]
    },
    {
      "cell_type": "markdown",
      "metadata": {
        "id": "DeJG7LYXX2x7",
        "colab_type": "text"
      },
      "source": [
        "### **3. Decision Tree Classifier**"
      ]
    },
    {
      "cell_type": "code",
      "metadata": {
        "id": "3C7IYXa2X_Ll",
        "colab_type": "code",
        "colab": {}
      },
      "source": [
        "# n_jobs = -1, (-1 means using all processors)\n",
        "decisionTreeClassifier = DecisionTreeClassifier(criterion='entropy', random_state = 0)"
      ],
      "execution_count": 0,
      "outputs": []
    },
    {
      "cell_type": "code",
      "metadata": {
        "id": "5dUONvbAYoKF",
        "colab_type": "code",
        "outputId": "f473ba0f-b341-48ae-c0d6-833904e1b776",
        "colab": {
          "base_uri": "https://localhost:8080/",
          "height": 34
        }
      },
      "source": [
        "decisionTreeClassifier.fit(X_train, y_train)\n",
        "\n",
        "# Make predictions on the testing set\n",
        "y_prediction = decisionTreeClassifier.predict(X_test)\n",
        "\n",
        "# Compare actual target values (y_test) with predicted predicted values (y_prediction)\n",
        "print('Accuracy Score: ', metrics.accuracy_score(y_test, y_prediction))"
      ],
      "execution_count": 0,
      "outputs": [
        {
          "output_type": "stream",
          "text": [
            "Accuracy Score:  0.9783236994219653\n"
          ],
          "name": "stdout"
        }
      ]
    },
    {
      "cell_type": "markdown",
      "metadata": {
        "id": "Kg8NtiXV2M4Z",
        "colab_type": "text"
      },
      "source": [
        "### **4. Random Forests Classifier**"
      ]
    },
    {
      "cell_type": "code",
      "metadata": {
        "id": "E49i5prA2Z1F",
        "colab_type": "code",
        "colab": {}
      },
      "source": [
        "# n_jobs = -1, (-1 means using all processors)\n",
        "randomForestClassifier = RandomForestClassifier(n_jobs=-1, random_state = 0)"
      ],
      "execution_count": 0,
      "outputs": []
    },
    {
      "cell_type": "code",
      "metadata": {
        "id": "3QDFiKQf2nre",
        "colab_type": "code",
        "outputId": "933ab373-e8ea-4f40-c666-8f078b31e32e",
        "colab": {
          "base_uri": "https://localhost:8080/",
          "height": 34
        }
      },
      "source": [
        "randomForestClassifier.fit(X_train, y_train)\n",
        "\n",
        "# Make predictions on the testing set\n",
        "y_prediction = randomForestClassifier.predict(X_test)\n",
        "\n",
        "# Compare actual target values (y_test) with predicted predicted values (y_prediction)\n",
        "print('Accuracy Score: ', metrics.accuracy_score(y_test, y_prediction))"
      ],
      "execution_count": 0,
      "outputs": [
        {
          "output_type": "stream",
          "text": [
            "Accuracy Score:  0.9638728323699421\n"
          ],
          "name": "stdout"
        }
      ]
    },
    {
      "cell_type": "markdown",
      "metadata": {
        "id": "URMH0JMuSOiH",
        "colab_type": "text"
      },
      "source": [
        "## **Conclusion**\n",
        "**Decision Tree Classifier** is the best suitable model for this car evaluation dataset with following parameters: \n",
        "* criterion='entropy'\n",
        "* random_state = 0\n",
        "\n",
        "This model were able to achieve 97.83% accuracy\n"
      ]
    }
  ]
}