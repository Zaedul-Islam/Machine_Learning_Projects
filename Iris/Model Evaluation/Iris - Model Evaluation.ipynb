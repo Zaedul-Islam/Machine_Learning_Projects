{
  "nbformat": 4,
  "nbformat_minor": 0,
  "metadata": {
    "colab": {
      "name": "Iris - Model Evaluation.ipynb",
      "provenance": [],
      "collapsed_sections": [],
      "authorship_tag": "ABX9TyPLV6vev51XnO0+iLxhhHPt",
      "include_colab_link": true
    },
    "kernelspec": {
      "name": "python3",
      "display_name": "Python 3"
    }
  },
  "cells": [
    {
      "cell_type": "markdown",
      "metadata": {
        "id": "view-in-github",
        "colab_type": "text"
      },
      "source": [
        "<a href=\"https://colab.research.google.com/github/Zaedul-Islam/Machine_Learning_Projects/blob/master/Iris/Model%20Evaluation/Iris%20-%20Model%20Evaluation.ipynb\" target=\"_parent\"><img src=\"https://colab.research.google.com/assets/colab-badge.svg\" alt=\"Open In Colab\"/></a>"
      ]
    },
    {
      "cell_type": "markdown",
      "metadata": {
        "id": "cLJvSbNgWz1O",
        "colab_type": "text"
      },
      "source": [
        "# **Comparing machine learning models in scikit-learn**\n",
        "\n",
        "---\n",
        "\n"
      ]
    },
    {
      "cell_type": "markdown",
      "metadata": {
        "id": "XRJtPr0LXbfV",
        "colab_type": "text"
      },
      "source": [
        "## **Evaluation procedure #1: Train and test on the entire dataset**\n",
        "\n",
        "---\n",
        "\n",
        "\n",
        "\n",
        "1.   Train the model on the **entire dataset**.\n",
        "2.   Test the model on the **same dataset**, and evaluate how well we did by comparing the **predicted** target values with the **true** target values."
      ]
    },
    {
      "cell_type": "code",
      "metadata": {
        "id": "wVPjNBO2Wrso",
        "colab_type": "code",
        "colab": {}
      },
      "source": [
        "# import load_iris function from datasets module\n",
        "from sklearn.datasets import load_iris\n",
        "\n",
        "# Load \"bunch\" object containing iris dataset and its attributes\n",
        "iris = load_iris()\n",
        "\n",
        "# Create X (features matrix) and y (target)\n",
        "X = iris.data\n",
        "y = iris.target"
      ],
      "execution_count": 0,
      "outputs": []
    },
    {
      "cell_type": "code",
      "metadata": {
        "id": "a8pVVq0DYMGB",
        "colab_type": "code",
        "outputId": "c6c11c09-841f-4706-c639-484b1037c2b8",
        "colab": {
          "base_uri": "https://localhost:8080/",
          "height": 1000
        }
      },
      "source": [
        "print(X)"
      ],
      "execution_count": 2,
      "outputs": [
        {
          "output_type": "stream",
          "text": [
            "[[5.1 3.5 1.4 0.2]\n",
            " [4.9 3.  1.4 0.2]\n",
            " [4.7 3.2 1.3 0.2]\n",
            " [4.6 3.1 1.5 0.2]\n",
            " [5.  3.6 1.4 0.2]\n",
            " [5.4 3.9 1.7 0.4]\n",
            " [4.6 3.4 1.4 0.3]\n",
            " [5.  3.4 1.5 0.2]\n",
            " [4.4 2.9 1.4 0.2]\n",
            " [4.9 3.1 1.5 0.1]\n",
            " [5.4 3.7 1.5 0.2]\n",
            " [4.8 3.4 1.6 0.2]\n",
            " [4.8 3.  1.4 0.1]\n",
            " [4.3 3.  1.1 0.1]\n",
            " [5.8 4.  1.2 0.2]\n",
            " [5.7 4.4 1.5 0.4]\n",
            " [5.4 3.9 1.3 0.4]\n",
            " [5.1 3.5 1.4 0.3]\n",
            " [5.7 3.8 1.7 0.3]\n",
            " [5.1 3.8 1.5 0.3]\n",
            " [5.4 3.4 1.7 0.2]\n",
            " [5.1 3.7 1.5 0.4]\n",
            " [4.6 3.6 1.  0.2]\n",
            " [5.1 3.3 1.7 0.5]\n",
            " [4.8 3.4 1.9 0.2]\n",
            " [5.  3.  1.6 0.2]\n",
            " [5.  3.4 1.6 0.4]\n",
            " [5.2 3.5 1.5 0.2]\n",
            " [5.2 3.4 1.4 0.2]\n",
            " [4.7 3.2 1.6 0.2]\n",
            " [4.8 3.1 1.6 0.2]\n",
            " [5.4 3.4 1.5 0.4]\n",
            " [5.2 4.1 1.5 0.1]\n",
            " [5.5 4.2 1.4 0.2]\n",
            " [4.9 3.1 1.5 0.2]\n",
            " [5.  3.2 1.2 0.2]\n",
            " [5.5 3.5 1.3 0.2]\n",
            " [4.9 3.6 1.4 0.1]\n",
            " [4.4 3.  1.3 0.2]\n",
            " [5.1 3.4 1.5 0.2]\n",
            " [5.  3.5 1.3 0.3]\n",
            " [4.5 2.3 1.3 0.3]\n",
            " [4.4 3.2 1.3 0.2]\n",
            " [5.  3.5 1.6 0.6]\n",
            " [5.1 3.8 1.9 0.4]\n",
            " [4.8 3.  1.4 0.3]\n",
            " [5.1 3.8 1.6 0.2]\n",
            " [4.6 3.2 1.4 0.2]\n",
            " [5.3 3.7 1.5 0.2]\n",
            " [5.  3.3 1.4 0.2]\n",
            " [7.  3.2 4.7 1.4]\n",
            " [6.4 3.2 4.5 1.5]\n",
            " [6.9 3.1 4.9 1.5]\n",
            " [5.5 2.3 4.  1.3]\n",
            " [6.5 2.8 4.6 1.5]\n",
            " [5.7 2.8 4.5 1.3]\n",
            " [6.3 3.3 4.7 1.6]\n",
            " [4.9 2.4 3.3 1. ]\n",
            " [6.6 2.9 4.6 1.3]\n",
            " [5.2 2.7 3.9 1.4]\n",
            " [5.  2.  3.5 1. ]\n",
            " [5.9 3.  4.2 1.5]\n",
            " [6.  2.2 4.  1. ]\n",
            " [6.1 2.9 4.7 1.4]\n",
            " [5.6 2.9 3.6 1.3]\n",
            " [6.7 3.1 4.4 1.4]\n",
            " [5.6 3.  4.5 1.5]\n",
            " [5.8 2.7 4.1 1. ]\n",
            " [6.2 2.2 4.5 1.5]\n",
            " [5.6 2.5 3.9 1.1]\n",
            " [5.9 3.2 4.8 1.8]\n",
            " [6.1 2.8 4.  1.3]\n",
            " [6.3 2.5 4.9 1.5]\n",
            " [6.1 2.8 4.7 1.2]\n",
            " [6.4 2.9 4.3 1.3]\n",
            " [6.6 3.  4.4 1.4]\n",
            " [6.8 2.8 4.8 1.4]\n",
            " [6.7 3.  5.  1.7]\n",
            " [6.  2.9 4.5 1.5]\n",
            " [5.7 2.6 3.5 1. ]\n",
            " [5.5 2.4 3.8 1.1]\n",
            " [5.5 2.4 3.7 1. ]\n",
            " [5.8 2.7 3.9 1.2]\n",
            " [6.  2.7 5.1 1.6]\n",
            " [5.4 3.  4.5 1.5]\n",
            " [6.  3.4 4.5 1.6]\n",
            " [6.7 3.1 4.7 1.5]\n",
            " [6.3 2.3 4.4 1.3]\n",
            " [5.6 3.  4.1 1.3]\n",
            " [5.5 2.5 4.  1.3]\n",
            " [5.5 2.6 4.4 1.2]\n",
            " [6.1 3.  4.6 1.4]\n",
            " [5.8 2.6 4.  1.2]\n",
            " [5.  2.3 3.3 1. ]\n",
            " [5.6 2.7 4.2 1.3]\n",
            " [5.7 3.  4.2 1.2]\n",
            " [5.7 2.9 4.2 1.3]\n",
            " [6.2 2.9 4.3 1.3]\n",
            " [5.1 2.5 3.  1.1]\n",
            " [5.7 2.8 4.1 1.3]\n",
            " [6.3 3.3 6.  2.5]\n",
            " [5.8 2.7 5.1 1.9]\n",
            " [7.1 3.  5.9 2.1]\n",
            " [6.3 2.9 5.6 1.8]\n",
            " [6.5 3.  5.8 2.2]\n",
            " [7.6 3.  6.6 2.1]\n",
            " [4.9 2.5 4.5 1.7]\n",
            " [7.3 2.9 6.3 1.8]\n",
            " [6.7 2.5 5.8 1.8]\n",
            " [7.2 3.6 6.1 2.5]\n",
            " [6.5 3.2 5.1 2. ]\n",
            " [6.4 2.7 5.3 1.9]\n",
            " [6.8 3.  5.5 2.1]\n",
            " [5.7 2.5 5.  2. ]\n",
            " [5.8 2.8 5.1 2.4]\n",
            " [6.4 3.2 5.3 2.3]\n",
            " [6.5 3.  5.5 1.8]\n",
            " [7.7 3.8 6.7 2.2]\n",
            " [7.7 2.6 6.9 2.3]\n",
            " [6.  2.2 5.  1.5]\n",
            " [6.9 3.2 5.7 2.3]\n",
            " [5.6 2.8 4.9 2. ]\n",
            " [7.7 2.8 6.7 2. ]\n",
            " [6.3 2.7 4.9 1.8]\n",
            " [6.7 3.3 5.7 2.1]\n",
            " [7.2 3.2 6.  1.8]\n",
            " [6.2 2.8 4.8 1.8]\n",
            " [6.1 3.  4.9 1.8]\n",
            " [6.4 2.8 5.6 2.1]\n",
            " [7.2 3.  5.8 1.6]\n",
            " [7.4 2.8 6.1 1.9]\n",
            " [7.9 3.8 6.4 2. ]\n",
            " [6.4 2.8 5.6 2.2]\n",
            " [6.3 2.8 5.1 1.5]\n",
            " [6.1 2.6 5.6 1.4]\n",
            " [7.7 3.  6.1 2.3]\n",
            " [6.3 3.4 5.6 2.4]\n",
            " [6.4 3.1 5.5 1.8]\n",
            " [6.  3.  4.8 1.8]\n",
            " [6.9 3.1 5.4 2.1]\n",
            " [6.7 3.1 5.6 2.4]\n",
            " [6.9 3.1 5.1 2.3]\n",
            " [5.8 2.7 5.1 1.9]\n",
            " [6.8 3.2 5.9 2.3]\n",
            " [6.7 3.3 5.7 2.5]\n",
            " [6.7 3.  5.2 2.3]\n",
            " [6.3 2.5 5.  1.9]\n",
            " [6.5 3.  5.2 2. ]\n",
            " [6.2 3.4 5.4 2.3]\n",
            " [5.9 3.  5.1 1.8]]\n"
          ],
          "name": "stdout"
        }
      ]
    },
    {
      "cell_type": "code",
      "metadata": {
        "id": "i1dzg2lSYN8Z",
        "colab_type": "code",
        "outputId": "599fa8c8-deb2-47a3-c21e-5a18739d6709",
        "colab": {
          "base_uri": "https://localhost:8080/",
          "height": 102
        }
      },
      "source": [
        "print(y)"
      ],
      "execution_count": 3,
      "outputs": [
        {
          "output_type": "stream",
          "text": [
            "[0 0 0 0 0 0 0 0 0 0 0 0 0 0 0 0 0 0 0 0 0 0 0 0 0 0 0 0 0 0 0 0 0 0 0 0 0\n",
            " 0 0 0 0 0 0 0 0 0 0 0 0 0 1 1 1 1 1 1 1 1 1 1 1 1 1 1 1 1 1 1 1 1 1 1 1 1\n",
            " 1 1 1 1 1 1 1 1 1 1 1 1 1 1 1 1 1 1 1 1 1 1 1 1 1 1 2 2 2 2 2 2 2 2 2 2 2\n",
            " 2 2 2 2 2 2 2 2 2 2 2 2 2 2 2 2 2 2 2 2 2 2 2 2 2 2 2 2 2 2 2 2 2 2 2 2 2\n",
            " 2 2]\n"
          ],
          "name": "stdout"
        }
      ]
    },
    {
      "cell_type": "markdown",
      "metadata": {
        "id": "0J3xklcBZLiU",
        "colab_type": "text"
      },
      "source": [
        "## **#1. Classifier: Logistic Regression**"
      ]
    },
    {
      "cell_type": "code",
      "metadata": {
        "id": "D2Igut17ZSqN",
        "colab_type": "code",
        "outputId": "14eec500-6442-4380-b89f-4f7676079704",
        "colab": {
          "base_uri": "https://localhost:8080/",
          "height": 102
        }
      },
      "source": [
        "# Import the class\n",
        "from sklearn.linear_model import LogisticRegression\n",
        "\n",
        "# Instantiate the model (using the default parameters)\n",
        "logisticRegressionClassifier = LogisticRegression()\n",
        "\n",
        "print(logisticRegressionClassifier)"
      ],
      "execution_count": 4,
      "outputs": [
        {
          "output_type": "stream",
          "text": [
            "LogisticRegression(C=1.0, class_weight=None, dual=False, fit_intercept=True,\n",
            "                   intercept_scaling=1, l1_ratio=None, max_iter=100,\n",
            "                   multi_class='auto', n_jobs=None, penalty='l2',\n",
            "                   random_state=None, solver='lbfgs', tol=0.0001, verbose=0,\n",
            "                   warm_start=False)\n"
          ],
          "name": "stdout"
        }
      ]
    },
    {
      "cell_type": "code",
      "metadata": {
        "id": "-NaBWH3raCDe",
        "colab_type": "code",
        "outputId": "7829d262-ee3a-41c3-f6c1-be4eb4a78971",
        "colab": {
          "base_uri": "https://localhost:8080/",
          "height": 272
        }
      },
      "source": [
        "# Fit the model with data\n",
        "logisticRegressionClassifier.fit(X, y)\n",
        "\n",
        "# Predict the target values for the observations in X\n",
        "logisticRegressionClassifier.predict(X)"
      ],
      "execution_count": 5,
      "outputs": [
        {
          "output_type": "stream",
          "text": [
            "/usr/local/lib/python3.6/dist-packages/sklearn/linear_model/_logistic.py:940: ConvergenceWarning: lbfgs failed to converge (status=1):\n",
            "STOP: TOTAL NO. of ITERATIONS REACHED LIMIT.\n",
            "\n",
            "Increase the number of iterations (max_iter) or scale the data as shown in:\n",
            "    https://scikit-learn.org/stable/modules/preprocessing.html\n",
            "Please also refer to the documentation for alternative solver options:\n",
            "    https://scikit-learn.org/stable/modules/linear_model.html#logistic-regression\n",
            "  extra_warning_msg=_LOGISTIC_SOLVER_CONVERGENCE_MSG)\n"
          ],
          "name": "stderr"
        },
        {
          "output_type": "execute_result",
          "data": {
            "text/plain": [
              "array([0, 0, 0, 0, 0, 0, 0, 0, 0, 0, 0, 0, 0, 0, 0, 0, 0, 0, 0, 0, 0, 0,\n",
              "       0, 0, 0, 0, 0, 0, 0, 0, 0, 0, 0, 0, 0, 0, 0, 0, 0, 0, 0, 0, 0, 0,\n",
              "       0, 0, 0, 0, 0, 0, 1, 1, 1, 1, 1, 1, 1, 1, 1, 1, 1, 1, 1, 1, 1, 1,\n",
              "       1, 1, 1, 1, 2, 1, 1, 1, 1, 1, 1, 2, 1, 1, 1, 1, 1, 2, 1, 1, 1, 1,\n",
              "       1, 1, 1, 1, 1, 1, 1, 1, 1, 1, 1, 1, 2, 2, 2, 2, 2, 2, 1, 2, 2, 2,\n",
              "       2, 2, 2, 2, 2, 2, 2, 2, 2, 2, 2, 2, 2, 2, 2, 2, 2, 2, 2, 2, 2, 2,\n",
              "       2, 2, 2, 2, 2, 2, 2, 2, 2, 2, 2, 2, 2, 2, 2, 2, 2, 2])"
            ]
          },
          "metadata": {
            "tags": []
          },
          "execution_count": 5
        }
      ]
    },
    {
      "cell_type": "code",
      "metadata": {
        "id": "78KwqWaHauYg",
        "colab_type": "code",
        "outputId": "2ef0f7d8-43b6-4fdc-d7ab-1e47a644702b",
        "colab": {
          "base_uri": "https://localhost:8080/",
          "height": 34
        }
      },
      "source": [
        "# Store the predicted target values\n",
        "y_prediction = logisticRegressionClassifier.predict(X)\n",
        "\n",
        "# Check how many predictions were generated\n",
        "len(y_prediction)"
      ],
      "execution_count": 6,
      "outputs": [
        {
          "output_type": "execute_result",
          "data": {
            "text/plain": [
              "150"
            ]
          },
          "metadata": {
            "tags": []
          },
          "execution_count": 6
        }
      ]
    },
    {
      "cell_type": "markdown",
      "metadata": {
        "id": "QcVwYMy1bU_-",
        "colab_type": "text"
      },
      "source": [
        "**Classification accuracy (a numerical way how a model performs):**\n",
        "\n",
        "*   **Proportion** of correct predictions. This is known as a evaluation metric. There're many possible evaluation metrics \n",
        "*   Common **evaluation metric** for classification problems: *`metrics`* module from scikit-learn\n"
      ]
    },
    {
      "cell_type": "code",
      "metadata": {
        "id": "rU2uE5x1cCSB",
        "colab_type": "code",
        "outputId": "6e31cf7c-bc92-402b-8e7b-ba485f52333e",
        "colab": {
          "base_uri": "https://localhost:8080/",
          "height": 34
        }
      },
      "source": [
        "# Compute classification accuracy for the logistic regression model\n",
        "from sklearn import metrics\n",
        "\n",
        "print(metrics.accuracy_score(y, y_prediction))"
      ],
      "execution_count": 7,
      "outputs": [
        {
          "output_type": "stream",
          "text": [
            "0.9733333333333334\n"
          ],
          "name": "stdout"
        }
      ]
    },
    {
      "cell_type": "markdown",
      "metadata": {
        "id": "B9zeGp_cdMQ8",
        "colab_type": "text"
      },
      "source": [
        "\n",
        "*   97% of predictions are correct\n",
        "*   Known as **training accuracy** when you train and test the model on the same data\n",
        "\n",
        "\n"
      ]
    },
    {
      "cell_type": "markdown",
      "metadata": {
        "id": "Mwmtc9zjfBdK",
        "colab_type": "text"
      },
      "source": [
        "## **#2. Classifier: K-Nearest Neighbors**"
      ]
    },
    {
      "cell_type": "markdown",
      "metadata": {
        "id": "3uQNZTSufNcj",
        "colab_type": "text"
      },
      "source": [
        "### **KNN (K=5)**"
      ]
    },
    {
      "cell_type": "code",
      "metadata": {
        "id": "-AXa9fCZffFP",
        "colab_type": "code",
        "outputId": "a0025a7b-1c66-4d1b-fe68-e64c90c3df4c",
        "colab": {
          "base_uri": "https://localhost:8080/",
          "height": 34
        }
      },
      "source": [
        "from sklearn.neighbors import KNeighborsClassifier\n",
        "knnClassifier = KNeighborsClassifier(n_neighbors = 5)\n",
        "knnClassifier.fit(X, y)\n",
        "y_prediction = knnClassifier.predict(X)\n",
        "print(metrics.accuracy_score(y, y_prediction))"
      ],
      "execution_count": 8,
      "outputs": [
        {
          "output_type": "stream",
          "text": [
            "0.9666666666666667\n"
          ],
          "name": "stdout"
        }
      ]
    },
    {
      "cell_type": "markdown",
      "metadata": {
        "id": "Dtb0jXsPgMTj",
        "colab_type": "text"
      },
      "source": [
        "### **KNN (K=1)**"
      ]
    },
    {
      "cell_type": "code",
      "metadata": {
        "id": "3T8bVTIhgHFZ",
        "colab_type": "code",
        "outputId": "0ea9201f-3a74-4616-9abe-a492db2c3732",
        "colab": {
          "base_uri": "https://localhost:8080/",
          "height": 34
        }
      },
      "source": [
        "knnClassifier = KNeighborsClassifier(n_neighbors=1)\n",
        "knnClassifier.fit(X, y)\n",
        "y_prediction = knnClassifier.predict(X)\n",
        "print(metrics.accuracy_score(y, y_prediction))"
      ],
      "execution_count": 9,
      "outputs": [
        {
          "output_type": "stream",
          "text": [
            "1.0\n"
          ],
          "name": "stdout"
        }
      ]
    },
    {
      "cell_type": "markdown",
      "metadata": {
        "id": "-VewuqYZgsAQ",
        "colab_type": "text"
      },
      "source": [
        "So, it can be concluded that KNN with K=1 is the model to use with the Iris dataset."
      ]
    },
    {
      "cell_type": "markdown",
      "metadata": {
        "id": "gKNH_h7V2DtO",
        "colab_type": "text"
      },
      "source": [
        "## **Problems with training and testing on the same data**\n",
        "\n",
        "---\n",
        "\n",
        "* Goal is to estimate likely performance of a model on **out-of-sample data** meaning future observations in which we don't know the true target values\n",
        "* But, maximizing training accuracy rewards **overly complex models** that won't necessarily generalize to future cases\n",
        "* Unnecessarily complex models **overfit** the training data. Models that overfit learn the noise in the data rather than the signal.\n",
        "* In the case of KNN, a very low of K creates a high complexity models because if follows the noise in the data."
      ]
    },
    {
      "cell_type": "markdown",
      "metadata": {
        "id": "8NJFv8uLsp1a",
        "colab_type": "text"
      },
      "source": [
        "## **Evaluation procedure #2: Train/test split**\n",
        "\n",
        "---\n",
        "\n",
        "\n",
        "\n",
        "1. Split the dataset into two pieces: a **training set** and a **testing set**.\n",
        "2. Train the model on the **training set**.\n",
        "3. Test the model on the **testing set**, and evaluate how well we did.\n",
        "\n"
      ]
    },
    {
      "cell_type": "markdown",
      "metadata": {
        "id": "obixv4vP8vVm",
        "colab_type": "text"
      },
      "source": [
        "![image.png](data:image/png;base64,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)"
      ]
    },
    {
      "cell_type": "code",
      "metadata": {
        "id": "y-S4lmkWtLYJ",
        "colab_type": "code",
        "outputId": "78510ab1-90cd-4764-f36e-9b53c46c0464",
        "colab": {
          "base_uri": "https://localhost:8080/",
          "height": 51
        }
      },
      "source": [
        "# Print the shapes of X and y\n",
        "print(X.shape)\n",
        "print(y.shape)"
      ],
      "execution_count": 10,
      "outputs": [
        {
          "output_type": "stream",
          "text": [
            "(150, 4)\n",
            "(150,)\n"
          ],
          "name": "stdout"
        }
      ]
    },
    {
      "cell_type": "markdown",
      "metadata": {
        "colab_type": "text",
        "id": "zhdKmAU_wr37"
      },
      "source": [
        "### **#1. Classifier: Logistic Regression**"
      ]
    },
    {
      "cell_type": "markdown",
      "metadata": {
        "id": "K9oNG8Jdt07t",
        "colab_type": "text"
      },
      "source": [
        "**STEP 1: Split X and y into training and testing sets**"
      ]
    },
    {
      "cell_type": "code",
      "metadata": {
        "id": "g_Bh6dKJtd9x",
        "colab_type": "code",
        "colab": {}
      },
      "source": [
        "from sklearn.model_selection import train_test_split\n",
        "X_train, X_test, y_train, y_test = train_test_split(X, y, test_size = 0.4, random_state = 4)"
      ],
      "execution_count": 0,
      "outputs": []
    },
    {
      "cell_type": "markdown",
      "metadata": {
        "id": "4GOn6t3xCaD9",
        "colab_type": "text"
      },
      "source": [
        "*`test_size`*: There's no general as to what percentage is the best. But it's usual to use 20% to 40% of the data for testing."
      ]
    },
    {
      "cell_type": "markdown",
      "metadata": {
        "id": "Zprg_ZHABIFM",
        "colab_type": "text"
      },
      "source": [
        "Running the **train_test_split** on **X** and **y** will yeild to as something like below.\n",
        "\n",
        "![image.png](data:image/png;base64,iVBORw0KGgoAAAANSUhEUgAAArMAAAEXCAYAAAC+gsx+AAAgAElEQVR4Ae2dv470ttWH52ICJDDSfEi1blIGBlKkdZEqwDYuAqQOECSdm6zLNAncOEU6N+sy7px7WMC170IfODMkjyiSIiVK4p9ngX1nVqLIw9855HnEoea9TfygAAqgAAqgAAqgAAqgQKMK3Bq1G7NRAAVQAAVQAAVQAAVQYAJmCQIUQAEUQAEUQAEUQIFmFQBmm3UdhqMACqAACqAACqAACgCzxAAKoAAKoAAKoAAKoECzCgCzzboOw1EABVAABVAABVAABYBZYgAFUAAFUAAFUAAFUKBZBYDZZl2H4SiAAiiAAiiAAiiAAsAsMYACKIACKIACKIACKNCsAsBss67DcBRAARRAARRAARRAAWCWGEABFEABFEABFEABFGhWAWC2WddhOAqgAAqgAAqgAAqgADBLDKAACqAACqAACqAACjSrADDbrOswHAVQAAVQAAVQAAVQAJglBlAABVAABVAABVAABZpVAJht1nUYjgIogAIogAIogAIoAMwSAyiAAiiAAiiAAiiAAs0qAMw26zoMRwEUQAEUQAEUQAEUAGaJARRAARRAARRAARRAgWYVAGabdV37ht9ut4lfNCAGiAFiYIwYaD9r0YNaFQBma/XMAHapBMYPCqDAGAow3sfwc6iX+D+kDMdLKABNlFCROjYpwOS2STYuQoEmFWC8N+m2Ykbj/2JSUpFHAWDWIwqHzlGAye0cnWkFBWpQgPFegxeuswH/X6f9CC0DsyN4udI+MrlV6hjMQoEDFGC8HyBqQ1Xi/4ac1aCpwGyDTuvFZCa3XjxJP1BgXQHG+7pGPZfA/z179/q+AbPX+2BYC5jchnU9HR9QAcb7gE4XXcb/QgzeFlcAmC0uKRWmKsDklqoU5VCgfQUY7+37cE8P8P8e9bh2TQFgdk0hzh+mAJPbYdJSMQpUpwDjvTqXnGoQ/j9V7uEaA2aHc3k9HWZyq8cXWIICRyvAeD9a4brrx/91+6d164DZ1j3YsP1Mbg07D9NRIFMBxnumYJ0Vx/+dObSy7gCzlTlkJHOSJrePr6ZPZ//t7ev0PpJIo/b14216we9deT9pvHfVYzojFcD/Ug3el1YAmC2tKPUlK7A6uS1AVv3/5Z9OX30kN0HBFhVYgKzy+8v0ht9b9KaxeXW8m5K86VEB/N+jV+vpEzBbjy+Gs2Rtcnt/VRBzm26ffjXBMReEh7iZ+PTEOwjj95c3/H6a29+n19lK+HPsvZb7HGRtvJ/WVRq6RAH8f4nswzQKzA7j6vo6Gp/cbHItmE/rE6FSiwxQPgHnPJjF7+eGxMf09vIEVx/M3o+VWRWPj/dze01r5yuA/8/XfKQWgdmRvF1ZX+OTW4VQY1YqO97qYPo4B5yhYdZseygDdXUNwyfMelbBZzc0nvO5/YiP99zaKN+aAvi/NY+1ZS8w25a/urI2OrkZqKoIHGu0qWREvL8+tnXcV+OU7vaG4jSYrREca7SppN8jdUmg3fsJSXS8R2zgVB8K4P8+/FhrL4DZWj0zgF3Rya1GcKzRppJx8oRZCy3A7F3egWF2Ejc4Ni62BV10vG+rkqsaUgD/N+SsBk0FZht0Wi8meyc3kTzVeffXu0Lou2btoTHfNao9X8YOldX2zdpKAEBTn/s1Yx/TV58++vwww9aldCjW9+QAsu17206uJ6Gg0WTpc9X3F99XGfiuWfs43HfNVr/P2rJaeW1VEpi2l37X+1Z9fvfWZ+oSes3sSdA8pYhoxzc0UqrQZZQf/T923+6R/f94e1nMJ8s+aVvslpLlda7/PL0yN0DCP6E4vl+u271N2ia5Kn6fB1f8u7TT1uWxUMSjsHGlDW89iQfD/k+sgGIoEFEgNLtELuEUCpRRwDu5ieR5n8A1MD5f51Bl4c9XVh3TicFabKEjdM3t5iSrFZvm37Zg65/bai2IQY2B2a/c79d1QXtL34UNSW8T+pJUT0KhFY3nQGcTf8iHp/h9lvitVnNbRd9NH534mmx/Xt/c79dd+l2Db3rfhQ2Zby0gWbjLrMIUV/b6f47uv61/qZnbL11WHbc+XV7nm1tU7/T1AhCdOWwxv9xFsdd5Y8DU4cbOWptu/9bKP+xejp+7kbv+Cft/V7VcjAJ3BUKzC/KgwOEKRCe3hI/07cqFu69Wgp47+T8T1Gw19dlV06YLEO55tz0plU2Ae2BWJ89QUtnWd2lnyvuEvqRUk1PGrGj5kvCjItt3t4wFgiUwPPsyA9CnYabNkN81YLrtyY5ZrfbAbLrfXVtifZd25ry3fbr5dMupapruq6L+S6TtcZja5HtzE+FqpvrnHlvaMvOnjBX3pve++G4hdnad6rix4zYt9Vy2K8e+vanwfEph6nX74uufMkPb6JaXNrjzpt9zOUej831ORZRFAY8CwKxHFA6do0B0cjNgGQBHcz406VqgDUKlp5sfX336+CgyCrsBm+71WQAItmuSj2u7tVlpI5PZzNSD+j5rI7Uvy4v2HTGw4CbaZ7XmvKudbtYm5AVM6CKeVwMLPmgzbQZsutdn/R5sN+J3udoa9ruG6rJ998hxP2Q0icVi6GLP8fB4tz6Lx/22/pt+BIWVxkpbAv42fnTGqIkT57isPnTtbEXX366BUCdGs/pnbDwnhmTXw/6XpXiPAtsUAGa36cZVBRSITm4G2PzgaKAzkqDM5B8p43bD1HsxzAZBWH2QqYE70q8tfXe1mCYLaDF7ltftOGKSrT+hpyTuLX039TqgcO/Jik2P3lqt9sBs8Frld73n83C/3xuz/51wpL0cT4fHuwXII/pvdFuswvqsT7HFX8a2EwJF1Z7/2vBxa6Op34lRczyhf6ZsxKdbxo+1Mvwu7P/wNZxBgVQFgNlUpShXXIHo5LYCs2bCNXvJ9EdnnlfvxD1fBVW2zH4rhtn9fU91pQW0WmB2f98tTMz8rf3vgMJdqUpgdn/f8/2+/Dg8tY5lufB4tz6Jwez2/tv6Hz733yg9LLZlk2wRc4uxTxxbqiA+5p+VS2jXrOq6sGyvXeufsVHHe+x1Zp+vJ3nHwv7Pq4fSKOBTAJj1qcKxUxSITm5RmF0BUXeCdiZls7LplpN/Vwuz+/qe59jaYNZN2s4NiPSfeu/6Xa9suuXk39XC7L6+p/vd+ny57zi9Fl/J8Hi3fQsDpC3zALY83yt7fCDnhEhk5XTeI1OXqMB3bH7V4y9/Odu/oAZBmHXqFfEszJv1bauGvv6kHgv7P7UGyqFAWAFgNqwNZw5WIDq5RWFWJKb5bL1usUkIS9hRFxvQrRZmd/R9XR2nhAWb6lZmS/tdg261MHuG362/S4OsCqzweE8AOQmjub53onr2INZiP/B2W/yQ6jYe8mNCu2bucldmnTZMuQfwS7lSbXRqLPJn2P9FqqeSwRUAZgcPgCu7H53cUmHWB52RTpnJPHDdfpi1K6dBADTJxk1KCdfKpB7oQ6T7macs3AT7klnjavGVj/SN/3zQGal87Tqzl9BX74pNj2b3wEjCtdLvPhsjfU87ZX19S9h7mVbnvFR4vF/Rf9vmfCuFPR5cIRV7yWWZaAwZKazO8tqUPbMWwt15w1Qu3th+yP6tjQNRQfG3Yf8Xb4oKB1QAmB3Q6bV0OTq5rcCsndj9D4iF+mgm8wAIRs8bmyJPK08WSN2PuR822WS2XP2y10bh0cBwXt9DmoSPW1uj9oQryD+zBo6m77F9j8tmjV8DIBg9b2yK+918I4FcCjOmWC19ftfXzgHHXPx4s7HvTi2ePwX4HASyqtHweLftn9l/P3xaW4JQH/KDOR6JE1PGjV/bblADc20KzIoHBmXMmzrc9j1hUfhQ2P+FG6K6IRUAZod0ex2djk5uBhxDwGbBT9Xj44fHKuv8erPyurhGwsZtmv9HCFovUcbX4LOYbGMGgSaR6P1+blKyfZpdp5s3r7ZcTt/N5clvbH/j9iRXuF7QgGMo2dqkH+z7fcvA/HoDLmt+l4nfWGt18N+gPArKNmZAkuD3JJgVT8Ln9N10w/tG6jnXzFt8x0Fls//H2jDTbVHYlkvv//OaxXgN+XTexqId6ctFrMyvdZuU8bGMI3ttUAPTtpw39vXPtVFJ/rCzfCyE/b9wNAdQIFuB0OySXREXoECuAtHJbRVmVWsiIYmHHlS99ncOs6vXfPrp9Km6fm3ldtaGTC5rdn06ffWu/3cv9zoLqevwuKXvKx4ymkv9fO9dTVfqzTm9CrNr+mp73WS8otfLy+OrqBaA8jDerNxu9vvL9PYe+p7UBJAxGq70426f23dz8fKNASStW+w1o95lS/tXZu915vbfamvnBNnH5Rg0Nxavr/bryWZ+V9e71+kOJ9jnjTFr5yaYXdin++izM8HGA1boo/O9lo9XFNioADC7UTgu269AdHIzYLUOTnIldJawfMsOT7OXcPJsR7cbgFl1+eLaQDvBcrqNRULMgdlHR7b0Peg5Y5dOhKHXdZ8E21g7kQSzz77rh7bcRB7wh7pq4ROdtHW7XtB4tLe4NtBOsJxuw+N3A1BvH2sK3c/PVvlk/wM2BSttDmYfPcnrvwXF9fnBln1Apf3bXJugsd++2M2AbScPZpUe9lpjo4qJFTv9Nq5fF4yllRPKNn5Q4CgFiK6jlKXeVQWY3FYlogAKdKNAG+PdgmEQKrvxyLkdacP/52pCa+UUAGbLaUlNmQowuWUKRnEUaFiBNsY7MHtUiLXh/6N6T71HKwDMHq0w9QcVYHILSsMJFOhOgTbGOzB7VOC14f+jek+9RysAzB6tMPUHFWByC0rDCRToToE2xjswe1TgteH/o3pPvUcrAMwerTD1BxVgcgtKwwkU6E6BNsY7MHtU4LXh/6N6T71HKwDMHq0w9QcVYHILSsMJFOhOAcZ7dy7N6hD+z5KLwpkKALOZglG8nAJMbuW0pCYUqF0BxnvtHjrWPvx/rL6j1w7Mjh4BF/afye1C8WkaBU5WgPF+suCVNYf/K3NIZ+YAs505tKXuMLm15C1sRYF9CjDe9+nX+tX4v3UP1m0/MFu3f7q2Tk1u/KIBMUAMEANjxEDXCY3OXaoAMHup/GM3rhLYNPGLBsTACDFwH+/f36aJ3yE1eMz3Y+c8en+cAsDscdpS84oCwCwQNwLE0cdHnAOzY4M8MLuSEDm9SwFgdpd8XLxHAWAWmAX0xokBYBaY3ZMvuBYFYgoAszF1OHeoAsDsOCADtOJrYBaYPTShUPnQCgCzQ7v/2s4DswAOkDtODACzwOy1GYfWe1YAmO3Zu5X3DZgdB2SAVnwNzAKzlackzGtYAWC2Yee1bjowC+AAuePEADALzLaes7C/XgWA2Xp9071lwOw4IAO04mtgFpjtPqnRwcsUAGYvk56GgVkAB8gdJwaAWWCWrIcCRykAzB6lLPWuKgDMjgMyQCu+BmaB2dWkQAEU2KgAMLtROC7brwAwC+AAuePEADALzO7PGtSAAn4FgFm/Lhw9QQFgdhyQAVrxNTALzJ6QVmhiUAWA2UEdX0O3gdkOAOfjNr3cbpPy5ctbB/2Z6EPsxuP16Wvlb/P7mqbZfbx/PzbQTY333+v/36b59O7/GhIPNnSpgJqF+EGBSxR4TG5piTCWYDl3jYbvrwJogNmp5zh8e5n72oCsgNq3j3gcArNp0Fcj8L59kuD/b+L9A2YvSbPDNArMDuPq+joKzMaTf7VwJFZjJdSwMtuoPxNWo+8w+3KbPpyysxsaz3kZw8BsHPZqhFht0x1mP7lNH87K8vtvBeR6zuvr1SswW18O7skiYLYnbzbWF2C2Qfh5F8nrdpvUapz+6BGYbdCfDpxK+Ex9L4H29T2sATDbLsxKKHXfS6B9/TLcR2C2sQTdmLnAbGMO68lcYDac+FNB4vRyT5iV0ALMNujHAhBrYk/c4Mi4MOefbQGzYdBzAbGpv7+0N7jAbE8Zuq2+ALNt+asra4HZPiAImO3Djy58Jv8NzE5NwaezVWC37cBsV3m51c4As616rgO7gdk+IAiY7cOPyfDqrOp+vNmVudhDYKzM9rky+/GF8H/kIbDHfN9B4qILVSoAzFbpljGMAmb7gCBgtg8/boVZ7f8bD4ANuUJr/M8DYGMk7kp7CcxW6pgRzAJm+4Agncx4AKwPf+ZArVyVje2XVXWyMtvfyqxclY3tl1VbGViZHSGrX9dHYPY67YdvGZjtA36A2T78mAOx97LyK9oS/uMEYLYzmP3G/ocpt4T/OAGYHT7lHyoAMHuovFQeUwCY7QOCgNk+/JgLs9rva9sLdL3AbF8wa/y/sr1AP2AGzMayIef2KgDM7lWQ6zcrAMz2AUE6qbHNoA9/aviMvWqfqzH87jwQFroOmO0HZmf+T/x2BGB2c6rkwgQFgNkEkShyjALAbB/woxMbMNuHP0Mwqo9rf+eArLoWmO0DZmf+TwRZ9swek0Op1SoAzFoteHeyAsBsH/Cjkxsw24c/NbT6XrWv1diNfQ2X71pgtn2Ynfk/8jVcemuBfH3M9ycnGZobRgFgdhhX19dRYLYP+NEJDpjtw58+EFXH3l7E94l+5PcVmG0bZt8+Ef7PBFlWZuvLv71ZBMz25tGG+gPM5gNBCDSuPA7M9uHHWAztBVlVNzDbLszuBVlgtqHE3KipwGyjjuvBbGC2QQiSX8d0sys1ypfub+7H0DGY4tyFsSL+u1rXx76/Q35XZeXHzrxvRA/x39X6/O0eewus2t7930Piog9VKgDMVumWMYx6TG4XJunEp7ABKeEjYHYaLh6A2bEhHJgdIyE33ktgtnEHtmw+MCsgEbAeDxIH8/l9vGc8/c7KbSMrt4k+ZWW25Wxdv+3AbP0+6tZCYBaYHW6VczCAlf4FZvuC09ybDWC221ReRceA2SrcMKYRwCwwK2GH933HAzALzI6Z6ej1GQoAs2eoTBteBYDZvuEFOMW/MgaAWWDWmwg4iAIFFABmC4hIFdsUAGaBHQk7vO87HoBZYHZbpuAqFFhXAJhd14gSBykAzPYNL8Ap/pUxAMwCswelEqpFgfvTCMiAApcoAMwCOxJ2eN93PACzwOwliYZGh1BAzZ78oMAlCgCzfcMLcIp/ZQwAs8DsJYmGRodQAJgdws11dhKYBXYk7PC+73gAZoHZOjMRVvWgQCGY7XsSbjvJ1humwCzjpu2xhf9y/AfMArP1ZqNp7P/lLfE/vsj9buHd5TMCBpjt/kvMM6Lh5KLALDCUA0OUbTtegFlg9uQUk9dcrUA3sl0ZHgRmgdmMcClbFJhtG06AS/yXEwPALDBbNoMUrm1kaKy17xkuBmaB2YxwKVsUmAWGcmCIsm3HCzALzJbNIIVrqxXoRrYrw8XALDCbES5liwKzbcMJcIn/cmIAmAVmy2aQwrWNDI219j3DxcAsMJsRLmWLArPAUA4MUbbteAFmgdmyGaRwbbUC3ch2ZbgYmAVmM8KlbFFgtm04AS7xX04MALPAbNkMUri2kaGx1r5nuBiYBWYzwqVsUWAWGMqBIcq2HS/ALDBbNoMUrq1WoBvZrgwXA7PAbEa4lC0KzLYNJ8Al/suJAWAWmC2bQQrXNjI01tr3DBcDs8BsRriULQrMAkM5METZtuMFmAVmy2aQwrXVCnQj25XhYmAWmM0Il7JFgdm24QS4xH85MQDMArNlM0jh2kaGxlr7nuFiYBaYzQiXskWBWWAoB4Yo23a8ALPAbNkMUri2WoFuZLsyXAzMArMZ4VK2KDDbNpwAl/gvJwaAWWC2bAYpXNvI0Fhr3zNcfCjMvt5uk5rAbq/xSf/j7VnudpvePuJlcybPq8u+vaT1/1g7M6Lh5KLAbKOx/nGbXvTYlq8vt+mj+5vDRn12hF+cOHh5i2sDzFYGs9/YcfzyRZptJqfLcf/btGsf8/3JSSanuVqB7iK73j558kuif6cj7Mzwn5p9Cvz4JzEJqa/v/jKTmBDXJsNjoS9g344kYAb+pUm+gHsPqgKYLR9zR48RE9MymTnvg2N9x1g6ul/Unx+L5mb96f+1+RuYTYO+Q6DAAY3339oFJOWXNZg1YOOMdXWt/n37Jt6/u/8PyiVFqnU0OsMPNbdh5vpPbtPHVdpkOFbNYAV+whOhmfACQPf+agfDe6lkJwD5ypVe0/eVleljE2kB9x5UxWNyC8fOsbrQ7hZ97xOcbyy/23Gs/FpsLJeaE6hn2uLv0DVmoeJFrO6xMjvVDCd328RqrIZQ9ZoEsx6omUGx57zU4zHfH5RMSlR7FbC57Qofrd0gSH1Lvzc3MKzMPmFBJLnFnbs4V3Q1pxKYDSWCc4+XGOXH1PGY3IDKc+PhOL0N4NxuU9HxDIgWBdES8aZXbdRigX6/mN8dv93Hu5u4+fs8AP5yfsOpQMn4LnGbgQ+YJNC+fhlenQVmw9rMdK0EZmc2XTVOM9BDZbYCP/EEKVdf5UqpWbn0rfQ4E2HWBAzMiuRXwL0HVQHMxsdNVszvGS+lrj3q5rSUfdQj5oXtsWfm8+cnTgaIWJk9D0y3wMUTZiVwGt/tgNlJQLKs24UhYBaYdWNi9e8M9jgFZuW+WP0wmFzFkYC7K4GLZKoGzuLXgWYN03oVSQ9sdd1ilSFUd2QLgTvpy765bZuy2m7HVnlt3vuMaDi56GNy255U83SgncP1EmOk2JgGQIsAaDHfi4UCvZVEz5uLOdPx3X28b4EwrjkMko3vgFmvxh9fWI54j8RhkY/kxU3Bgl0UFzjbOHSb+gZC+/LOL64/Q3VHthCYFXdPGbdtU1bzi2PrKrSGtM1gknNgdrpNEl4VPGrh1ybArElYJFNvMDiAaIDyze77MtcJSNW2mnPaYeJVT+zSXgOooi59Ptr2Sr26jrTXjGg4uajSM60PlGtBJx3TN2ectWA7NqaNMe1jOW/r+VEe8+l5H++hpMVxL0xthoBEPY3vXPhJvF7ZJ4EvtsfzMd+fnGRymvP1WXzkr6Fx4ZOUMr663WMh4NQ84ACiAcovPPwiAFT7OMovri3f3yYDqKIu3fdo29pe9eyEp15dR9Jrhv9Og1k1uemJUIrqg0DfRJh1TKwexFaIXHv0Cq3b1j0YfAlatKNXnOW1KTCrtZBtS/BfSxCyPf/7jGg4uehjcktLov6+cW0tusgJMzbmarEXOzaMHb1Y4MyF2vdrc9V9vO9NblxfFHqN73bArK7DXTl0YeUx35+cZHKaC8SWBrdQ/yTM74Y3ZYOA49jNgbHrCY8h2L77xwHhu29EOzcPsKbArOEXsVda6rH2YKEbI4u/M/x3KsxOejLU4oe+rsv5eCo78QjIjCVWCbMSJnPaM+DpTPCqjlSY9dlorvXUm2NfRiycXhSY3QAUe8dGgetNbIo78Puk5vkEIi9W29RjlD5qaHHnK30cmE3cExmApkUiP6Gc8d1GmJXgEoIp3a9WYVbuCfbBpYbK3eCm/S0g09ee1lO3q3Rd015f474a/3lgNxVmfTaaaz31ujZE/86gklNh1oDfMwmuTX6bk0QmzO6xw/TJA50m6XuSvAbpUNuxevN0yYiGk4sCs23Cm4lrF2aff7uwkxevbWrSex+Nzz1zmQEiHgArumoaTfIafHa+Gt9tgVkBXb6VPdf+ZmH2e7Et0tVJaOCDOleDpL8T69Qwuwei98JsqO1YvUka6LjOYJJTYVYPHBXU+veQxHcQzGoA1bbPXgvDrFzF3rcVIyMaTi6q9OsdAobp31mfuhRYWR7GJ6W0EvOpby7S83roxlzrfR/vOknxWgX4Gt+5kJbgH31t6ON3F1oe8/3JSSanuUifQyuNxaBNtn0QzGr4nXGLZjHPCqrps2cLgq4rBLNyNXvX1osM/50Gs+bO/gl9ZiB4IFBPfptfxeQbg2UNp2uTsFkl1Y73vXr6YfrsWc1YbVvAgS+BpGuTEQ0nFwVm+4N5M675jxO6uVFbm6u0z9fmUWC2vm0IxneZMKuvUz5NhZXHfH9ykslpTgKl+z4AmFqHrR/zu8B//zvQllt2FSiffTDA7eMWfQyY1ZGykpQFmJm9qb5jB6wk7IZZYafvIS8DusCsDobkV2B2ZdyUGg8n1mNu4G63KTb20m/G+tOotb7rhK3Ga+qv7wb8Pt5dSODvS1dotW+DK2we/+hrlD9TQVaB2N3/ydnhgoKevkqA1PBotlSIbx/I0UHW6X1fEmaFjcZu0U8DusCsDrh4wtF39i4MmuOlV3EKrsya5OyBVZWUgFkdA/mvj8ktHjutJf7R7TXjAZjtZmVWwosasym/wGx9q7A+cNK+TYVZXV7FQO4e0cd8n58nTrtCQJ5PKwN+T4iPfQzvuz75WEGYNTZ6YFXZY/rkOW+uZZvBA1KiyU1A59pHVFmQIOo1K8Ge1SkN07G212A2dt6cY5uBdz56TG7AbFZse+K4putNsgvc/NVkK7aUGXva57F5VGl9H+8rwJCc8KmnyIqu8V3CNgOzMrkBZJVfW4dZ1Qetl9pWIN8XjVsBs7HtC9ofsRsRA6QeWFU2x86bc8DsbZL/81doojPAV3glRweauxosE1gKzEoYd8HYtKFWKzzJ2/QNmAVmK4dQOS5C7/VYcMeBLi/HQ2i867K8lgHJGnTUfl/zOTBb32qt8d0KzGpwUj7MXZHVoNcDzBrA059QBCBR93nrq/aLb2uArlP7JAazZuXV8/Vdpg3VF08/TF+BWfE9qyvbCIyoHiDcOlkbkNRB93yVH3+lwKxq39jn1KUGp4LYl+frhwMsxgZgFph1YmNrXF95nYbZe9z7xsLz2BrUXNkH2i4P0Xp+XPP7HWZYUS2yoqqBJutVrPitjeEZsMp9l5Fxr+ucXSv8ffe/NxNUclDYGtTV0SIGksE6EtoxIOnoLffmpsCsskGPT+2f2esnT34BZnUQeiZI8eDU2iQnk2Ro1WdLEjIwqQPCgcpUmFVtL+rSK8l6S4MHxM01TruqvtW2hX4SwPN10D6q7/UxuXlipwPwy/dTOzro2J1NimqMecZAzzrQt0fM6mS5Ns/fxz7/TggAACAASURBVHtCIt8DAVwbWf0FZuNJMDE2NUSqeA6Be4k4XACts0Kq7UgB6kVd2nYdE8Csjo12EvF4CUj7qL5XYJZxM954HNfnwGwENBNBqgQkXVXHY76vLw8ZixJ9YMDQA4BXadttu8Y562/UzFrgZ9wJuv5kXMC9B1UBzDJu6h8/+KiUj4BZYPagVFKm2kSY1Z9ExB7O6hYuEzUq1v8MzwKz3X+knRENJxcFZgGlUqBEPfXHEjALzJ6cYvKaSwA1+UCV3L9aDN4SbBiqrQwPVgmz+s5HTX45v2t7tsZMeBnRcHJRYLZ+ABlzzOCXI/wOzAKzJ6eYvOYSQFLvU419y8Bmfln5RomhIFb7IsOD9cGsfqAqE2TVRAnM+pJwRjScXBSY9fmLY0eAFHVeH1fALDB7corJa04DVOhVfJNBcIuBfqBqC78As8tv+sjwoJrhCvxcP1GSrEI+KODeg6oAZkM+4zjjub8YAGaB2YNSSZlqQxDL8SVknqVJhmfVjFngp7+Jt59kWsC9B1UBzDJu+hln+HLNl8AsMHtQKilT7VmARjvpcJzhWWCWB8AywqVsUWAWAFoDIM73EyPALDBbNoMUrg3ITIfMs7TKcDEwC8xmhEvZosBsP6ACdOLLtRgAZoHZshmkcG1nARrtpENzhouLwOx3P/408VunBhmxcHpRldyImzrjBr/gl9IxoMb7t1//wO+gGjwWL05PM8kNEpv1jc1k502PW+mc8t6ypSc96iuXSL0Oq+QgMFvOz4wZtKw9BoDZ+mDhTIADZsf2/5ZYy0EVVmY7X1XOCYazywKzAFjtAIZ95WIUmB0bZoDZsf0PzHYOm0cny7MBNac9YLYcKBwdR9SPr/bGADA7NswAs2P7H5gFZnftK82By7PLArMA0l5A4vp2YgiYHRtmgNmx/Q/MArPALDGwKwYAvnaAr2dfAbNjwwwwO7b/gVlAZhfInL3amtOemtx6Tt70DYgkBmwMALNjwwwwO7b/gVlgdhfw5cDl2WWBWZvogR606D0GgNmxYQaYHdv/wCwwC8wSA7tioHdIon9t3AgAs2PDDDA7tv+BWUBmF8icvdqa056a3ACRNkAEP+GnvTEAzI4NM8Ds2P4HZoHZXcCXA5dnlwVmAaS9gMT17cQQMDs2zACzY/sfmAVmgVliYFcMAHztAF/PvgJmx4YZYHZs/wOzgMwukDl7tTWnPTW59Zy86RsQSQzYGABmx4YZYHZs/zcMs/+ePrvdJhXAt8//HYWWf/75V49yt19Nr/+1kx+JYL8WOXB5dllgdr9/zx4jdqw+x7Ye47PX309/4yY0Oued7bfS7f3tc7//P/tXOKaB2Qpg5ss/Tj+fjdWnH3/2x+kfXyfYF7j+55//Z1qDFWA2Qd8UHwxUJodJbjmFQ2VDE6VMfMFJ7r9/nX7xHFy/+PP/uk4AIZ2OPB7yWQ3Hgdlw4j8yJvbULce08p//F5jdo3HN1677P+x7FStrwMP5o4Dn79NvguPVjuPf/Cnc/l9+bcv5x/3vpr9EQEtdU/MPsRf2/VXa5MRLkegKT77/m17/7zkA/u+v0z89qzX2Dj88CYbrD8CAAeQKVnovtiUnGM4uqya3bN96Yog6AuPgAK00zHDjeZ7mtcS39v0dZLzz+b+nz7zHH1qp665KirT7hFnfCuyffiduSv1A+o/Pf2nKuKuw8tzt138P+hiYTYRFs/r9y+kPXyZeE7mJ2BX7F9uSwyQHw+xP03f/+r0ZBIsEKM4FV263JOSLAXKWfC62JScYzi4LzLYHRBpoFmN5yzjlmnZu5sw8dpu2+h6YvRhMIsAjgXS5OmtXdV2Q1aBkrw8DGDCb6P+LAVL79P56sS05THI8zP7402RXX+VK6fqq7QwKcxKfmXhlexeBw8W25ATD2WWB2YtiMmcsOWWB2fZ8tnkeFb43c3hk5XWtHWA2EWYi0DkDjZLlxOqsC7MWVP2rtg+b1oEXmE30/8UAOYuxi23JYZJTYPY7A3T2YTCdFG8lH/oSK71q4Cx+QxOx77pQ2ecEb+237cxWl311SptW6l9LDKnnc4Lh7LLKP6n9oFwdEKXjfuvqHH6sw495frAP887mOAG7KfWp8T5LlCVhjLr2aWtgdrmyavbK+rYoGN3/M/3hZ89cGNhqoPxf848vNtNAfr3vvroXx4wPLFPMGCakv++6UNmnv2y/bFuzmxhfnZJfVupf9M3ESSLQP8vnxEuR6EqZyHQSVM757F92ciyaFLMBUqwOS0eJ98vJO3aNWAnOtuWYJJcTDGeXVbGQEjuUOSY2tuiqx3HRcZsJRVvs5podMWQWI8T8tsFnaryXSnLUkwcFcb0EjC0gRZwLQKquew16lf9r/tH9mL2alcnbNIM9CWcpZWT50PtsgBS+EcyidNa/S5tj14gbmWxbSsajrSsnXopEV1qi8EFgwYe+5OSaOPmaj84Wq8PSVsdGA6nuxK4A3T3202RXpT3npM0Hvc8JhrPLqgGXFjs7EvFBuo5qt4ZZPVnOX52xgvZ9xLeZ8x7+9cfA+vymYmUGCqGkzvETdbLbA243ATPGB/Z8aL+s9qlZ7VsA8QNOlP9r/tH9mL8K+Av0y/T7FtuGYQFtXr/nuIFjnz9seXPzsPCbsNm1yUCqW7fys3vsh+nbRFtW+2Tiydqfck1OvBSJruTEbibFx53DctWzELSkwKwpE0rAFmjlKpSZyFe+O9doYtpZn+zNNQUhICcYzi6rJrcj+kydhcaRJw5N/Iu7/znQ3qbbSVto8PNxfp5p68zbC3/LWIjMi+q6lARGmbyEn6OXBSC7enf3Z3DVdQPMugD1BBnVTs0/QR2DAKj8ZMFxDfaD9buglwKQpkwIoP12GfAO+tuJPdOOB3Rduw/4OydeikTXbOLzJEB93k2EEhJ1mSKvCQBpbIlMvmblVpQx1/lWYX19T7ClSJ99bf/4U04snF5WTW5H9p26T4Kde+zZrUPKr4eN7UCc4+vjfG3nvNAihL3xV74PLVKoc8kJ/YDESNs/TEGYvd+Q+IAFmP3264gGR8BeQp0pUGp8LcDVXOdbhfWNuQRbjhxXOVByIszOk52a2Io+/CWTXAJAGlCVqwqh9wJmv/txPnGv9iHBliMTcU4wnF1WxcCRfafu4wDHr60cG6FPPM62ifb8vkrXxcJszKdifp/Nl7YdYNZZ9fLBwxXHzMrj42Zlvs8yAnKOrQaUAh/HK//X/BODMgOGTt/W+hyrM3guASCNPSFmkccFzMqV5AeD+W5gRJwm2BLshxMfW8rlxEuR6EqZLA083j+CFBPfER9JrgKkTLrOxy0yCPR7z+Rs+qPLhFYkVm2xk32KjrllcoLh7LLA7LG+z42VEuUt+FyzraZEH6jDiUuzzSAGs+IrGANzOjArIKFAot8CB+FrLLTeZtsE7MfVsf8QQdVrAMsBPt1myzDr3ztqNZvfAOz08ypACp8I/njAqYdnZjD7sM34Slzv7cOqLTv7ujIOcpjkHJg1k6H4CMp3TK6u7nmfAJAGRj2gmpXMRD9UMC0+YkuwJau9TF1yguHsskqvI/tO3Q6UZMbOJv3MeABmN+l3ho9y20j0qZlTgdkmt1NYwJmv1pnjAUh9wKoALA88qTJNw6zYG2ug3qxoh/atbgS9BIA0PglorW8gVl9NH3yr8jwA5gCKWAWdgaM4fovf8WcnhQSAXJt489oUfXEn8gRb8trKA5SzATWnPWA2z5dHxkmpulmZ7c+n3/1oP0kL74UWc+Bsnrd6qPG+mlxXVmq4fiMgJehqPjJ39lPa4xFoMwAW/gqrtmH2h8nVoRhQur4xWs5vKmTsm7ajNxipsSJuRNz6EmyRdpV+n8UTOYVDZWOJMJrcDOgVfmBE1LtYKdWrEomrDbG+yXOmn0GY9azaalsOfA35rIbjwKxN9DKW2n1voYdvNOjJtwJU3flNz11mPg3Pc8BsKlxcUc5+ZH4LAs1tCj2x74KeD2pah1n5INhv/mT18n487wJqzt8GIMM3Bt+aFdUw8Pp8EDpm/BfxffF+JmiSwynHbjMQUBm6ozcrpKnfDqAnz+irSKqBVQL3QS4f9D4AVX5c+pzUF3XG2oudOz7h5QTD2WWB2eP9XxSMn8DiGyv2+5TVx1VyzDTWx+i8MnBfBKze3PlPngvB7o8/3T9mDiVTjh8LsBpW/EBiwUzNyT5gNSuBnvOxc9Kv7cOs2Bes95q68JcAaFIT/3vhj+A2ArGaevND78PnEnaf1yzqjLUXO3dszCptcn4OhVkLqrFtBAL2IhNhblK2bcsN0a4dom0dnItXmZjFCsWinGrHrf+R/NJsOSZR5gTD2WWB2WN8njtWkstLaPHG/2OseWEXSHS2XzXm+x/FA15B3/vnPx1farz7k/fxSXH0djXMKh/Efn0g+9BOQE2ojgUkzf2q2q35JylGzIroQ8ewXvO+J9UtQFjeIFh/uds8Enwy2zIyB2Bbr44Jt/5HH9Js2dffkD458VIkuvRkNXsViS+0KqvLm4/ofQ9Q7UiCC4h0VxSedcv2Zw72lg8ArbesTViptmhNSr3mBMPZZZXWpfpJPTbWjtUiEP98t+wYsSw+bZNzZcoNjCofSlocPwYG5rpGYCZxhdEPxXL1L9wP5f+af+ZahfohNUzrd1q9y/YWEBm4WfD75DaZB9UEJC+/musJsoG6te2ptujypV5z4qVIdB2bPM9K0n22kxMMZ5cFZvuMOeYD/OqLAWB2CSylkn4L9fQBs2KrQeINQAu+qdXGHCYBZnes/Pom7NqO5QTD2WWBWaCntvGCPcfFJDALzJ6dY3LaSwM6+9G+f//x2D5O0zBdoxz/AbPAbE68FC0LzB4HDkAZ2tYWA8BsehIvDQU11Kf8X/NPikb2I33//tKUOiiTPg5y4qVIdJWdNFMeytIblueva3tzy9rZRrLMCYazywKzbcTQiOOGPpePTWA2PYn3CDztw6zYLxvcY2pXblV/c36Pepis5VjKYZL6YDbwgEFKUACzywSUEwxnl1U+BRqWPkMTNOkxBtR4bzmxYvs+GFf+r/ln1b/imwyCWwzEd8SmMIssA8wu4ysnXopEV48Tby99ygmGs8uqgdyLzvQDACUG4jGgxvsqMMyevF4mN65vVxPl/5p/iK36YisnXopEF5N4fBK/Up+cYDi7LDBbb9xcGbO03WdcALP1wcKZAAfMju3/LbGWwyTALA+A5cRL0bLAbJ/QAoziV18MALNjwwwwO7b/gdnOYdM36Zc8VpQ+C1cGzAI9JWOduuqOJ2B2bJgBZsf2PzALzO7aV1qYP4tW95jc1IcD/KIBMdB7DNzH+/e3aeJ3SA2AWWA2F2hzgKPINoOcBimLAloBYBaA6x3g6J+NcWB2bJCvHWZ1XuK1TQWA2Tb91oXVwKxN9EAPWvQeA8AsMNtF4qITVSoAzFbpljGMAmYBuN4Bjv7ZGAdmgdkxMhu9vEIBYPYK1WnzrgAwaxM90IMWvccAMAvMkvpQ4CgFgNmjlKXeVQWAWQCud4CjfzbGgVlgdjUpUAAFNioAzG4Ujsv2KwDM2kQP9KBF7zEAzAKz+7MGNaCAXwFg1q8LR09QAJgF4HoHOPpnYxyYBWZPSCs0MagCwOygjq+h28CsTfRAD1r0HgPALDBbQ97Bhj4VAGb79GsTvQJmAbjeAY7+2RgHZoHZJhITRjapADDbpNv6MBqYtYke6EGL3mMAmAVm+8hc9KJGBYDZGr0yiE3ALADXO8DRPxvjwCwwO0hqo5sXKADMXiA6TT4UAGZtogd60KL3GABmgVlyHwocpQAwe5Sy1LuqADDbFsB9vN0m5bPU39f3tvrXO0wW6d97wP+v674GZq+F2Y8vAr5zxvT79+t2vv/WX9frl+FrH/P9alqgAApsUgCY3SQbF5VQ4DG5rSfBIkl4op29OgKzY8fQqwM9vpuat4+wRsBsGPSmBIDcW6YEzKbUEYJhYLZE1qSOkAJq5uEHBS5RAJgNJ/694HnV9RJ437mBmK7yQ+l231/tStxixV2u1r7cpo+A34HZOmD25YttdsxA9pPb9OEB8NfAcQXiwOwlaXaYRoHZYVxdX0eB2f5g9u3lCT0JHzuXBi7qOy6e9KrsAmQ1uAqgDa3OArPbIHLviqy+XsPoJpj95ja9PFfmN10PzNaXgDuzCJjtzKEtdQeYPQ4+LgG7BKC5xC4NXLxuWyn+sCAThFlRBpi9Flo1vLqve2DW7JGNrLy67bl/szLbUnZuz1Zgtj2fdWMxMNsXzLIq25c/5Y2HXpl9efP30WwvYZvB5EJcLX/vgVnt/9gDXmv9BGa7Sd1VdgSYrdItYxgFzPrBQEJEM+/Fqmxw9Y6V0W0roxXoZmD1dpsWQJvo+/t49+yzXIMgzpdZ6d0Ms2KLwds3220BZsfI61f1Epi9SnnafT4Q0BHQVQAdV8GveUAosjJ3lW20W2aMGR8/906q7QRmNf52m9ZuYoDZ7SBYAug1zCo/+H5D30IwfWnLqzKhetZAF5gl6R+pADB7pLrUHVXgMbmVSbQAy4U6iv2Sa0CDny70U4mbLeFrA0SJD/vdxzsrs5dtQwhBqPGjglzfnlgBs7OyPij+bRjY7/6PZgROosB2BYDZ7dpx5U4FHpNb48m9BCA0XodcsePruPqOZ7kS64LN2o3MfbwDs5fBbGx1V++JVT5yv63AhWDfvtm3T+zqre+8avsx3+9MGlyOAgEFgNmAMBw+XoHH5NZ38u9+JVKs1C32UjYO6d37Lsc/Yl/szdlKIkHoFlmlBWbDq5Yx0DzrnARSueVAwqw87tpl4iCwOgvMHp9TR24BmB3Z+xf3HZhtH+Tlg0GsyrbvTy/AJ9ywyDgIrdACs3XDrITW2f5Xsc0gBrNrX98FzF6ccDtvHpjt3ME1dw+YbR9+zGpMZEXOC0g5q4KUvfRbEMw2EmdF1vWr2YIQiAVgtm6YlQ96hWB2dtzZMgLM1pxt+7cNmO3fx9X2EJhtG2blalzoi/Jd4OHv9ny+Bqnap2vQC8zWDbPBldnvb5O+aXX308qtBmabAtsMqs25PRsGzPbs3cr7Bsy2BzYaXNSrgZyVFTt5De/b87mB1Nttim0lMfHAymyVD3lJ8PS918Dq+0YDA6q+bztQK7RiKwIPgFWeeDs1D5jt1LEtdAuYbQ9sDIyKB4JCeyRNWbYJXLpNYLcfhK/VmPUBrQGhyPfNsjJ74crsEza9oCn+UwTlI+9WAgGrN3flVZ4LwS7fZtBCSm7aRmC2afe1bTww2y7MmlU4VmXbBtXEGw25OqvGbeg39o0W9/Hu7LP0rRBy7ADolcAZ8Z8Xdp8+M3tiI9fHHhB7zPdt5yysr1cBYLZe33Rv2WNyaxfodq94JYJEde0kPN1enc2tal2Z3XIFdga0ga0FMg6A2QMgNfPmwGwXcIA0thd2dnPhrOLqGIhBsL7+Md93n9bo4EUKALMXCU+zE/+dbWWgIsGD99xklY4BYPZ6mNVgecUrMEvWP1IBYPZIdak7qsBjcgMaSkMD9RFTNcYAMAvMRhMCJ1FghwLA7A7xuHSfAsAs0FUjdGHTMXEJzAKz+zIGV6NAWAFgNqwNZw5WAJg9BhqAMXStMQaAWWD24JRC9QMrAMwO7Pyruw7MAl01Qhc2HROXwCwwe3XOof1+FQBm+/Vt9T0DZo+BBmAMXWuMAWAWmK0+KWFgswoAs826rn3DgVmgq0bowqZj4hKYBWbbz1r0oFYFgNlaPTOAXcDsMdAAjKFrjTEAzAKzA6Q1uniRAsDsRcLTLN8zWyNwYBMgfFQMALPALHkPBY5SAJg9SlnqXVVAJbfvfvyJXzQgBgaIATXev/36B34H1eB+M7OaFSiAAtsUAGa36cZVBRQAZgF5bmbGiQFgdmyQB2YLJE2qCCoAzAal4cTRCgCz44AM0IqvgVlg9uicQv3jKgDMjuv7y3sOzAI4QO44MQDMArOXJx0M6FYBYLZb19bfMWB2HJABWvE1MAvM1p+VsLBVBYDZVj3Xgd3ALIAD5I4TA8AsMNtB2qILlSoAzFbqmBHMAmbHARmgFV8Ds8DsCHmNPl6jADB7je60Oj2+ZxbIAXKIgTFiAJgFZkl8KHCUAsDsUcpS76oCrMyOATHAKn5WMQDMArOrSYECKLBRAWB2o3Bctl8BYBbIAXTHiQFgFpjdnzWoAQX8CgCzfl04eoICwOw4IAO04mtgFpg9Ia3QxKAKALODOr6GbgOzAA6QO04MALPAbA15Bxv6VACY7dOvTfQKmB0HZIBWfA3MArNNJCaMbFIBYLZJt/VhNDDbMOD86/f3B3qUD+3vr6bX/zbcpx8Hs/2/f51+8fTfL/78vynphkNcY/1+m1KuV+W//XpsoKui/3/6nRizevz+cvrDlwm++fKP089nY/5x/c8//8+qb5X/+UGBoxQguo5SlnpXFVCTW1ICHQ0yqu7vv6fPPMlMgs3t83/j16p9+NP0t881xDxeU2DUvWbm83tM/H76W6TfqnwVMDcsUP99+s3a2P3134M++suv5zGz9P/vpr9EtFXl+UGBoxQguo5SlnpXFVCTGzDb0mrg/6bX/7MJ7bN/Sdtj52Q53l8a8xtXVv/551+Z1TwXfOW52I0MMJuw8hmBwX03Av+Z/vAzO3Z/8ydpS+zco9w/Pv+l8b+7CivP3SIwDMyupkQK7FAAmN0hHpfuUwCYbQzsxNaCOcjqfgig/b+/Tv+MrNJdCnSj2iX8d7upLSF2ld0F1Ll/1stZoA1vNQFmJUCe/F5sLZiDrLZDAO3P/jj9YwbVdkXXBVkN2BZow9sVgNl9+ZKr4woAs3F9OHugAsCshsA2Xs3HzDFQNcAUhpo5KLXR9y5sfvrG3oisQ6rqtwXV2DaC9bqAWQ2O57+aLQILUBW2GOCdA6kF1dg2gnXgBWYPTKZUPQGzBMFlCgCzLYGcWHWN7YkVH2NbaGqpnyPZug6gCmaTbmJ+XI8PYFaA42zl8+jjYtU1sg3gW/Fwl1y9TQLhr9fbAGYvS7VDNAzMDuHmOjsJzLYFTmlQkwZIXax0Nr9dIcVX65CqfbkWH8Ds0dAarj8NSH2rq+uQqrcarLUBzNaZh3uxCpjtxZMN9gOYbQtmS33crOGH16v9nwKzKWUe/TDxEdiGAsyGYVMD4VGv27cK+ADX3w/TRmArAzDbYJJuyGRgtiFn9WYqMHs1zGS2L7YQ3G6e/ZOz82nfPQrQZvqg6GpwCqimlHFg1hcbP/50fxr+KFijXj9gGl3EFoLbzbP3dXb+NtkHvTbArK/+r3+4+7+3HEZ/6lEAmK3HF8NZAsxeCTLb2jarb2vfV3kDZusH9RRQTSkDzBpoPHUv7ArAOraYldOEsQvMDpeOm+8wMNu8C9vtADC7DSivhyQLOMqH5vf+YJg9xwNgtfvX+ir81VwpZRyYZZtB8D8euB567UqrGbdqDN8fDLPn7ANg9pgFXD9EG1hmm0G7Sblhy4HZhp3XuunAbO2ws8E+s9WAr+a6/qZjzX8poMoDYNcDqB8ei9tlthrIr+biAbDW8+wo9gOzo3i6wn4Cs2uw0eB58z2znj21Rfd7NqhNdf1PgVm+mqs4NDof/1dTv/me2fme2rVvKXjYvw69ar7nBwWOUoDoOkpZ6l1VAJjtDcjSV/HqX7XszTe+/qTBrN0nHblBMSvytym0vUSN92rArVagvMyuMIya7QOBB7vuPjWrurfJblGYrygDs6spkQI7FABmd4jHpfsUAGZ9gNHuMQs9bDFoA9bTYPY7AaqhvbXW92HgBWbncFcT2FtglVsMnvYKUA3tm7XXz1d1ZR+B2X35kqvjCgCzcX04e6ACwGxj4Kqgxvtwj1iR5VsMpjZAVsVeIszK/wXM41/znyV4zkktgNkLYVYBqffBLLEie5NfyTW31Ww18JSJnQNmD0ygVD1TAJidycEfZyoAzDYIs/LbCzzvQyt3Emp4f5HfxQqrGnvhX9/KugXf4HWx/+aY75m9douFWF0N+S+06voAUvutBqHrH9+IMIdgYPbMjDp2W8Ds2P6/tPdqUgRsLgKbjQ8j2Y+THRhaARn8XIGfd8Hsw36//33wu+yvGu8SbngfBr8jtLFbAZyxe/9arjRb/HV4tiZ49v4q//ODAkcpQHQdpSz1rioAzC4TPtCHJr3GADCbBoxHgGwNdQKzqymRAjsUAGZ3iMel+xQAZgG3XsGNfi1jG5gFZvdlDK5GgbACwGxYG84crAAwu0z4QBCa9BoDwCwwe3BKofqBFQBmB3b+1V0HZgG3XsGNfi1jG5gFZq/OObTfrwLAbL++rb5nwOwy4QNBaNJrDACzwGz1SQkDm1UAmG3Wde0bDswCbr2CG/1axjYwC8y2n7XoQa0KALO1emYAu4DZZcIHgtCk1xgAZoHZAdIaXbxIAWD2IuFpdrp/aXuviZt+AaXEwDwGgFlglryHAkcpAMwepSz1rirAyuw82QM/6NFzDACzwOxqUqAACmxUAJjdKByX7VdAJTd+0YAYIAaIgTFiYH/WoAYU8CsAzPp14SgKoAAKoAAKoAAKoEADCgCzDTgJE1EABVAABVAABVAABfwKALN+XTiKAiiAAiiAAiiAAijQgALAbANOwkQUQAEUQAEUQAEUQAG/AsCsXxeOogAKoAAKoAAKoAAKNKAAMNuAkzARBVAABVAABVAABVDArwAw69eFoyiAAiiAAiiAAiiAAg0oAMw24CRMRAEUQAEUQAEUQAEU8CsAzPp14SgKoAAKoAAKoAAKoEADCgCzDTgJE1EABVAABVAABVAABfwKALN+XTiKAiiAAiiAAiiAAijQgALAbANOwkQUQAEUQAEUQAEUQAG/AsCsXxeOogAKoAAKoAAKoAAKNKAAMNuAkzARBVAABVAABVAABVDArwAw69eFoyiAAiiAAiiAAiiAAg0oAMw24CRMRAEUQAEUQAEUQAEU4OfRZQAAAERJREFU8CsAzPp14SgKoAAKoAAKoAAKoEADCgCzDTgJE1EABVAABVAABVAABfwKALN+XTiKAiiAAiiAAiiAAijQgAL/DxYVVl4mgQvOAAAAAElFTkSuQmCC)"
      ]
    },
    {
      "cell_type": "markdown",
      "metadata": {
        "id": "lvGRGXx3COI_",
        "colab_type": "text"
      },
      "source": [
        "**What did this accomplish?**\n",
        "\n",
        "* Model can be trained and tested on **different data**\n",
        "* Target values are known for the testing set, and thus **predictions can be evaluated**\n",
        "* **Testing accuracy** is a better estimate than training accuracy of out-of-sample performance"
      ]
    },
    {
      "cell_type": "code",
      "metadata": {
        "id": "TwqtaEHiubjw",
        "colab_type": "code",
        "outputId": "ae0b55e1-e6ff-4338-ea81-020c6b9bb33b",
        "colab": {
          "base_uri": "https://localhost:8080/",
          "height": 51
        }
      },
      "source": [
        "# Print the shapes of the new X objects\n",
        "print(X_train.shape)\n",
        "print(X_test.shape)"
      ],
      "execution_count": 12,
      "outputs": [
        {
          "output_type": "stream",
          "text": [
            "(90, 4)\n",
            "(60, 4)\n"
          ],
          "name": "stdout"
        }
      ]
    },
    {
      "cell_type": "code",
      "metadata": {
        "id": "dBhdcRUtusLw",
        "colab_type": "code",
        "outputId": "8489ff0f-bed1-4eb5-dd08-22329542b241",
        "colab": {
          "base_uri": "https://localhost:8080/",
          "height": 51
        }
      },
      "source": [
        "# Print the shapes of the new y objects\n",
        "print(y_train.shape)\n",
        "print(y_test.shape)"
      ],
      "execution_count": 13,
      "outputs": [
        {
          "output_type": "stream",
          "text": [
            "(90,)\n",
            "(60,)\n"
          ],
          "name": "stdout"
        }
      ]
    },
    {
      "cell_type": "markdown",
      "metadata": {
        "id": "Ej2l5XywvIz4",
        "colab_type": "text"
      },
      "source": [
        "**STEP 2: Train the model on the training set**"
      ]
    },
    {
      "cell_type": "code",
      "metadata": {
        "id": "IvPnLmhRvITJ",
        "colab_type": "code",
        "outputId": "3b056d62-7540-4b2d-f4fd-bb1697473c9a",
        "colab": {
          "base_uri": "https://localhost:8080/",
          "height": 102
        }
      },
      "source": [
        "logisticRegressionClassifier = LogisticRegression()\n",
        "logisticRegressionClassifier.fit(X_train, y_train)"
      ],
      "execution_count": 14,
      "outputs": [
        {
          "output_type": "execute_result",
          "data": {
            "text/plain": [
              "LogisticRegression(C=1.0, class_weight=None, dual=False, fit_intercept=True,\n",
              "                   intercept_scaling=1, l1_ratio=None, max_iter=100,\n",
              "                   multi_class='auto', n_jobs=None, penalty='l2',\n",
              "                   random_state=None, solver='lbfgs', tol=0.0001, verbose=0,\n",
              "                   warm_start=False)"
            ]
          },
          "metadata": {
            "tags": []
          },
          "execution_count": 14
        }
      ]
    },
    {
      "cell_type": "markdown",
      "metadata": {
        "id": "EucaU3-Sv3hC",
        "colab_type": "text"
      },
      "source": [
        "**STEP 3: Make predictions on the testing set**"
      ]
    },
    {
      "cell_type": "code",
      "metadata": {
        "id": "5efbt7-Xvlzy",
        "colab_type": "code",
        "outputId": "cc93a05a-aafc-44fc-ad76-e1370bc1aeed",
        "colab": {
          "base_uri": "https://localhost:8080/",
          "height": 34
        }
      },
      "source": [
        "y_prediction = logisticRegressionClassifier.predict(X_test)\n",
        "\n",
        "# Compare actual target values (y_test) with predicted predicted values (y_pred)\n",
        "print(metrics.accuracy_score(y_test, y_prediction))"
      ],
      "execution_count": 15,
      "outputs": [
        {
          "output_type": "stream",
          "text": [
            "0.9666666666666667\n"
          ],
          "name": "stdout"
        }
      ]
    },
    {
      "cell_type": "markdown",
      "metadata": {
        "colab_type": "text",
        "id": "EOngOyd2wjfk"
      },
      "source": [
        "### **#2. Classifier: K-Nearest Neighbors**"
      ]
    },
    {
      "cell_type": "markdown",
      "metadata": {
        "id": "NEOEmB1Sxf_R",
        "colab_type": "text"
      },
      "source": [
        "### **KNN (K=5)**"
      ]
    },
    {
      "cell_type": "code",
      "metadata": {
        "id": "KFWdn7dCxBiz",
        "colab_type": "code",
        "outputId": "f508e829-9aa6-47c8-a534-cdc4b03a58b4",
        "colab": {
          "base_uri": "https://localhost:8080/",
          "height": 34
        }
      },
      "source": [
        "knnClassifier = KNeighborsClassifier(n_neighbors = 5)\n",
        "knnClassifier.fit(X_train, y_train)\n",
        "y_prediction = knnClassifier.predict(X_test)\n",
        "print(metrics.accuracy_score(y_test, y_prediction))"
      ],
      "execution_count": 16,
      "outputs": [
        {
          "output_type": "stream",
          "text": [
            "0.9666666666666667\n"
          ],
          "name": "stdout"
        }
      ]
    },
    {
      "cell_type": "markdown",
      "metadata": {
        "colab_type": "text",
        "id": "lkymwYQvyD_L"
      },
      "source": [
        "### **KNN (K=1)**"
      ]
    },
    {
      "cell_type": "code",
      "metadata": {
        "id": "j7M1qZtjyGHP",
        "colab_type": "code",
        "outputId": "79e2344c-b69f-4fca-83c4-34a59f26106b",
        "colab": {
          "base_uri": "https://localhost:8080/",
          "height": 34
        }
      },
      "source": [
        "knnClassifier = KNeighborsClassifier(n_neighbors = 1)\n",
        "knnClassifier.fit(X_train, y_train)\n",
        "y_prediction = knnClassifier.predict(X_test)\n",
        "print(metrics.accuracy_score(y_test, y_prediction))"
      ],
      "execution_count": 17,
      "outputs": [
        {
          "output_type": "stream",
          "text": [
            "0.95\n"
          ],
          "name": "stdout"
        }
      ]
    }
  ]
}