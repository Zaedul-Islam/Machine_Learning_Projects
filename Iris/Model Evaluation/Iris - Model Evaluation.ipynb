{
  "nbformat": 4,
  "nbformat_minor": 0,
  "metadata": {
    "colab": {
      "name": "Iris - Model Evaluation.ipynb",
      "provenance": [],
      "collapsed_sections": [],
      "authorship_tag": "ABX9TyOxckjGQguMkKEYCvBl2A8l",
      "include_colab_link": true
    },
    "kernelspec": {
      "name": "python3",
      "display_name": "Python 3"
    }
  },
  "cells": [
    {
      "cell_type": "markdown",
      "metadata": {
        "id": "view-in-github",
        "colab_type": "text"
      },
      "source": [
        "<a href=\"https://colab.research.google.com/github/Zaedul-Islam/Machine_Learning_Projects/blob/master/Iris/Model%20Evaluation/Iris%20-%20Model%20Evaluation.ipynb\" target=\"_parent\"><img src=\"https://colab.research.google.com/assets/colab-badge.svg\" alt=\"Open In Colab\"/></a>"
      ]
    },
    {
      "cell_type": "markdown",
      "metadata": {
        "id": "cLJvSbNgWz1O",
        "colab_type": "text"
      },
      "source": [
        "# **Comparing machine learning models in scikit-learn**\n",
        "\n",
        "---\n",
        "\n"
      ]
    },
    {
      "cell_type": "markdown",
      "metadata": {
        "id": "XRJtPr0LXbfV",
        "colab_type": "text"
      },
      "source": [
        "## **Evaluation procedure #1: Train and test on the entire dataset**\n",
        "\n",
        "---\n",
        "\n",
        "\n",
        "\n",
        "1.   Train the model on the **entire dataset**.\n",
        "2.   Test the model on the **same dataset**, and evaluate how well we did by comparing the **predicted** target values with the **true** target values."
      ]
    },
    {
      "cell_type": "code",
      "metadata": {
        "id": "wVPjNBO2Wrso",
        "colab_type": "code",
        "colab": {}
      },
      "source": [
        "# import load_iris function from datasets module\n",
        "from sklearn.datasets import load_iris\n",
        "\n",
        "# Load \"bunch\" object containing iris dataset and its attributes\n",
        "iris = load_iris()\n",
        "\n",
        "# Create X (features matrix) and y (target)\n",
        "X = iris.data\n",
        "y = iris.target"
      ],
      "execution_count": 0,
      "outputs": []
    },
    {
      "cell_type": "code",
      "metadata": {
        "id": "a8pVVq0DYMGB",
        "colab_type": "code",
        "outputId": "c6c11c09-841f-4706-c639-484b1037c2b8",
        "colab": {
          "base_uri": "https://localhost:8080/",
          "height": 1000
        }
      },
      "source": [
        "print(X)"
      ],
      "execution_count": 2,
      "outputs": [
        {
          "output_type": "stream",
          "text": [
            "[[5.1 3.5 1.4 0.2]\n",
            " [4.9 3.  1.4 0.2]\n",
            " [4.7 3.2 1.3 0.2]\n",
            " [4.6 3.1 1.5 0.2]\n",
            " [5.  3.6 1.4 0.2]\n",
            " [5.4 3.9 1.7 0.4]\n",
            " [4.6 3.4 1.4 0.3]\n",
            " [5.  3.4 1.5 0.2]\n",
            " [4.4 2.9 1.4 0.2]\n",
            " [4.9 3.1 1.5 0.1]\n",
            " [5.4 3.7 1.5 0.2]\n",
            " [4.8 3.4 1.6 0.2]\n",
            " [4.8 3.  1.4 0.1]\n",
            " [4.3 3.  1.1 0.1]\n",
            " [5.8 4.  1.2 0.2]\n",
            " [5.7 4.4 1.5 0.4]\n",
            " [5.4 3.9 1.3 0.4]\n",
            " [5.1 3.5 1.4 0.3]\n",
            " [5.7 3.8 1.7 0.3]\n",
            " [5.1 3.8 1.5 0.3]\n",
            " [5.4 3.4 1.7 0.2]\n",
            " [5.1 3.7 1.5 0.4]\n",
            " [4.6 3.6 1.  0.2]\n",
            " [5.1 3.3 1.7 0.5]\n",
            " [4.8 3.4 1.9 0.2]\n",
            " [5.  3.  1.6 0.2]\n",
            " [5.  3.4 1.6 0.4]\n",
            " [5.2 3.5 1.5 0.2]\n",
            " [5.2 3.4 1.4 0.2]\n",
            " [4.7 3.2 1.6 0.2]\n",
            " [4.8 3.1 1.6 0.2]\n",
            " [5.4 3.4 1.5 0.4]\n",
            " [5.2 4.1 1.5 0.1]\n",
            " [5.5 4.2 1.4 0.2]\n",
            " [4.9 3.1 1.5 0.2]\n",
            " [5.  3.2 1.2 0.2]\n",
            " [5.5 3.5 1.3 0.2]\n",
            " [4.9 3.6 1.4 0.1]\n",
            " [4.4 3.  1.3 0.2]\n",
            " [5.1 3.4 1.5 0.2]\n",
            " [5.  3.5 1.3 0.3]\n",
            " [4.5 2.3 1.3 0.3]\n",
            " [4.4 3.2 1.3 0.2]\n",
            " [5.  3.5 1.6 0.6]\n",
            " [5.1 3.8 1.9 0.4]\n",
            " [4.8 3.  1.4 0.3]\n",
            " [5.1 3.8 1.6 0.2]\n",
            " [4.6 3.2 1.4 0.2]\n",
            " [5.3 3.7 1.5 0.2]\n",
            " [5.  3.3 1.4 0.2]\n",
            " [7.  3.2 4.7 1.4]\n",
            " [6.4 3.2 4.5 1.5]\n",
            " [6.9 3.1 4.9 1.5]\n",
            " [5.5 2.3 4.  1.3]\n",
            " [6.5 2.8 4.6 1.5]\n",
            " [5.7 2.8 4.5 1.3]\n",
            " [6.3 3.3 4.7 1.6]\n",
            " [4.9 2.4 3.3 1. ]\n",
            " [6.6 2.9 4.6 1.3]\n",
            " [5.2 2.7 3.9 1.4]\n",
            " [5.  2.  3.5 1. ]\n",
            " [5.9 3.  4.2 1.5]\n",
            " [6.  2.2 4.  1. ]\n",
            " [6.1 2.9 4.7 1.4]\n",
            " [5.6 2.9 3.6 1.3]\n",
            " [6.7 3.1 4.4 1.4]\n",
            " [5.6 3.  4.5 1.5]\n",
            " [5.8 2.7 4.1 1. ]\n",
            " [6.2 2.2 4.5 1.5]\n",
            " [5.6 2.5 3.9 1.1]\n",
            " [5.9 3.2 4.8 1.8]\n",
            " [6.1 2.8 4.  1.3]\n",
            " [6.3 2.5 4.9 1.5]\n",
            " [6.1 2.8 4.7 1.2]\n",
            " [6.4 2.9 4.3 1.3]\n",
            " [6.6 3.  4.4 1.4]\n",
            " [6.8 2.8 4.8 1.4]\n",
            " [6.7 3.  5.  1.7]\n",
            " [6.  2.9 4.5 1.5]\n",
            " [5.7 2.6 3.5 1. ]\n",
            " [5.5 2.4 3.8 1.1]\n",
            " [5.5 2.4 3.7 1. ]\n",
            " [5.8 2.7 3.9 1.2]\n",
            " [6.  2.7 5.1 1.6]\n",
            " [5.4 3.  4.5 1.5]\n",
            " [6.  3.4 4.5 1.6]\n",
            " [6.7 3.1 4.7 1.5]\n",
            " [6.3 2.3 4.4 1.3]\n",
            " [5.6 3.  4.1 1.3]\n",
            " [5.5 2.5 4.  1.3]\n",
            " [5.5 2.6 4.4 1.2]\n",
            " [6.1 3.  4.6 1.4]\n",
            " [5.8 2.6 4.  1.2]\n",
            " [5.  2.3 3.3 1. ]\n",
            " [5.6 2.7 4.2 1.3]\n",
            " [5.7 3.  4.2 1.2]\n",
            " [5.7 2.9 4.2 1.3]\n",
            " [6.2 2.9 4.3 1.3]\n",
            " [5.1 2.5 3.  1.1]\n",
            " [5.7 2.8 4.1 1.3]\n",
            " [6.3 3.3 6.  2.5]\n",
            " [5.8 2.7 5.1 1.9]\n",
            " [7.1 3.  5.9 2.1]\n",
            " [6.3 2.9 5.6 1.8]\n",
            " [6.5 3.  5.8 2.2]\n",
            " [7.6 3.  6.6 2.1]\n",
            " [4.9 2.5 4.5 1.7]\n",
            " [7.3 2.9 6.3 1.8]\n",
            " [6.7 2.5 5.8 1.8]\n",
            " [7.2 3.6 6.1 2.5]\n",
            " [6.5 3.2 5.1 2. ]\n",
            " [6.4 2.7 5.3 1.9]\n",
            " [6.8 3.  5.5 2.1]\n",
            " [5.7 2.5 5.  2. ]\n",
            " [5.8 2.8 5.1 2.4]\n",
            " [6.4 3.2 5.3 2.3]\n",
            " [6.5 3.  5.5 1.8]\n",
            " [7.7 3.8 6.7 2.2]\n",
            " [7.7 2.6 6.9 2.3]\n",
            " [6.  2.2 5.  1.5]\n",
            " [6.9 3.2 5.7 2.3]\n",
            " [5.6 2.8 4.9 2. ]\n",
            " [7.7 2.8 6.7 2. ]\n",
            " [6.3 2.7 4.9 1.8]\n",
            " [6.7 3.3 5.7 2.1]\n",
            " [7.2 3.2 6.  1.8]\n",
            " [6.2 2.8 4.8 1.8]\n",
            " [6.1 3.  4.9 1.8]\n",
            " [6.4 2.8 5.6 2.1]\n",
            " [7.2 3.  5.8 1.6]\n",
            " [7.4 2.8 6.1 1.9]\n",
            " [7.9 3.8 6.4 2. ]\n",
            " [6.4 2.8 5.6 2.2]\n",
            " [6.3 2.8 5.1 1.5]\n",
            " [6.1 2.6 5.6 1.4]\n",
            " [7.7 3.  6.1 2.3]\n",
            " [6.3 3.4 5.6 2.4]\n",
            " [6.4 3.1 5.5 1.8]\n",
            " [6.  3.  4.8 1.8]\n",
            " [6.9 3.1 5.4 2.1]\n",
            " [6.7 3.1 5.6 2.4]\n",
            " [6.9 3.1 5.1 2.3]\n",
            " [5.8 2.7 5.1 1.9]\n",
            " [6.8 3.2 5.9 2.3]\n",
            " [6.7 3.3 5.7 2.5]\n",
            " [6.7 3.  5.2 2.3]\n",
            " [6.3 2.5 5.  1.9]\n",
            " [6.5 3.  5.2 2. ]\n",
            " [6.2 3.4 5.4 2.3]\n",
            " [5.9 3.  5.1 1.8]]\n"
          ],
          "name": "stdout"
        }
      ]
    },
    {
      "cell_type": "code",
      "metadata": {
        "id": "i1dzg2lSYN8Z",
        "colab_type": "code",
        "outputId": "599fa8c8-deb2-47a3-c21e-5a18739d6709",
        "colab": {
          "base_uri": "https://localhost:8080/",
          "height": 102
        }
      },
      "source": [
        "print(y)"
      ],
      "execution_count": 3,
      "outputs": [
        {
          "output_type": "stream",
          "text": [
            "[0 0 0 0 0 0 0 0 0 0 0 0 0 0 0 0 0 0 0 0 0 0 0 0 0 0 0 0 0 0 0 0 0 0 0 0 0\n",
            " 0 0 0 0 0 0 0 0 0 0 0 0 0 1 1 1 1 1 1 1 1 1 1 1 1 1 1 1 1 1 1 1 1 1 1 1 1\n",
            " 1 1 1 1 1 1 1 1 1 1 1 1 1 1 1 1 1 1 1 1 1 1 1 1 1 1 2 2 2 2 2 2 2 2 2 2 2\n",
            " 2 2 2 2 2 2 2 2 2 2 2 2 2 2 2 2 2 2 2 2 2 2 2 2 2 2 2 2 2 2 2 2 2 2 2 2 2\n",
            " 2 2]\n"
          ],
          "name": "stdout"
        }
      ]
    },
    {
      "cell_type": "markdown",
      "metadata": {
        "id": "0J3xklcBZLiU",
        "colab_type": "text"
      },
      "source": [
        "## **#1. Classifier: Logistic Regression**"
      ]
    },
    {
      "cell_type": "code",
      "metadata": {
        "id": "D2Igut17ZSqN",
        "colab_type": "code",
        "outputId": "14eec500-6442-4380-b89f-4f7676079704",
        "colab": {
          "base_uri": "https://localhost:8080/",
          "height": 102
        }
      },
      "source": [
        "# Import the class\n",
        "from sklearn.linear_model import LogisticRegression\n",
        "\n",
        "# Instantiate the model (using the default parameters)\n",
        "logisticRegressionClassifier = LogisticRegression()\n",
        "\n",
        "print(logisticRegressionClassifier)"
      ],
      "execution_count": 4,
      "outputs": [
        {
          "output_type": "stream",
          "text": [
            "LogisticRegression(C=1.0, class_weight=None, dual=False, fit_intercept=True,\n",
            "                   intercept_scaling=1, l1_ratio=None, max_iter=100,\n",
            "                   multi_class='auto', n_jobs=None, penalty='l2',\n",
            "                   random_state=None, solver='lbfgs', tol=0.0001, verbose=0,\n",
            "                   warm_start=False)\n"
          ],
          "name": "stdout"
        }
      ]
    },
    {
      "cell_type": "code",
      "metadata": {
        "id": "-NaBWH3raCDe",
        "colab_type": "code",
        "outputId": "7829d262-ee3a-41c3-f6c1-be4eb4a78971",
        "colab": {
          "base_uri": "https://localhost:8080/",
          "height": 272
        }
      },
      "source": [
        "# Fit the model with data\n",
        "logisticRegressionClassifier.fit(X, y)\n",
        "\n",
        "# Predict the target values for the observations in X\n",
        "logisticRegressionClassifier.predict(X)"
      ],
      "execution_count": 5,
      "outputs": [
        {
          "output_type": "stream",
          "text": [
            "/usr/local/lib/python3.6/dist-packages/sklearn/linear_model/_logistic.py:940: ConvergenceWarning: lbfgs failed to converge (status=1):\n",
            "STOP: TOTAL NO. of ITERATIONS REACHED LIMIT.\n",
            "\n",
            "Increase the number of iterations (max_iter) or scale the data as shown in:\n",
            "    https://scikit-learn.org/stable/modules/preprocessing.html\n",
            "Please also refer to the documentation for alternative solver options:\n",
            "    https://scikit-learn.org/stable/modules/linear_model.html#logistic-regression\n",
            "  extra_warning_msg=_LOGISTIC_SOLVER_CONVERGENCE_MSG)\n"
          ],
          "name": "stderr"
        },
        {
          "output_type": "execute_result",
          "data": {
            "text/plain": [
              "array([0, 0, 0, 0, 0, 0, 0, 0, 0, 0, 0, 0, 0, 0, 0, 0, 0, 0, 0, 0, 0, 0,\n",
              "       0, 0, 0, 0, 0, 0, 0, 0, 0, 0, 0, 0, 0, 0, 0, 0, 0, 0, 0, 0, 0, 0,\n",
              "       0, 0, 0, 0, 0, 0, 1, 1, 1, 1, 1, 1, 1, 1, 1, 1, 1, 1, 1, 1, 1, 1,\n",
              "       1, 1, 1, 1, 2, 1, 1, 1, 1, 1, 1, 2, 1, 1, 1, 1, 1, 2, 1, 1, 1, 1,\n",
              "       1, 1, 1, 1, 1, 1, 1, 1, 1, 1, 1, 1, 2, 2, 2, 2, 2, 2, 1, 2, 2, 2,\n",
              "       2, 2, 2, 2, 2, 2, 2, 2, 2, 2, 2, 2, 2, 2, 2, 2, 2, 2, 2, 2, 2, 2,\n",
              "       2, 2, 2, 2, 2, 2, 2, 2, 2, 2, 2, 2, 2, 2, 2, 2, 2, 2])"
            ]
          },
          "metadata": {
            "tags": []
          },
          "execution_count": 5
        }
      ]
    },
    {
      "cell_type": "code",
      "metadata": {
        "id": "78KwqWaHauYg",
        "colab_type": "code",
        "outputId": "2ef0f7d8-43b6-4fdc-d7ab-1e47a644702b",
        "colab": {
          "base_uri": "https://localhost:8080/",
          "height": 34
        }
      },
      "source": [
        "# Store the predicted target values\n",
        "y_prediction = logisticRegressionClassifier.predict(X)\n",
        "\n",
        "# Check how many predictions were generated\n",
        "len(y_prediction)"
      ],
      "execution_count": 6,
      "outputs": [
        {
          "output_type": "execute_result",
          "data": {
            "text/plain": [
              "150"
            ]
          },
          "metadata": {
            "tags": []
          },
          "execution_count": 6
        }
      ]
    },
    {
      "cell_type": "markdown",
      "metadata": {
        "id": "QcVwYMy1bU_-",
        "colab_type": "text"
      },
      "source": [
        "**Classification accuracy (a numerical way how a model performs):**\n",
        "\n",
        "*   **Proportion** of correct predictions. This is known as a evaluation metric. There're many possible evaluation metrics \n",
        "*   Common **evaluation metric** for classification problems: *`metrics`* module from scikit-learn\n"
      ]
    },
    {
      "cell_type": "code",
      "metadata": {
        "id": "rU2uE5x1cCSB",
        "colab_type": "code",
        "outputId": "6e31cf7c-bc92-402b-8e7b-ba485f52333e",
        "colab": {
          "base_uri": "https://localhost:8080/",
          "height": 34
        }
      },
      "source": [
        "# Compute classification accuracy for the logistic regression model\n",
        "from sklearn import metrics\n",
        "\n",
        "print(metrics.accuracy_score(y, y_prediction))"
      ],
      "execution_count": 7,
      "outputs": [
        {
          "output_type": "stream",
          "text": [
            "0.9733333333333334\n"
          ],
          "name": "stdout"
        }
      ]
    },
    {
      "cell_type": "markdown",
      "metadata": {
        "id": "B9zeGp_cdMQ8",
        "colab_type": "text"
      },
      "source": [
        "\n",
        "*   97% of predictions are correct\n",
        "*   Known as **training accuracy** when you train and test the model on the same data\n",
        "\n",
        "\n"
      ]
    },
    {
      "cell_type": "markdown",
      "metadata": {
        "id": "Mwmtc9zjfBdK",
        "colab_type": "text"
      },
      "source": [
        "## **#2. Classifier: K-Nearest Neighbors**"
      ]
    },
    {
      "cell_type": "markdown",
      "metadata": {
        "id": "3uQNZTSufNcj",
        "colab_type": "text"
      },
      "source": [
        "### **KNN (K=5)**"
      ]
    },
    {
      "cell_type": "code",
      "metadata": {
        "id": "-AXa9fCZffFP",
        "colab_type": "code",
        "outputId": "a0025a7b-1c66-4d1b-fe68-e64c90c3df4c",
        "colab": {
          "base_uri": "https://localhost:8080/",
          "height": 34
        }
      },
      "source": [
        "from sklearn.neighbors import KNeighborsClassifier\n",
        "knnClassifier = KNeighborsClassifier(n_neighbors = 5)\n",
        "knnClassifier.fit(X, y)\n",
        "y_prediction = knnClassifier.predict(X)\n",
        "print(metrics.accuracy_score(y, y_prediction))"
      ],
      "execution_count": 8,
      "outputs": [
        {
          "output_type": "stream",
          "text": [
            "0.9666666666666667\n"
          ],
          "name": "stdout"
        }
      ]
    },
    {
      "cell_type": "markdown",
      "metadata": {
        "id": "Dtb0jXsPgMTj",
        "colab_type": "text"
      },
      "source": [
        "### **KNN (K=1)**"
      ]
    },
    {
      "cell_type": "code",
      "metadata": {
        "id": "3T8bVTIhgHFZ",
        "colab_type": "code",
        "outputId": "0ea9201f-3a74-4616-9abe-a492db2c3732",
        "colab": {
          "base_uri": "https://localhost:8080/",
          "height": 34
        }
      },
      "source": [
        "knnClassifier = KNeighborsClassifier(n_neighbors=1)\n",
        "knnClassifier.fit(X, y)\n",
        "y_prediction = knnClassifier.predict(X)\n",
        "print(metrics.accuracy_score(y, y_prediction))"
      ],
      "execution_count": 9,
      "outputs": [
        {
          "output_type": "stream",
          "text": [
            "1.0\n"
          ],
          "name": "stdout"
        }
      ]
    },
    {
      "cell_type": "markdown",
      "metadata": {
        "id": "-VewuqYZgsAQ",
        "colab_type": "text"
      },
      "source": [
        "***So, it can be concluded that KNN with K=1 is the best model to use with the Iris dataset.***"
      ]
    },
    {
      "cell_type": "markdown",
      "metadata": {
        "id": "gKNH_h7V2DtO",
        "colab_type": "text"
      },
      "source": [
        "## **Problems with training and testing on the same data**\n",
        "\n",
        "---\n",
        "\n",
        "* Goal is to estimate likely performance of a model on **out-of-sample data** meaning future observations in which we don't know the true target values\n",
        "* But, maximizing training accuracy rewards **overly complex models** that won't necessarily generalize to future cases\n",
        "* Unnecessarily complex models **overfit** the training data. Models that overfit learn the noise in the data rather than the signal.\n",
        "* In the case of KNN, a very low of K creates a high complexity models because if follows the noise in the data."
      ]
    },
    {
      "cell_type": "markdown",
      "metadata": {
        "id": "8NJFv8uLsp1a",
        "colab_type": "text"
      },
      "source": [
        "## **Evaluation procedure #2: Train/test split**\n",
        "\n",
        "---\n",
        "\n",
        "\n",
        "\n",
        "1. Split the dataset into two pieces: a **training set** and a **testing set**.\n",
        "2. Train the model on the **training set**.\n",
        "3. Test the model on the **testing set**, and evaluate how well we did.\n",
        "\n"
      ]
    },
    {
      "cell_type": "markdown",
      "metadata": {
        "id": "xDTG8E5mKfUd",
        "colab_type": "text"
      },
      "source": [
        "![alt text](https://github.com/justmarkham/scikit-learn-videos/raw/cec096b944cbd8d8973b728d45275e4c0c6cc139/images/05_overfitting.png)"
      ]
    },
    {
      "cell_type": "code",
      "metadata": {
        "id": "y-S4lmkWtLYJ",
        "colab_type": "code",
        "outputId": "78510ab1-90cd-4764-f36e-9b53c46c0464",
        "colab": {
          "base_uri": "https://localhost:8080/",
          "height": 51
        }
      },
      "source": [
        "# Print the shapes of X and y\n",
        "print(X.shape)\n",
        "print(y.shape)"
      ],
      "execution_count": 10,
      "outputs": [
        {
          "output_type": "stream",
          "text": [
            "(150, 4)\n",
            "(150,)\n"
          ],
          "name": "stdout"
        }
      ]
    },
    {
      "cell_type": "markdown",
      "metadata": {
        "colab_type": "text",
        "id": "zhdKmAU_wr37"
      },
      "source": [
        "### **#1. Classifier: Logistic Regression**"
      ]
    },
    {
      "cell_type": "markdown",
      "metadata": {
        "id": "K9oNG8Jdt07t",
        "colab_type": "text"
      },
      "source": [
        "**STEP 1: Split X and y into training and testing sets**"
      ]
    },
    {
      "cell_type": "code",
      "metadata": {
        "id": "g_Bh6dKJtd9x",
        "colab_type": "code",
        "colab": {}
      },
      "source": [
        "from sklearn.model_selection import train_test_split\n",
        "X_train, X_test, y_train, y_test = train_test_split(X, y, test_size = 0.4, random_state = 4)"
      ],
      "execution_count": 0,
      "outputs": []
    },
    {
      "cell_type": "markdown",
      "metadata": {
        "id": "4GOn6t3xCaD9",
        "colab_type": "text"
      },
      "source": [
        "*`test_size`*: There's no general as to what percentage is the best. But it's usual to use 20% to 40% of the data for testing."
      ]
    },
    {
      "cell_type": "markdown",
      "metadata": {
        "id": "Zprg_ZHABIFM",
        "colab_type": "text"
      },
      "source": [
        "Running the **train_test_split** on **X** and **y** will yeild to as something like below.\n",
        "![alt text](https://github.com/justmarkham/scikit-learn-videos/raw/cec096b944cbd8d8973b728d45275e4c0c6cc139/images/05_train_test_split.png)\n"
      ]
    },
    {
      "cell_type": "markdown",
      "metadata": {
        "id": "lvGRGXx3COI_",
        "colab_type": "text"
      },
      "source": [
        "**What did this accomplish?**\n",
        "\n",
        "* Model can be trained and tested on **different data**\n",
        "* Target values are known for the testing set, and thus **predictions can be evaluated**\n",
        "* **Testing accuracy** is a better estimate than training accuracy of out-of-sample performance"
      ]
    },
    {
      "cell_type": "code",
      "metadata": {
        "id": "TwqtaEHiubjw",
        "colab_type": "code",
        "outputId": "ae0b55e1-e6ff-4338-ea81-020c6b9bb33b",
        "colab": {
          "base_uri": "https://localhost:8080/",
          "height": 51
        }
      },
      "source": [
        "# Print the shapes of the new X objects\n",
        "print(X_train.shape)\n",
        "print(X_test.shape)"
      ],
      "execution_count": 12,
      "outputs": [
        {
          "output_type": "stream",
          "text": [
            "(90, 4)\n",
            "(60, 4)\n"
          ],
          "name": "stdout"
        }
      ]
    },
    {
      "cell_type": "code",
      "metadata": {
        "id": "dBhdcRUtusLw",
        "colab_type": "code",
        "outputId": "8489ff0f-bed1-4eb5-dd08-22329542b241",
        "colab": {
          "base_uri": "https://localhost:8080/",
          "height": 51
        }
      },
      "source": [
        "# Print the shapes of the new y objects\n",
        "print(y_train.shape)\n",
        "print(y_test.shape)"
      ],
      "execution_count": 13,
      "outputs": [
        {
          "output_type": "stream",
          "text": [
            "(90,)\n",
            "(60,)\n"
          ],
          "name": "stdout"
        }
      ]
    },
    {
      "cell_type": "markdown",
      "metadata": {
        "id": "Ej2l5XywvIz4",
        "colab_type": "text"
      },
      "source": [
        "**STEP 2: Train the model on the training set**"
      ]
    },
    {
      "cell_type": "code",
      "metadata": {
        "id": "IvPnLmhRvITJ",
        "colab_type": "code",
        "outputId": "3b056d62-7540-4b2d-f4fd-bb1697473c9a",
        "colab": {
          "base_uri": "https://localhost:8080/",
          "height": 102
        }
      },
      "source": [
        "logisticRegressionClassifier = LogisticRegression()\n",
        "logisticRegressionClassifier.fit(X_train, y_train)"
      ],
      "execution_count": 14,
      "outputs": [
        {
          "output_type": "execute_result",
          "data": {
            "text/plain": [
              "LogisticRegression(C=1.0, class_weight=None, dual=False, fit_intercept=True,\n",
              "                   intercept_scaling=1, l1_ratio=None, max_iter=100,\n",
              "                   multi_class='auto', n_jobs=None, penalty='l2',\n",
              "                   random_state=None, solver='lbfgs', tol=0.0001, verbose=0,\n",
              "                   warm_start=False)"
            ]
          },
          "metadata": {
            "tags": []
          },
          "execution_count": 14
        }
      ]
    },
    {
      "cell_type": "markdown",
      "metadata": {
        "id": "EucaU3-Sv3hC",
        "colab_type": "text"
      },
      "source": [
        "**STEP 3: Make predictions on the testing set**"
      ]
    },
    {
      "cell_type": "code",
      "metadata": {
        "id": "5efbt7-Xvlzy",
        "colab_type": "code",
        "outputId": "cc93a05a-aafc-44fc-ad76-e1370bc1aeed",
        "colab": {
          "base_uri": "https://localhost:8080/",
          "height": 34
        }
      },
      "source": [
        "y_prediction = logisticRegressionClassifier.predict(X_test)\n",
        "\n",
        "# Compare actual target values (y_test) with predicted predicted values (y_pred)\n",
        "print(metrics.accuracy_score(y_test, y_prediction))"
      ],
      "execution_count": 15,
      "outputs": [
        {
          "output_type": "stream",
          "text": [
            "0.9666666666666667\n"
          ],
          "name": "stdout"
        }
      ]
    },
    {
      "cell_type": "markdown",
      "metadata": {
        "colab_type": "text",
        "id": "EOngOyd2wjfk"
      },
      "source": [
        "### **#2. Classifier: K-Nearest Neighbors**"
      ]
    },
    {
      "cell_type": "markdown",
      "metadata": {
        "id": "NEOEmB1Sxf_R",
        "colab_type": "text"
      },
      "source": [
        "### **KNN (K=5)**"
      ]
    },
    {
      "cell_type": "code",
      "metadata": {
        "id": "KFWdn7dCxBiz",
        "colab_type": "code",
        "outputId": "f508e829-9aa6-47c8-a534-cdc4b03a58b4",
        "colab": {
          "base_uri": "https://localhost:8080/",
          "height": 34
        }
      },
      "source": [
        "knnClassifier = KNeighborsClassifier(n_neighbors = 5)\n",
        "knnClassifier.fit(X_train, y_train)\n",
        "y_prediction = knnClassifier.predict(X_test)\n",
        "print(metrics.accuracy_score(y_test, y_prediction))"
      ],
      "execution_count": 16,
      "outputs": [
        {
          "output_type": "stream",
          "text": [
            "0.9666666666666667\n"
          ],
          "name": "stdout"
        }
      ]
    },
    {
      "cell_type": "markdown",
      "metadata": {
        "colab_type": "text",
        "id": "lkymwYQvyD_L"
      },
      "source": [
        "### **KNN (K=1)**"
      ]
    },
    {
      "cell_type": "code",
      "metadata": {
        "id": "j7M1qZtjyGHP",
        "colab_type": "code",
        "outputId": "79e2344c-b69f-4fca-83c4-34a59f26106b",
        "colab": {
          "base_uri": "https://localhost:8080/",
          "height": 34
        }
      },
      "source": [
        "knnClassifier = KNeighborsClassifier(n_neighbors = 1)\n",
        "knnClassifier.fit(X_train, y_train)\n",
        "y_prediction = knnClassifier.predict(X_test)\n",
        "print(metrics.accuracy_score(y_test, y_prediction))"
      ],
      "execution_count": 17,
      "outputs": [
        {
          "output_type": "stream",
          "text": [
            "0.95\n"
          ],
          "name": "stdout"
        }
      ]
    },
    {
      "cell_type": "markdown",
      "metadata": {
        "id": "1CP5qyafEsxV",
        "colab_type": "text"
      },
      "source": [
        "***So, it can be concluded that KNN with K=5 and Logistic Regression are likely to be the best model to use with the Iris dataset.***"
      ]
    },
    {
      "cell_type": "markdown",
      "metadata": {
        "id": "Gz6BrjurFQGH",
        "colab_type": "text"
      },
      "source": [
        "### **Can we locate an even better value for K?**\n",
        "\n",
        "---\n"
      ]
    },
    {
      "cell_type": "code",
      "metadata": {
        "id": "UOxj3DsfFU-D",
        "colab_type": "code",
        "colab": {}
      },
      "source": [
        ""
      ],
      "execution_count": 0,
      "outputs": []
    }
  ]
}