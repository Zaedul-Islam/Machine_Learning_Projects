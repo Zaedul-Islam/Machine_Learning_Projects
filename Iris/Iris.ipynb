{
  "nbformat": 4,
  "nbformat_minor": 0,
  "metadata": {
    "colab": {
      "name": "Iris.ipynb",
      "provenance": [],
      "collapsed_sections": [],
      "authorship_tag": "ABX9TyNcvHBj2MZeuU/A/JBN0cY5",
      "include_colab_link": true
    },
    "kernelspec": {
      "name": "python3",
      "display_name": "Python 3"
    }
  },
  "cells": [
    {
      "cell_type": "markdown",
      "metadata": {
        "id": "view-in-github",
        "colab_type": "text"
      },
      "source": [
        "<a href=\"https://colab.research.google.com/github/Zaedul-Islam/Machine_Learning_Projects/blob/master/Iris/Iris.ipynb\" target=\"_parent\"><img src=\"https://colab.research.google.com/assets/colab-badge.svg\" alt=\"Open In Colab\"/></a>"
      ]
    },
    {
      "cell_type": "markdown",
      "metadata": {
        "id": "j2f2js4O3RU8",
        "colab_type": "text"
      },
      "source": [
        "**Loading the iris dataset**"
      ]
    },
    {
      "cell_type": "code",
      "metadata": {
        "id": "5c0xkCoV3loI",
        "colab_type": "code",
        "colab": {}
      },
      "source": [
        "# import load_iris function from datasets module\n",
        "from sklearn.datasets import load_iris\n",
        "\n",
        "# Load \"bunch\" object containing iris dataset and its attributes\n",
        "iris = load_iris()\n",
        "\n",
        "# Store feature matrix in \"X\"\n",
        "X = iris.data\n",
        "\n",
        "# Store target in \"y\"\n",
        "y = iris.target"
      ],
      "execution_count": 0,
      "outputs": []
    },
    {
      "cell_type": "code",
      "metadata": {
        "id": "KfMscxo95f8V",
        "colab_type": "code",
        "outputId": "23ab93da-fcba-493b-cdeb-68f8b779e84b",
        "colab": {
          "base_uri": "https://localhost:8080/",
          "height": 51
        }
      },
      "source": [
        "# Print the shapes of X and y\n",
        "print(X.shape)\n",
        "print(y.shape)"
      ],
      "execution_count": 0,
      "outputs": [
        {
          "output_type": "stream",
          "text": [
            "(150, 4)\n",
            "(150,)\n"
          ],
          "name": "stdout"
        }
      ]
    },
    {
      "cell_type": "markdown",
      "metadata": {
        "id": "220F4Zst9gLz",
        "colab_type": "text"
      },
      "source": [
        "**scikit-learn 4-step modeling template**"
      ]
    },
    {
      "cell_type": "markdown",
      "metadata": {
        "id": "utKDx9xn98M5",
        "colab_type": "text"
      },
      "source": [
        "**Step 1:** Import the corresponding class"
      ]
    },
    {
      "cell_type": "code",
      "metadata": {
        "id": "xGAp4Ajg-GsQ",
        "colab_type": "code",
        "colab": {}
      },
      "source": [
        "from sklearn.neighbors import KNeighborsClassifier"
      ],
      "execution_count": 0,
      "outputs": []
    }
  ]
}